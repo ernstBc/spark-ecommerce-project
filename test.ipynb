{
 "cells": [
  {
   "cell_type": "code",
   "execution_count": 1,
   "id": "62de4fd4",
   "metadata": {},
   "outputs": [],
   "source": [
    "from pyspark.sql import SparkSession\n",
    "\n",
    "\n",
    "spark = SparkSession.builder.appName('test').getOrCreate()"
   ]
  },
  {
   "cell_type": "code",
   "execution_count": 2,
   "id": "805d628d",
   "metadata": {},
   "outputs": [],
   "source": [
    "from src.config.schema import CUSTOMER_DATASET_SCHEMA, ORDERS_DATASET_SCHEMA, ORDER_ITEMS_DATASET_SCHEMA, PAYMENTS_DATASET_SCHEMA, REVIEWS_DATASET_SCHEMA, GEOLOCATION_DATASET_SCHEMA, PRODUCTS_DATASET_SCHEMA, SELLERS_DATASET_SCHEMA, TRANSLATIONS_DATASET_SCHEMA"
   ]
  },
  {
   "cell_type": "code",
   "execution_count": 3,
   "id": "c2c2316f",
   "metadata": {},
   "outputs": [],
   "source": [
    "from src.config.config import (CUSTOMER_DATASET,\n",
    "                               ORDER_DATASET,\n",
    "                               ORDER_ITEMS_DATASET,\n",
    "                               ORDER_PAYMENTS_DATASET,\n",
    "                               ORDER_REVIEWS_DATASET,\n",
    "                               PRODUCTS_DATASET,\n",
    "                               SELLERS_DATASET,\n",
    "                               GEOLOCATION_DATASET,\n",
    "                               PRODUCT_TRANSLATIONS\n",
    "                               )"
   ]
  },
  {
   "cell_type": "code",
   "execution_count": 7,
   "id": "747dd26f",
   "metadata": {},
   "outputs": [],
   "source": [
    "hdfs_path = 'data/olist/'\n",
    "\n",
    "customer_dataset = spark.read.csv(hdfs_path + CUSTOMER_DATASET, header=True, schema=CUSTOMER_DATASET_SCHEMA)\n",
    "order_dataset = spark.read.csv(hdfs_path + ORDER_DATASET, header=True, schema=ORDERS_DATASET_SCHEMA)\n",
    "items_dataset = spark.read.csv(hdfs_path + ORDER_ITEMS_DATASET, header=True, schema=ORDER_ITEMS_DATASET_SCHEMA)\n",
    "payments_dataset = spark.read.csv(hdfs_path + ORDER_PAYMENTS_DATASET, header=True, schema=PAYMENTS_DATASET_SCHEMA)\n",
    "reviews_dataset = spark.read.csv(hdfs_path + ORDER_REVIEWS_DATASET, header=True, schema=REVIEWS_DATASET_SCHEMA)\n",
    "geolocation_dataset = spark.read.csv(hdfs_path + GEOLOCATION_DATASET, header=True, schema=GEOLOCATION_DATASET_SCHEMA)\n",
    "products_dataset = spark.read.csv(hdfs_path + PRODUCTS_DATASET, header=True, schema=PRODUCTS_DATASET_SCHEMA)\n",
    "sellers_dataset = spark.read.csv(hdfs_path + SELLERS_DATASET, header=True, schema=SELLERS_DATASET_SCHEMA)\n",
    "translations = spark.read.csv(hdfs_path + PRODUCT_TRANSLATIONS, header=True, schema=TRANSLATIONS_DATASET_SCHEMA)"
   ]
  }
 ],
 "metadata": {
  "kernelspec": {
   "display_name": "venv",
   "language": "python",
   "name": "python3"
  },
  "language_info": {
   "codemirror_mode": {
    "name": "ipython",
    "version": 3
   },
   "file_extension": ".py",
   "mimetype": "text/x-python",
   "name": "python",
   "nbconvert_exporter": "python",
   "pygments_lexer": "ipython3",
   "version": "3.12.11"
  }
 },
 "nbformat": 4,
 "nbformat_minor": 5
}
