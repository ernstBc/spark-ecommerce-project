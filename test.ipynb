{
 "cells": [
  {
   "cell_type": "code",
   "execution_count": 45,
   "id": "7e7e3064",
   "metadata": {},
   "outputs": [],
   "source": [
    "from src.components.transform import Transform\n",
    "from pyspark.sql import SparkSession\n",
    "\n",
    "spark = SparkSession.builder.appName('test').getOrCreate()\n",
    "\n",
    "t = Transform(spark)"
   ]
  },
  {
   "cell_type": "code",
   "execution_count": 46,
   "id": "c49ed5ae",
   "metadata": {},
   "outputs": [
    {
     "data": {
      "text/plain": [
       "DataFrame[customer_city: string, customer_geo_lat_mean: double, customer_geo_lng_mean: double, customer_id: string, customer_state: string, customer_unique_id: string, customer_zip_code_prefix: string, freight_value: float, order_approved_at: timestamp, order_delivered_carrier_date: timestamp, order_delivered_customer_date: timestamp, order_estimated_delivery_date: timestamp, order_id: string, order_item_id: string, order_purchase_timestamp: timestamp, order_status: string, payment_installments: int, payment_sequential: int, payment_type: string, payment_value: float, price: float, product_category_name: string, product_description_lenght: int, product_height_cm: int, product_id: string, product_length_cm: int, product_name_lenght: int, product_photos_qty: int, product_weight_g: int, product_width_cm: int, review_answer_timestamp: timestamp, review_comment_message: string, review_comment_title: string, review_creation_date: timestamp, review_id: string, review_score: float, seller_city: string, seller_geo_lat_mean: double, seller_geo_lng_mean: double, seller_id: string, seller_state: string, seller_zip_code_prefix: string, shipping_limit_date: timestamp]"
      ]
     },
     "execution_count": 46,
     "metadata": {},
     "output_type": "execute_result"
    }
   ],
   "source": [
    "fo = t.transform()\n",
    "fo.cache()"
   ]
  },
  {
   "cell_type": "code",
   "execution_count": 47,
   "id": "4a607396",
   "metadata": {},
   "outputs": [
    {
     "name": "stdout",
     "output_type": "stream",
     "text": [
      "+--------------------+---------------------+---------------------+--------------------+--------------+--------------------+------------------------+-------------+-------------------+----------------------------+-----------------------------+-----------------------------+--------------------+-------------+------------------------+------------+--------------------+------------------+------------+-------------+------+---------------------+--------------------------+-----------------+--------------------+-----------------+-------------------+------------------+----------------+----------------+-----------------------+----------------------+--------------------+--------------------+--------------------+------------+--------------------+-------------------+-------------------+--------------------+------------+----------------------+-------------------+\n",
      "|       customer_city|customer_geo_lat_mean|customer_geo_lng_mean|         customer_id|customer_state|  customer_unique_id|customer_zip_code_prefix|freight_value|  order_approved_at|order_delivered_carrier_date|order_delivered_customer_date|order_estimated_delivery_date|            order_id|order_item_id|order_purchase_timestamp|order_status|payment_installments|payment_sequential|payment_type|payment_value| price|product_category_name|product_description_lenght|product_height_cm|          product_id|product_length_cm|product_name_lenght|product_photos_qty|product_weight_g|product_width_cm|review_answer_timestamp|review_comment_message|review_comment_title|review_creation_date|           review_id|review_score|         seller_city|seller_geo_lat_mean|seller_geo_lng_mean|           seller_id|seller_state|seller_zip_code_prefix|shipping_limit_date|\n",
      "+--------------------+---------------------+---------------------+--------------------+--------------+--------------------+------------------------+-------------+-------------------+----------------------------+-----------------------------+-----------------------------+--------------------+-------------+------------------------+------------+--------------------+------------------+------------+-------------+------+---------------------+--------------------------+-----------------+--------------------+-----------------+-------------------+------------------+----------------+----------------+-----------------------+----------------------+--------------------+--------------------+--------------------+------------+--------------------+-------------------+-------------------+--------------------+------------+----------------------+-------------------+\n",
      "|            mesquita|   -22.78170717523453|  -43.425522378150454|2de342d6e5905a5a8...|            RJ|e8d87ee946600f775...|                   26551|         3.81|2017-07-26 17:50:17|         2017-07-27 19:39:52|          2017-07-31 15:53:33|          2017-08-17 00:00:00|014405982914c2cde...|            1|     2017-07-26 17:38:47|   delivered|                   7|                 1| credit_card|        78.43|  27.9|           perfumaria|                       487|               14|6782d593f63105318...|               16|                 30|                 1|             200|              12|    2017-08-04 19:34:54|                  NULL|                NULL| 2017-08-01 00:00:00|ba5e6d78da2b2c3f5...|         5.0|     taboao da serra|  -23.6111756838285| -46.78672800308619|325f3178fb58e2a97...|          SP|                 06790|2017-08-01 17:50:17|\n",
      "|            mesquita|   -22.78170717523453|  -43.425522378150454|2de342d6e5905a5a8...|            RJ|e8d87ee946600f775...|                   26551|        25.39|2017-07-26 17:50:17|         2017-07-27 19:39:52|          2017-07-31 15:53:33|          2017-08-17 00:00:00|014405982914c2cde...|            2|     2017-07-26 17:38:47|   delivered|                   7|                 1| credit_card|        78.43| 21.33|        esporte_lazer|                      1153|               11|e95ee6822b66ac605...|               17|                 52|                 1|             180|              14|    2017-08-04 19:34:54|                  NULL|                NULL| 2017-08-01 00:00:00|ba5e6d78da2b2c3f5...|         5.0|            sorocaba|-23.497316426816194|-47.501602305536686|a17f621c590ea0fab...|          SP|                 18055|2017-08-01 17:50:17|\n",
      "|        campo grande|  -20.497861794063024|   -54.65611703055246|8cf88d7ba142365ef...|            MS|d29ede26cd3e2817b...|                   79092|         28.5|2018-02-10 13:08:12|         2018-02-14 15:28:51|          2018-02-23 02:03:03|          2018-03-14 00:00:00|019886de8f385a39b...|            1|     2018-02-10 12:52:51|   delivered|                   2|                 1| credit_card|        188.4| 159.9| utilidades_domest...|                      1912|               12|e9a69340883a438c3...|               33|                 60|                 5|            3000|              34|    2018-02-27 15:10:57|  Produto foi entre...|                NULL| 2018-02-24 00:00:00|3a6ebeb7f45583720...|         5.0|         sao ludgero|  -28.3293817960299| -49.17664454533504|1b4c3a6f53068f0b6...|          SC|                 88730|2018-02-15 13:08:12|\n",
      "|        santo angelo|   -28.30487549944622|   -54.26489561127453|71accffbcbdf8e02f...|            RS|31c23262d79bc7e80...|                   98801|         15.1|2018-01-18 10:17:29|         2018-01-22 22:37:04|          2018-02-01 21:02:22|          2018-02-20 00:00:00|01a6ad782455876aa...|            1|     2018-01-18 10:07:52|   delivered|                   5|                 1| credit_card|        50.09| 34.99|            telefonia|                       751|                4|036734b5a58d5d4f4...|               17|                 58|                 5|             300|              12|    2018-02-05 09:59:55|                  NULL|                NULL| 2018-02-02 00:00:00|34fdf58aa22a5d9c4...|         3.0|           sao paulo|-23.625475494949907| -46.61200064199942|ea8482cd71df3c196...|          SP|                 04160|2018-01-24 10:17:29|\n",
      "|ferraz de vasconc...|   -23.54853837630328|   -46.36050908705767|d02cc92f5e33eb58d...|            SP|a7b781410bcc8bbf3...|                   08503|        17.77|2017-08-10 10:25:08|         2017-08-11 19:05:53|          2017-08-16 22:34:11|          2017-08-29 00:00:00|01d907b3e209269e1...|            1|     2017-08-09 16:21:06|   delivered|                  10|                 1| credit_card|       169.76|151.99|      cama_mesa_banho|                       184|               25|b1434a8f79cb35285...|               55|                 57|                 1|           13500|              35|    2017-08-20 20:01:58|                  NULL|                NULL| 2017-08-17 00:00:00|d551da337adf573d0...|         5.0|            ibitinga|-21.757320637469526| -48.82974365874604|d1c281d3ae1492323...|          SP|                 14940|2017-08-16 10:25:08|\n",
      "|                 poa|   -23.52194423675537|   -46.34087463378906|8c89a09d8fb33b6e5...|            SP|148a35e3469010c97...|                   08550|        11.73|2017-12-19 10:53:22|         2017-12-20 16:49:18|          2017-12-21 14:22:56|          2018-01-08 00:00:00|028dc52e12ddda803...|            1|     2017-12-19 09:43:54|   delivered|                   1|                 1|  debit_card|        61.72| 49.99|           brinquedos|                      1150|               33|d86a6c48f83b045cb...|               45|                 58|                 2|            3900|              26|    2017-12-23 13:02:52|  Já comprei divers...|                NULL| 2017-12-22 00:00:00|a096e8952867d5803...|         5.0|           sao paulo| -23.62569907795299| -46.74346786845814|c8b3445d737de6bef...|          SP|                 05734|2017-12-26 10:53:22|\n",
      "|           queimados|   -22.72046599849578|  -43.556797150642645|00f5116a953fdf1b8...|            RJ|9f268d26a5ab98397...|                   26325|        14.14|2017-09-04 22:43:55|         2017-09-05 20:49:41|          2017-09-13 20:36:57|          2017-09-27 00:00:00|036dd381dfb3ec75e...|            1|     2017-09-04 22:25:24|   delivered|                   3|                 1| credit_card|        69.14|  55.0|   relogios_presentes|                       335|                2|aa8d88eb4b9cb3889...|               16|                 54|                 4|             250|              11|    2017-11-04 11:30:12|                  NULL|                NULL| 2017-09-14 00:00:00|32103f7ad6e08ff69...|         5.0|           sao paulo| -23.65236644311385|-46.755753473802045|6560211a19b47992c...|          SP|                 05849|2017-09-11 22:43:55|\n",
      "|         santo andre|  -23.640143759896823|   -46.51615953891077|4024b83c510f00432...|            SP|60389b9628af3e1ed...|                   09280|         8.88|2018-03-23 18:48:53|         2018-03-26 21:17:58|          2018-03-27 15:04:27|          2018-04-05 00:00:00|03ebfa9712b7dbc70...|            1|     2018-03-23 11:20:04|   delivered|                   1|                 1|      boleto|        55.78|  46.9|      eletroportateis|                        90|               35|aa6746e94490239d3...|               16|                 37|                 1|             500|              25|    2018-03-28 19:31:15|                  NULL|                NULL| 2018-03-28 00:00:00|6453879a422cb8285...|         5.0|           sao paulo|-23.676569898923237| -46.66989662912157|9674754b5a0cb32b6...|          SP|                 04438|2018-03-29 18:48:53|\n",
      "|          sao carlos|  -21.986829439798992|   -47.92561826251802|0949b5cf9adad08c1...|            SP|ab2731479851fc801...|                   13563|        14.73|2018-08-09 17:35:18|         2018-08-13 12:48:00|          2018-08-16 19:45:47|          2018-08-21 00:00:00|0420da8d50a378401...|            1|     2018-08-09 16:42:43|   delivered|                   1|                 1| credit_card|        74.63|  59.9|           brinquedos|                       892|               13|5ca739ddd646d1ba5...|               52|                 49|                 2|            1200|              37|    2018-08-20 01:49:39|  O produto e igual...|               Otimo| 2018-08-17 00:00:00|ae0ded69ab7874b11...|         5.0|               tatui|-23.049551694382465| -47.83762142369565|406822777a0b9eb5c...|          SP|                 18500|2018-08-13 17:35:18|\n",
      "|          parnamirim|   -5.883632928133011|   -35.20384979248047|296de103322e463a1...|            RN|7857dff0702239bcf...|                   59151|        22.67|2017-07-25 11:03:10|         2017-07-31 15:49:35|          2017-08-21 21:10:53|          2017-09-04 00:00:00|05afef1c185862cab...|            1|     2017-07-25 10:47:16|   delivered|                   6|                 1| credit_card|       101.32| 27.99| utilidades_domest...|                       241|               30|ac7e981115ad47f0e...|               30|                 42|                 2|             500|              30|    2017-09-01 19:10:24|                  NULL|                NULL| 2017-08-22 00:00:00|671a65bed4c9881a0...|         4.0|            pedreira| -22.74032549764596| -46.89675361034917|53e4c6e0f4312d4d2...|          SP|                 13920|2017-07-31 11:03:10|\n",
      "|          parnamirim|   -5.883632928133011|   -35.20384979248047|296de103322e463a1...|            RN|7857dff0702239bcf...|                   59151|        22.67|2017-07-25 11:03:10|         2017-07-31 15:49:35|          2017-08-21 21:10:53|          2017-09-04 00:00:00|05afef1c185862cab...|            2|     2017-07-25 10:47:16|   delivered|                   6|                 1| credit_card|       101.32| 27.99| utilidades_domest...|                       241|               30|ac7e981115ad47f0e...|               30|                 42|                 2|             500|              30|    2017-09-01 19:10:24|                  NULL|                NULL| 2017-08-22 00:00:00|671a65bed4c9881a0...|         4.0|            pedreira| -22.74032549764596| -46.89675361034917|53e4c6e0f4312d4d2...|          SP|                 13920|2017-07-31 11:03:10|\n",
      "|            sao luis|   -2.500952451728111|   -44.22708369410315|4ff3f3945300d8e04...|            MA|a63af578b9678bf77...|                   65065|        24.52|2018-06-01 10:52:26|         2018-06-01 13:54:00|          2018-06-26 19:03:40|          2018-07-05 00:00:00|05bef443b85068505...|            1|     2018-05-30 16:33:11|   delivered|                   7|                 1| credit_card|        79.52|  55.0| instrumentos_musi...|                       234|               20|44e086c4a977f37a8...|               20|                 60|                 1|             600|              20|    2018-06-29 22:41:03|                  NULL|                NULL| 2018-06-27 00:00:00|77136b940e2015eb1...|         5.0|sao bernardo do c...|-23.715604063393414|  -46.5540850819021|f5a590cf36251cf11...|          SP|                 09720|2018-06-11 10:52:26|\n",
      "|           sao paulo|  -23.592510894104674|   -46.62549362601815|c5a9ffc867b51a706...|            SP|a75583a63d1dc5591...|                   04116|        11.37|2018-08-27 19:35:20|         2018-08-28 19:02:00|          2018-08-29 17:28:25|          2018-09-11 00:00:00|05d46826bd0fb605d...|            1|     2018-08-27 19:21:58|   delivered|                   2|                 1| credit_card|        61.36| 49.99|            alimentos|                       926|               15|e84d1a4a08db13e8d...|               24|                 34|                 2|             700|              24|    2018-08-31 00:46:55|  Chegou super rápi...| Chegou super rapido| 2018-08-30 00:00:00|4ebd94e5936c7f442...|         4.0|           rio claro|-22.391765563964842|-47.548511118570964|7f40d06aa0b5f1aa4...|          SP|                 13506|2018-08-29 19:35:20|\n",
      "|              maceio|   -9.635531966750687|  -35.739750578596784|b6fe463c461a6e4fe...|            AL|ad8dc8878b71d1a54...|                   57055|        57.33|2018-06-14 15:20:49|         2018-06-15 17:25:00|          2018-07-11 00:38:26|          2018-07-19 00:00:00|06fec3f6e9e72edb6...|            1|     2018-06-14 14:55:23|   delivered|                   4|                 1| credit_card|       137.23|  79.9|      cama_mesa_banho|                      1208|                8|8562e2c780a345b60...|               45|                 51|                 1|            1100|              35|    2018-07-12 16:46:43|                  NULL|                NULL| 2018-07-12 00:00:00|4dabd36c045ad78b9...|         2.0|            ibitinga|-21.757320637469526| -48.82974365874604|8160255418d5aaa7d...|          SP|                 14940|2018-06-19 15:20:49|\n",
      "|      belo horizonte|  -19.940411362972558|  -44.018452090118565|aa7885fdaef957a25...|            MG|64c28dc9ff718fe40...|                   30520|        15.15|2017-11-20 12:07:32|         2017-11-22 17:33:05|          2017-11-29 13:51:39|          2017-12-11 00:00:00|077700dcf4e3bb412...|            1|     2017-11-20 11:46:39|   delivered|                   4|                 1| credit_card|       215.05| 199.9|   relogios_presentes|                       436|                7|6cd0d08f09a8b3245...|               16|                 46|                 1|             416|              12|    2017-12-02 22:36:46|                  NULL|                NULL| 2017-11-30 00:00:00|7ca10e3bb1fcea458...|         5.0|              sumare|-22.822136513174396| -47.27033541953727|fa1c13f2614d7b5c4...|          SP|                 13170|2017-11-24 12:07:32|\n",
      "|      belo horizonte|   -19.89826887971038|  -43.920569546572814|0a3459f8f647c5483...|            MG|1f706bf3d8588cd35...|                   31035|        18.69|2018-03-25 11:47:34|         2018-03-26 20:31:39|          2018-03-28 15:48:52|          2018-04-13 00:00:00|078c2d9bb7e5905e8...|            1|     2018-03-25 11:28:16|   delivered|                   1|                 1| credit_card|       135.28|  68.0|      cama_mesa_banho|                      1005|                6|d59349a33fcba1870...|               30|                 50|                 1|             850|              26|    2018-04-02 17:47:34|  Nao recebi a capa...|                NULL| 2018-03-29 00:00:00|0fe1925ee5bc8adcd...|         3.0|     mogi das cruzes| -23.50893888473511|  -46.1500592640468|7d456afc660226829...|          SP|                 08820|2018-03-29 11:47:34|\n",
      "|      belo horizonte|   -19.89826887971038|  -43.920569546572814|0a3459f8f647c5483...|            MG|1f706bf3d8588cd35...|                   31035|        18.69|2018-03-25 11:47:34|         2018-03-26 20:31:39|          2018-03-28 15:48:52|          2018-04-13 00:00:00|078c2d9bb7e5905e8...|            2|     2018-03-25 11:28:16|   delivered|                   1|                 1| credit_card|       135.28|  29.9|      cama_mesa_banho|                       115|               12|ce5a5a85a0704113b...|               19|                 30|                 1|             733|              18|    2018-04-02 17:47:34|  Nao recebi a capa...|                NULL| 2018-03-29 00:00:00|0fe1925ee5bc8adcd...|         3.0|          votorantim| -23.54331954128771|-47.457380133939076|cfb1a033743668a19...|          SP|                 18110|2018-03-29 11:47:34|\n",
      "|           ararangua|  -28.944044521876744|  -49.499183291480655|98910418a06188d89...|            SC|96297b7f2c89525e5...|                   88901|        33.87|2018-04-18 15:45:18|         2018-04-20 00:03:37|          2018-04-25 14:13:54|          2018-05-17 00:00:00|08791ec24b12af5af...|            1|     2018-04-17 08:38:41|   delivered|                   9|                 1| credit_card|       445.87| 412.0| agro_industria_e_...|                       388|               30|11250b0d4b709fee9...|               30|                 28|                 2|            3000|              20|    2018-04-29 01:01:06|  Chegou dentro do ...|                   5| 2018-04-26 00:00:00|63602d1a0f1a329ae...|         5.0|            curitiba| -25.43724978699976| -49.21243592346607|e59aa562b9f8076dd...|          PR|                 82810|2018-04-24 15:31:47|\n",
      "|             palhoca|  -27.636539561636496|   -48.65548941593042|48484f48de7aa7c06...|            SC|25e840a7c51ad06c6...|                   88130|        21.51|2017-11-01 02:06:10|         2017-11-01 19:22:11|          2017-11-07 16:32:13|          2017-11-23 00:00:00|08b450b388221bfe5...|            1|     2017-11-01 01:48:36|   delivered|                   2|                 1| credit_card|       167.41| 145.9|        esporte_lazer|                      3494|               28|9a803c36a15de3fd9...|               29|                 45|                 1|            2693|              26|    2017-12-26 20:11:21|  o produto anuncia...|                NULL| 2017-11-08 00:00:00|bbab8347323754372...|         1.0|            cascavel|-24.949359154433346| -53.44792010275166|df56d7b40d437f884...|          PR|                 85812|2017-11-08 02:06:10|\n",
      "|               natal|   -5.866604377483499|   -35.21027321651064|0f0603d577f299ca1...|            RN|903fccb1294b588a6...|                   59086|         28.0|2017-01-29 22:33:34|         2017-01-30 08:27:47|          2017-02-08 17:14:55|          2017-03-20 00:00:00|0957ed870116e596b...|            1|     2017-01-29 22:14:49|   delivered|                   4|                 1| credit_card|       157.99|129.99|           brinquedos|                      1629|               15|5b8423dc7f23089c9...|               51|                 59|                 3|            5250|              52|    2017-02-10 08:18:57|                  NULL|                NULL| 2017-02-10 00:00:00|25220e954a5481d5b...|         5.0|           joinville| -26.28730662115689| -48.85180161574791|a3a38f4affed601eb...|          SC|                 89204|2017-02-02 22:14:49|\n",
      "+--------------------+---------------------+---------------------+--------------------+--------------+--------------------+------------------------+-------------+-------------------+----------------------------+-----------------------------+-----------------------------+--------------------+-------------+------------------------+------------+--------------------+------------------+------------+-------------+------+---------------------+--------------------------+-----------------+--------------------+-----------------+-------------------+------------------+----------------+----------------+-----------------------+----------------------+--------------------+--------------------+--------------------+------------+--------------------+-------------------+-------------------+--------------------+------------+----------------------+-------------------+\n",
      "only showing top 20 rows\n",
      "\n"
     ]
    }
   ],
   "source": [
    "fo.show()"
   ]
  },
  {
   "cell_type": "code",
   "execution_count": 48,
   "id": "6ee1abec",
   "metadata": {},
   "outputs": [
    {
     "name": "stdout",
     "output_type": "stream",
     "text": [
      "Column: customer_city -- NA 0 \n",
      "\n",
      "Column: customer_geo_lat_mean -- NA 317 \n",
      "\n",
      "Column: customer_geo_lng_mean -- NA 317 \n",
      "\n",
      "Column: customer_id -- NA 0 \n",
      "\n",
      "Column: customer_state -- NA 0 \n",
      "\n",
      "Column: customer_unique_id -- NA 0 \n",
      "\n",
      "Column: customer_zip_code_prefix -- NA 0 \n",
      "\n",
      "Column: freight_value -- NA 0 \n",
      "\n",
      "Column: order_approved_at -- NA 15 \n",
      "\n",
      "Column: order_delivered_carrier_date -- NA 1254 \n",
      "\n",
      "Column: order_delivered_customer_date -- NA 2588 \n",
      "\n",
      "Column: order_estimated_delivery_date -- NA 0 \n",
      "\n",
      "Column: order_id -- NA 0 \n",
      "\n",
      "Column: order_item_id -- NA 0 \n",
      "\n",
      "Column: order_purchase_timestamp -- NA 0 \n",
      "\n",
      "Column: order_status -- NA 0 \n",
      "\n",
      "Column: payment_installments -- NA 3 \n",
      "\n",
      "Column: payment_sequential -- NA 3 \n",
      "\n",
      "Column: payment_type -- NA 3 \n",
      "\n",
      "Column: payment_value -- NA 3 \n",
      "\n",
      "Column: price -- NA 0 \n",
      "\n",
      "Column: product_category_name -- NA 1709 \n",
      "\n",
      "Column: product_description_lenght -- NA 1709 \n",
      "\n",
      "Column: product_height_cm -- NA 0 \n",
      "\n",
      "Column: product_id -- NA 0 \n",
      "\n",
      "Column: product_length_cm -- NA 0 \n",
      "\n",
      "Column: product_name_lenght -- NA 1709 \n",
      "\n",
      "Column: product_photos_qty -- NA 1709 \n",
      "\n",
      "Column: product_weight_g -- NA 0 \n",
      "\n",
      "Column: product_width_cm -- NA 0 \n",
      "\n",
      "Column: review_answer_timestamp -- NA 5808 \n",
      "\n",
      "Column: review_comment_message -- NA 68628 \n",
      "\n",
      "Column: review_comment_title -- NA 104418 \n",
      "\n",
      "Column: review_creation_date -- NA 5868 \n",
      "\n",
      "Column: review_id -- NA 978 \n",
      "\n",
      "Column: review_score -- NA 978 \n",
      "\n",
      "Column: seller_city -- NA 0 \n",
      "\n",
      "Column: seller_geo_lat_mean -- NA 265 \n",
      "\n",
      "Column: seller_geo_lng_mean -- NA 265 \n",
      "\n",
      "Column: seller_id -- NA 0 \n",
      "\n",
      "Column: seller_state -- NA 0 \n",
      "\n",
      "Column: seller_zip_code_prefix -- NA 0 \n",
      "\n",
      "Column: shipping_limit_date -- NA 0 \n",
      "\n"
     ]
    }
   ],
   "source": [
    "from pyspark.sql.functions import col\n",
    "\n",
    "for column in fo.columns:\n",
    "    na_counts = fo.select(column).filter(col(column).isNull()).count()\n",
    "\n",
    "    print(f\"Column: {column} -- NA {na_counts} \\n\")"
   ]
  },
  {
   "cell_type": "markdown",
   "id": "a22da809",
   "metadata": {},
   "source": [
    "order-customer : 0 unmatch\n",
    "\n",
    "order-items: 775 orders which order_id in orders dataset don't have a match with items dataset."
   ]
  },
  {
   "cell_type": "markdown",
   "id": "ecd6bb81",
   "metadata": {},
   "source": [
    "### Problems with Geoolocation Dataset\n",
    "There are 161 zipcodes which are present in customers and sellers dataset but not in geolocation dataset."
   ]
  },
  {
   "cell_type": "code",
   "execution_count": null,
   "id": "6c830be6",
   "metadata": {},
   "outputs": [],
   "source": [
    "from src.config.config import GEOLOCATION_DATASET\n",
    "from pyspark.sql.functions import col\n",
    "\n",
    "geo = spark.read.csv(GEOLOCATION_DATASET, header=True, inferSchema=True)"
   ]
  },
  {
   "cell_type": "code",
   "execution_count": null,
   "id": "21006909",
   "metadata": {},
   "outputs": [
    {
     "data": {
      "text/plain": [
       "161"
      ]
     },
     "execution_count": 38,
     "metadata": {},
     "output_type": "execute_result"
    }
   ],
   "source": [
    "customer_zcode_notin_geodataset=(fo\n",
    "                                 .filter(col('customer_geolocation_state').isNull())\n",
    "                                 .select('customer_zip_code_prefix')\n",
    "                                 .distinct()\n",
    "                                 .toPandas()\n",
    "                                 .loc[:, 'customer_zip_code_prefix']\n",
    "                                 .tolist())\n",
    "\n",
    "seller_zcode_notin_geodataset=(fo\n",
    "                                 .filter(col('seller_geo_lng_mean').isNull())\n",
    "                                 .select('seller_zip_code_prefix')\n",
    "                                 .distinct()\n",
    "                                 .toPandas()\n",
    "                                 .loc[:, 'seller_zip_code_prefix']\n",
    "                                 .tolist())\n",
    "\n",
    "\n",
    "zipcode_not_in_dataset = set(customer_zcode_notin_geodataset + seller_zcode_notin_geodataset)\n",
    "print('Number of zipcode not present in geolocation dataset:', len(zipcode_not_in_dataset))"
   ]
  },
  {
   "cell_type": "code",
   "execution_count": 99,
   "id": "5ebf1b25",
   "metadata": {},
   "outputs": [],
   "source": [
    "from src.components.load import Load\n",
    "\n",
    "l = Load(spark, mode='local')"
   ]
  },
  {
   "cell_type": "code",
   "execution_count": 100,
   "id": "07c6bfa7",
   "metadata": {},
   "outputs": [],
   "source": [
    "l.load(fo, 'x')"
   ]
  },
  {
   "cell_type": "code",
   "execution_count": 101,
   "id": "69dc9927",
   "metadata": {},
   "outputs": [
    {
     "data": {
      "text/plain": [
       "{'connection_properties': {'username': 'username', 'password': 'password'}}"
      ]
     },
     "execution_count": 101,
     "metadata": {},
     "output_type": "execute_result"
    }
   ],
   "source": [
    "import json\n",
    "\n",
    "with open('pg_connection/pg_connection.json', 'r') as file:\n",
    "    data = json.load(file)\n",
    "\n",
    "data"
   ]
  },
  {
   "cell_type": "code",
   "execution_count": 102,
   "id": "c14355ee",
   "metadata": {},
   "outputs": [],
   "source": [
    "data['url'] = 's'"
   ]
  },
  {
   "cell_type": "code",
   "execution_count": 103,
   "id": "4318c0ee",
   "metadata": {},
   "outputs": [
    {
     "data": {
      "text/plain": [
       "{'connection_properties': {'username': 'username', 'password': 'password'},\n",
       " 'url': 's'}"
      ]
     },
     "execution_count": 103,
     "metadata": {},
     "output_type": "execute_result"
    }
   ],
   "source": [
    "data"
   ]
  },
  {
   "cell_type": "code",
   "execution_count": 1,
   "id": "22313644",
   "metadata": {},
   "outputs": [
    {
     "name": "stderr",
     "output_type": "stream",
     "text": [
      "c:\\Users\\ernes\\Documents\\ML Projects\\spark-ecommerce\\venv\\Lib\\site-packages\\tqdm\\auto.py:21: TqdmWarning: IProgress not found. Please update jupyter and ipywidgets. See https://ipywidgets.readthedocs.io/en/stable/user_install.html\n",
      "  from .autonotebook import tqdm as notebook_tqdm\n"
     ]
    }
   ],
   "source": [
    "from src.components.extract import Extract\n",
    "from src.components.transform import Transform\n",
    "from src.components.load import Load\n",
    "from pyspark.sql import SparkSession\n",
    "\n",
    "spark = SparkSession.builder.appName('s').getOrCreate()"
   ]
  },
  {
   "cell_type": "code",
   "execution_count": 2,
   "id": "a33df205",
   "metadata": {},
   "outputs": [],
   "source": [
    "e = Extract()\n"
   ]
  },
  {
   "cell_type": "code",
   "execution_count": 3,
   "id": "6c036428",
   "metadata": {},
   "outputs": [
    {
     "name": "stdout",
     "output_type": "stream",
     "text": [
      "nonononono\n"
     ]
    }
   ],
   "source": [
    "e.extract()"
   ]
  },
  {
   "cell_type": "code",
   "execution_count": 108,
   "id": "150def44",
   "metadata": {},
   "outputs": [],
   "source": [
    "t = Transform(spark)"
   ]
  },
  {
   "cell_type": "code",
   "execution_count": 109,
   "id": "bb2630fb",
   "metadata": {},
   "outputs": [],
   "source": [
    "d = t.transform()"
   ]
  }
 ],
 "metadata": {
  "kernelspec": {
   "display_name": "venv",
   "language": "python",
   "name": "python3"
  },
  "language_info": {
   "codemirror_mode": {
    "name": "ipython",
    "version": 3
   },
   "file_extension": ".py",
   "mimetype": "text/x-python",
   "name": "python",
   "nbconvert_exporter": "python",
   "pygments_lexer": "ipython3",
   "version": "3.12.11"
  }
 },
 "nbformat": 4,
 "nbformat_minor": 5
}
