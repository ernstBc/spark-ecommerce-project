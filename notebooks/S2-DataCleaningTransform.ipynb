{
 "cells": [
  {
   "cell_type": "code",
   "execution_count": 1,
   "id": "568113e5",
   "metadata": {},
   "outputs": [],
   "source": [
    "import os\n",
    "os.chdir('..')"
   ]
  },
  {
   "cell_type": "markdown",
   "id": "eb1279ed",
   "metadata": {},
   "source": [
    "# Data Cleaning And Transformation\n",
    "\n",
    "## 1. Cleaning Steps\n",
    "### 1.1 Identify Issues\n",
    "* Identify missing values, duplicated and invalid data\n",
    "\n",
    "### 1.2 Handle missing values\n",
    "* Drop or fill null values\n",
    "* Impute data\n",
    "\n",
    "### 1.3 Standatize formats\n",
    "* Convert date time\n",
    "* Normalize categorical fields\n",
    "\n",
    "### 1.4 Data Correction\n",
    "* Correct data for each column\n",
    "\n",
    "### 1.5 Deduplication Values\n",
    "* Remove duplicated records\n",
    "\n",
    "## 2. Tranformation Steps\n",
    "\n",
    "### 2.1 Data Engineering\n",
    "* Apply feature engineering\n",
    "\n",
    "### 2.2 Store Data\n",
    "* Store data in HDFS\n",
    "\n"
   ]
  },
  {
   "cell_type": "code",
   "execution_count": 2,
   "id": "7c727400",
   "metadata": {},
   "outputs": [
    {
     "data": {
      "text/html": [
       "\n",
       "            <div>\n",
       "                <p><b>SparkSession - in-memory</b></p>\n",
       "                \n",
       "        <div>\n",
       "            <p><b>SparkContext</b></p>\n",
       "\n",
       "            <p><a href=\"http://LAPTOP-SCS27K3Q:4040\">Spark UI</a></p>\n",
       "\n",
       "            <dl>\n",
       "              <dt>Version</dt>\n",
       "                <dd><code>v3.5.3</code></dd>\n",
       "              <dt>Master</dt>\n",
       "                <dd><code>local[*]</code></dd>\n",
       "              <dt>AppName</dt>\n",
       "                <dd><code>olist</code></dd>\n",
       "            </dl>\n",
       "        </div>\n",
       "        \n",
       "            </div>\n",
       "        "
      ],
      "text/plain": [
       "<pyspark.sql.session.SparkSession at 0x27525f21070>"
      ]
     },
     "execution_count": 2,
     "metadata": {},
     "output_type": "execute_result"
    }
   ],
   "source": [
    "import matplotlib.pyplot as plt\n",
    "import pandas as pd\n",
    "from pyspark.sql import SparkSession\n",
    "from src.config.config import (CUSTOMER_DATASET,\n",
    "                               ORDER_DATASET,\n",
    "                               ORDER_ITEMS_DATASET,\n",
    "                               ORDER_PAYMENTS_DATASET,\n",
    "                               ORDER_REVIEWS_DATASET,\n",
    "                               PRODUCTS_DATASET,\n",
    "                               SELLERS_DATASET,\n",
    "                               GEOLOCATION_DATASET,\n",
    "                               PRODUCT_TRANSLATIONS\n",
    "                               )\n",
    "hdfs_path = 'data/olist/'\n",
    "\n",
    "spark = (SparkSession\n",
    "            .builder\n",
    "            .appName('olist')\n",
    "            .getOrCreate())\n",
    "\n",
    "spark"
   ]
  },
  {
   "cell_type": "code",
   "execution_count": 3,
   "id": "3fa23a34",
   "metadata": {},
   "outputs": [],
   "source": [
    "customer_dataset = spark.read.csv(hdfs_path + CUSTOMER_DATASET, header=True, inferSchema=True)\n",
    "order_dataset = spark.read.csv(hdfs_path + ORDER_DATASET, header=True, inferSchema=True)\n",
    "items_dataset = spark.read.csv(hdfs_path + ORDER_ITEMS_DATASET, header=True, inferSchema=True)\n",
    "payments_dataset = spark.read.csv(hdfs_path + ORDER_PAYMENTS_DATASET, header=True, inferSchema=True)\n",
    "reviews_dataset = spark.read.csv(hdfs_path + ORDER_REVIEWS_DATASET, header=True, inferSchema=True)\n",
    "geolocation_dataset = spark.read.csv(hdfs_path + GEOLOCATION_DATASET, header=True, inferSchema=True)\n",
    "products_dataset = spark.read.csv(hdfs_path + PRODUCTS_DATASET, header=True, inferSchema=True)\n",
    "sellers_dataset = spark.read.csv(hdfs_path + SELLERS_DATASET, header=True, inferSchema=True)\n",
    "translations = spark.read.csv(hdfs_path + PRODUCT_TRANSLATIONS, header=True, inferSchema=True)"
   ]
  },
  {
   "cell_type": "markdown",
   "id": "5c6a3b66",
   "metadata": {},
   "source": [
    "### 1.1 Missing values"
   ]
  },
  {
   "cell_type": "code",
   "execution_count": 4,
   "id": "0e15c858",
   "metadata": {},
   "outputs": [],
   "source": [
    "from pyspark.sql.functions import col"
   ]
  },
  {
   "cell_type": "code",
   "execution_count": 5,
   "id": "4dad4d05",
   "metadata": {},
   "outputs": [],
   "source": [
    "def missing_values(df):\n",
    "    columns = df.columns\n",
    "    report = {}\n",
    "    for column in columns:\n",
    "        n_missing = df.select([column]).filter(col(column).isNull()).count()\n",
    "        report[column] = n_missing\n",
    "\n",
    "    return report"
   ]
  },
  {
   "cell_type": "code",
   "execution_count": 6,
   "id": "a3fe65e5",
   "metadata": {},
   "outputs": [
    {
     "data": {
      "text/plain": [
       "{'customer_id': 0,\n",
       " 'customer_unique_id': 0,\n",
       " 'customer_zip_code_prefix': 0,\n",
       " 'customer_city': 0,\n",
       " 'customer_state': 0}"
      ]
     },
     "execution_count": 6,
     "metadata": {},
     "output_type": "execute_result"
    }
   ],
   "source": [
    "customer_missing = missing_values(customer_dataset)\n",
    "customer_missing"
   ]
  },
  {
   "cell_type": "code",
   "execution_count": 7,
   "id": "975a08d3",
   "metadata": {},
   "outputs": [
    {
     "data": {
      "text/plain": [
       "{'order_id': 0,\n",
       " 'customer_id': 0,\n",
       " 'order_status': 0,\n",
       " 'order_purchase_timestamp': 0,\n",
       " 'order_approved_at': 160,\n",
       " 'order_delivered_carrier_date': 1783,\n",
       " 'order_delivered_customer_date': 2965,\n",
       " 'order_estimated_delivery_date': 0}"
      ]
     },
     "execution_count": 7,
     "metadata": {},
     "output_type": "execute_result"
    }
   ],
   "source": [
    "order_missing=missing_values(order_dataset)\n",
    "order_missing"
   ]
  },
  {
   "cell_type": "code",
   "execution_count": 8,
   "id": "1833fdc0",
   "metadata": {},
   "outputs": [
    {
     "data": {
      "text/plain": [
       "{'order_id': 0,\n",
       " 'order_item_id': 0,\n",
       " 'product_id': 0,\n",
       " 'seller_id': 0,\n",
       " 'shipping_limit_date': 0,\n",
       " 'price': 0,\n",
       " 'freight_value': 0}"
      ]
     },
     "execution_count": 8,
     "metadata": {},
     "output_type": "execute_result"
    }
   ],
   "source": [
    "items_missing=missing_values(items_dataset)\n",
    "items_missing"
   ]
  },
  {
   "cell_type": "code",
   "execution_count": 9,
   "id": "c65dee23",
   "metadata": {},
   "outputs": [
    {
     "data": {
      "text/plain": [
       "{'order_id': 0,\n",
       " 'payment_sequential': 0,\n",
       " 'payment_type': 0,\n",
       " 'payment_installments': 0,\n",
       " 'payment_value': 0}"
      ]
     },
     "execution_count": 9,
     "metadata": {},
     "output_type": "execute_result"
    }
   ],
   "source": [
    "payments_missing=missing_values(payments_dataset)\n",
    "payments_missing"
   ]
  },
  {
   "cell_type": "code",
   "execution_count": 10,
   "id": "2aa6ff68",
   "metadata": {},
   "outputs": [
    {
     "data": {
      "text/plain": [
       "{'review_id': 1,\n",
       " 'order_id': 2236,\n",
       " 'review_score': 2380,\n",
       " 'review_comment_title': 92157,\n",
       " 'review_comment_message': 63079,\n",
       " 'review_creation_date': 8764,\n",
       " 'review_answer_timestamp': 8785}"
      ]
     },
     "execution_count": 10,
     "metadata": {},
     "output_type": "execute_result"
    }
   ],
   "source": [
    "reviews_missing=missing_values(reviews_dataset)\n",
    "reviews_missing"
   ]
  },
  {
   "cell_type": "code",
   "execution_count": 11,
   "id": "8702315a",
   "metadata": {},
   "outputs": [
    {
     "data": {
      "text/plain": [
       "{'geolocation_zip_code_prefix': 0,\n",
       " 'geolocation_lat': 0,\n",
       " 'geolocation_lng': 0,\n",
       " 'geolocation_city': 0,\n",
       " 'geolocation_state': 0}"
      ]
     },
     "execution_count": 11,
     "metadata": {},
     "output_type": "execute_result"
    }
   ],
   "source": [
    "geolocation_missing=missing_values(geolocation_dataset)\n",
    "geolocation_missing\n"
   ]
  },
  {
   "cell_type": "code",
   "execution_count": 12,
   "id": "fe4f23cc",
   "metadata": {},
   "outputs": [
    {
     "data": {
      "text/plain": [
       "{'product_id': 0,\n",
       " 'product_category_name': 610,\n",
       " 'product_name_lenght': 610,\n",
       " 'product_description_lenght': 610,\n",
       " 'product_photos_qty': 610,\n",
       " 'product_weight_g': 2,\n",
       " 'product_length_cm': 2,\n",
       " 'product_height_cm': 2,\n",
       " 'product_width_cm': 2}"
      ]
     },
     "execution_count": 12,
     "metadata": {},
     "output_type": "execute_result"
    }
   ],
   "source": [
    "products_missing=missing_values(products_dataset)\n",
    "products_missing"
   ]
  },
  {
   "cell_type": "code",
   "execution_count": 13,
   "id": "a9e28476",
   "metadata": {},
   "outputs": [
    {
     "data": {
      "text/plain": [
       "{'seller_id': 0,\n",
       " 'seller_zip_code_prefix': 0,\n",
       " 'seller_city': 0,\n",
       " 'seller_state': 0}"
      ]
     },
     "execution_count": 13,
     "metadata": {},
     "output_type": "execute_result"
    }
   ],
   "source": [
    "sellers_missing=missing_values(sellers_dataset)\n",
    "sellers_missing"
   ]
  },
  {
   "cell_type": "code",
   "execution_count": 14,
   "id": "71e07bd0",
   "metadata": {},
   "outputs": [
    {
     "data": {
      "text/plain": [
       "{'product_category_name': 0, 'product_category_name_english': 0}"
      ]
     },
     "execution_count": 14,
     "metadata": {},
     "output_type": "execute_result"
    }
   ],
   "source": [
    "translations_missing=missing_values(translations)\n",
    "translations_missing\n"
   ]
  },
  {
   "cell_type": "markdown",
   "id": "f4a0d24e",
   "metadata": {},
   "source": [
    "In general, the datasets contain few missing values. The reviews dataset is the one which has more missing values"
   ]
  },
  {
   "cell_type": "markdown",
   "id": "603b34cf",
   "metadata": {},
   "source": [
    "### Handle data issues"
   ]
  },
  {
   "cell_type": "code",
   "execution_count": 15,
   "id": "0b6f61ce",
   "metadata": {},
   "outputs": [],
   "source": [
    "# Drop missing values\n",
    "# drop missing values of the reviews_id in the reviews dataset\n",
    "reviews_dataset=reviews_dataset.na.drop(subset=['review_id', 'order_id'])\n",
    "\n",
    "# drop missing values of orders dataset in the ids fields which are pretty useless for analysis\n",
    "# and may indicate problems on upstream processes\n",
    "order_dataset = order_dataset.na.drop(subset=['order_id', 'customer_id', 'order_status'])"
   ]
  },
  {
   "cell_type": "markdown",
   "id": "c9615e09",
   "metadata": {},
   "source": [
    "Fill Null values"
   ]
  },
  {
   "cell_type": "code",
   "execution_count": 16,
   "id": "e11b7b57",
   "metadata": {},
   "outputs": [],
   "source": [
    "# in orders dataset orders which are still not delivered havent order_delivered_date\n",
    "# instead of just delete them we can just set a defaul value for those records\n",
    "order_dataset = order_dataset.fillna({'order_delivered_carrier_date': '9999-12-31',\n",
    "                                      'order_delivered_customer_date': '9999-12-31'})\n"
   ]
  },
  {
   "cell_type": "code",
   "execution_count": 17,
   "id": "459f1177",
   "metadata": {},
   "outputs": [
    {
     "name": "stdout",
     "output_type": "stream",
     "text": [
      "+--------------------+--------------------+------------+------------------------+-----------------+----------------------------+-----------------------------+-----------------------------+\n",
      "|            order_id|         customer_id|order_status|order_purchase_timestamp|order_approved_at|order_delivered_carrier_date|order_delivered_customer_date|order_estimated_delivery_date|\n",
      "+--------------------+--------------------+------------+------------------------+-----------------+----------------------------+-----------------------------+-----------------------------+\n",
      "|00b1cb0320190ca0d...|3532ba38a3fd24225...|    canceled|     2018-08-28 15:26:39|             NULL|         9999-12-31 00:00:00|          9999-12-31 00:00:00|          2018-09-12 00:00:00|\n",
      "|ed3efbd3a87bea76c...|191984a8ba4cbb214...|    canceled|     2018-09-20 13:54:16|             NULL|         9999-12-31 00:00:00|          9999-12-31 00:00:00|          2018-10-17 00:00:00|\n",
      "|df8282afe61008dc2...|aa797b187b5466bc6...|    canceled|     2017-03-04 12:14:30|             NULL|         9999-12-31 00:00:00|          9999-12-31 00:00:00|          2017-04-10 00:00:00|\n",
      "|8d4c637f1accf7a88...|b1dd715db389a2077...|    canceled|     2018-08-29 16:27:49|             NULL|         9999-12-31 00:00:00|          9999-12-31 00:00:00|          2018-09-13 00:00:00|\n",
      "|7a9d4c7f9b0683378...|7f71ae48074c0cfec...|    canceled|     2017-05-01 16:12:39|             NULL|         9999-12-31 00:00:00|          9999-12-31 00:00:00|          2017-05-30 00:00:00|\n",
      "|ddaec6fff982b13e7...|68f4ad79cc0c2ad06...|    canceled|     2016-10-04 19:41:32|             NULL|         9999-12-31 00:00:00|          9999-12-31 00:00:00|          2016-11-16 00:00:00|\n",
      "|5290c34bd38a8a095...|92af427e290117f39...|    canceled|     2018-08-21 10:25:18|             NULL|         9999-12-31 00:00:00|          9999-12-31 00:00:00|          2018-09-06 00:00:00|\n",
      "|03310aa823a660562...|25dbbf0c477fd4ae0...|    canceled|     2018-08-07 16:33:59|             NULL|         9999-12-31 00:00:00|          9999-12-31 00:00:00|          2018-09-04 00:00:00|\n",
      "|4c8b9947280829d0a...|403c35c4d8813bf67...|    canceled|     2018-08-09 14:54:47|             NULL|         9999-12-31 00:00:00|          9999-12-31 00:00:00|          2018-08-21 00:00:00|\n",
      "|b13ea375fe9c72883...|0dc5884bc5ffba283...|    canceled|     2018-08-22 18:52:29|             NULL|         9999-12-31 00:00:00|          9999-12-31 00:00:00|          2018-09-19 00:00:00|\n",
      "|ea844c92cf978ea23...|6ddc45ad08e6a2c88...|    canceled|     2018-09-13 09:56:12|             NULL|         9999-12-31 00:00:00|          9999-12-31 00:00:00|          2018-09-27 00:00:00|\n",
      "|e04abd8149ef81b95...|2127dc6603ac33544...|   delivered|     2017-02-18 14:40:00|             NULL|         2017-02-23 12:04:47|          2017-03-01 13:25:33|          2017-03-17 00:00:00|\n",
      "|85e05c3c9aa983451...|1d07a80a15700b40c...|    canceled|     2018-08-28 08:18:22|             NULL|         9999-12-31 00:00:00|          9999-12-31 00:00:00|          2018-10-10 00:00:00|\n",
      "|38a86eb53c2309d62...|82d98198f7fb16878...|    canceled|     2018-08-18 12:39:31|             NULL|         9999-12-31 00:00:00|          9999-12-31 00:00:00|          2018-08-29 00:00:00|\n",
      "|c5a468ae781ffb0ec...|ed7ef682569428c1a...|    canceled|     2017-01-13 11:06:56|             NULL|         9999-12-31 00:00:00|          9999-12-31 00:00:00|          2017-02-13 00:00:00|\n",
      "|2bb02fdf5637a68cd...|8c468917b27485762...|    canceled|     2018-08-09 10:55:10|             NULL|         9999-12-31 00:00:00|          9999-12-31 00:00:00|          2018-08-17 00:00:00|\n",
      "|b5359909123fa03c5...|438449d4af8980d10...|     created|     2017-12-05 01:07:52|             NULL|         9999-12-31 00:00:00|          9999-12-31 00:00:00|          2018-01-11 00:00:00|\n",
      "|9380c59012c11f49c...|07838708499d3eb9d...|    canceled|     2018-08-15 11:05:44|             NULL|         9999-12-31 00:00:00|          9999-12-31 00:00:00|          2018-09-21 00:00:00|\n",
      "|672ab3776d5b25e58...|8c8b3a28c07f67148...|    canceled|     2017-05-10 11:52:51|             NULL|         9999-12-31 00:00:00|          9999-12-31 00:00:00|          2017-05-26 00:00:00|\n",
      "|dba5062fbda3af4fb...|964a6df3d9bdf60fe...|     created|     2018-02-09 17:21:04|             NULL|         9999-12-31 00:00:00|          9999-12-31 00:00:00|          2018-03-07 00:00:00|\n",
      "+--------------------+--------------------+------------+------------------------+-----------------+----------------------------+-----------------------------+-----------------------------+\n",
      "only showing top 20 rows\n",
      "\n"
     ]
    }
   ],
   "source": [
    "order_dataset.filter(col('order_approved_at').isNull()).show()"
   ]
  },
  {
   "cell_type": "markdown",
   "id": "38234d34",
   "metadata": {},
   "source": [
    "Impute missing values\n",
    "* Impute means using statistical/ml methods to fill null values using characteristics of the dataset instead of using arbitrary static values"
   ]
  },
  {
   "cell_type": "code",
   "execution_count": 18,
   "id": "a5272a07",
   "metadata": {},
   "outputs": [],
   "source": [
    "# cast review score to int\n",
    "from pyspark.sql.types import IntegerType\n",
    "\n",
    "reviews_dataset = reviews_dataset.withColumn('review_score_int', col('review_score').cast(IntegerType()))"
   ]
  },
  {
   "cell_type": "code",
   "execution_count": 19,
   "id": "12ebd337",
   "metadata": {},
   "outputs": [
    {
     "data": {
      "text/plain": [
       "{'review_id': 0,\n",
       " 'order_id': 0,\n",
       " 'review_score': 144,\n",
       " 'review_comment_title': 89922,\n",
       " 'review_comment_message': 60843,\n",
       " 'review_creation_date': 6528,\n",
       " 'review_answer_timestamp': 6548,\n",
       " 'review_score_int': 2698}"
      ]
     },
     "execution_count": 19,
     "metadata": {},
     "output_type": "execute_result"
    }
   ],
   "source": [
    "missing_values(reviews_dataset)"
   ]
  },
  {
   "cell_type": "code",
   "execution_count": 20,
   "id": "4390f7af",
   "metadata": {},
   "outputs": [
    {
     "name": "stdout",
     "output_type": "stream",
     "text": [
      "+--------------------+--------------------+--------------------+--------------------+----------------------+--------------------+-----------------------+----------------+\n",
      "|           review_id|            order_id|        review_score|review_comment_title|review_comment_message|review_creation_date|review_answer_timestamp|review_score_int|\n",
      "+--------------------+--------------------+--------------------+--------------------+----------------------+--------------------+-----------------------+----------------+\n",
      "|     sem problemas.\"| 2018-03-23 00:00:00| 2018-04-01 00:27:51|                NULL|                  NULL|                NULL|                   NULL|            NULL|\n",
      "|Faltou Controle R...| 2018-01-28 00:00:00| 2018-02-04 11:06:15|                NULL|                  NULL|                NULL|                   NULL|            NULL|\n",
      "|Muito obrigada.... \"| 2017-06-24 00:00:00| 2017-06-29 13:48:21|                NULL|                  NULL|                NULL|                   NULL|            NULL|\n",
      "|Balde Com 128 Peç...|00 cada (NÃO FOI ...|                NULL|                NULL|                  NULL|                NULL|                   NULL|            NULL|\n",
      "|Tapete de Eva Nº ...|90 (ESTE FOI ENTREG\"| 2018-01-04 00:00:00| 2018-01-10 09:52:57|                  NULL|                NULL|                   NULL|            NULL|\n",
      "|           Parabéns\"| 2017-08-29 00:00:00| 2017-08-29 21:06:01|                NULL|                  NULL|                NULL|                   NULL|            NULL|\n",
      "|           Elenice.\"| 2017-12-16 00:00:00| 2017-12-19 23:21:17|                NULL|                  NULL|                NULL|                   NULL|            NULL|\n",
      "|                  .\"| 2018-05-15 00:00:00| 2018-05-16 23:41:51|                NULL|                  NULL|                NULL|                   NULL|            NULL|\n",
      "|Precisa melhorar ...| 2017-04-06 00:00:00| 2017-04-09 18:25:12|                NULL|                  NULL|                NULL|                   NULL|            NULL|\n",
      "|            De resto|           tudo ok.\"| 2018-04-19 00:00:00| 2018-04-22 16:36:04|                  NULL|                NULL|                   NULL|            NULL|\n",
      "|    sem comentários\"| 2018-03-31 00:00:00| 2018-04-03 21:11:53|                NULL|                  NULL|                NULL|                   NULL|            NULL|\n",
      "|        é lamentável| esta loja que ta...|00 reais ... um p...| 2018-08-23 00:00:00|   2018-08-30 03:02:39|                NULL|                   NULL|            NULL|\n",
      "|   SUPER RECOMENDO.\"| 2018-08-10 00:00:00| 2018-08-11 12:59:16|                NULL|                  NULL|                NULL|                   NULL|            NULL|\n",
      "|Chegou bem antes ...| 2018-04-04 00:00:00| 2018-04-04 21:30:47|                NULL|                  NULL|                NULL|                   NULL|            NULL|\n",
      "| Produto excelente!\"| 2018-03-06 00:00:00| 2018-03-08 21:29:27|                NULL|                  NULL|                NULL|                   NULL|            NULL|\n",
      "|Bom produto...est...| 2018-04-20 00:00:00| 2018-04-20 11:17:21|                NULL|                  NULL|                NULL|                   NULL|            NULL|\n",
      "|     Muito Obrigado\"| 2018-01-26 00:00:00| 2018-01-27 20:03:09|                NULL|                  NULL|                NULL|                   NULL|            NULL|\n",
      "|Mandei msg inform...| porém não obtive...|                NULL|                NULL|                  NULL|                NULL|                   NULL|            NULL|\n",
      "|          Obrigado \"| 2018-02-22 00:00:00| 2018-02-22 22:01:45|                NULL|                  NULL|                NULL|                   NULL|            NULL|\n",
      "| Super recomendo!!!\"| 2017-12-22 00:00:00| 2017-12-23 15:49:01|                NULL|                  NULL|                NULL|                   NULL|            NULL|\n",
      "+--------------------+--------------------+--------------------+--------------------+----------------------+--------------------+-----------------------+----------------+\n",
      "only showing top 20 rows\n",
      "\n"
     ]
    }
   ],
   "source": [
    "reviews_dataset.filter(col('review_score_int').isNull()).show()"
   ]
  },
  {
   "cell_type": "markdown",
   "id": "263ca4ac",
   "metadata": {},
   "source": [
    "Indeed, there is some problem on some upstream process that changes values across columns"
   ]
  },
  {
   "cell_type": "code",
   "execution_count": 21,
   "id": "7df10b29",
   "metadata": {},
   "outputs": [
    {
     "name": "stdout",
     "output_type": "stream",
     "text": [
      "+--------------------+--------------------+------------+--------------------+----------------------+--------------------+-----------------------+----------------+\n",
      "|           review_id|            order_id|review_score|review_comment_title|review_comment_message|review_creation_date|review_answer_timestamp|review_score_int|\n",
      "+--------------------+--------------------+------------+--------------------+----------------------+--------------------+-----------------------+----------------+\n",
      "|7bc2406110b926393...|73fc7af87114b3971...|           4|                NULL|                  NULL| 2018-01-18 00:00:00|    2018-01-18 21:46:59|               4|\n",
      "|80e641a11e56f04c1...|a548910a1c6147796...|           5|                NULL|                  NULL| 2018-03-10 00:00:00|    2018-03-11 03:05:13|               5|\n",
      "|228ce5500dc1d8e02...|f9e4b658b201a9f2e...|           5|                NULL|                  NULL| 2018-02-17 00:00:00|    2018-02-18 14:36:24|               5|\n",
      "|e64fb393e7b32834b...|658677c97b385a9be...|           5|                NULL|  Recebi bem antes ...| 2017-04-21 00:00:00|    2017-04-21 22:02:06|               5|\n",
      "|f7c4243c7fe1938f1...|8e6bfb81e283fa7e4...|           5|                NULL|  Parabéns lojas la...| 2018-03-01 00:00:00|    2018-03-02 10:26:53|               5|\n",
      "|15197aa66ff4d0650...|b18dcdf73be663668...|           1|                NULL|                  NULL| 2018-04-13 00:00:00|    2018-04-16 00:39:37|               1|\n",
      "|07f9bee5d1b850860...|e48aa0d2dcec3a2e8...|           5|                NULL|                  NULL| 2017-07-16 00:00:00|    2017-07-18 19:30:34|               5|\n",
      "|7c6400515c67679fb...|c31a859e34e3adac2...|           5|                NULL|                  NULL| 2018-08-14 00:00:00|    2018-08-14 21:36:06|               5|\n",
      "|a3f6f7f6f433de0ae...|9c214ac970e842735...|           5|                NULL|                  NULL| 2017-05-17 00:00:00|    2017-05-18 12:05:37|               5|\n",
      "|8670d52e15e00043a...|b9bf720beb4ab3728...|           4|           recomendo|  aparelho eficient...| 2018-05-22 00:00:00|    2018-05-23 16:45:47|               4|\n",
      "|c9cfd2d5ab5911836...|cdf9aa68e72324eeb...|           5|                NULL|                  NULL| 2017-12-23 00:00:00|    2017-12-26 14:36:03|               5|\n",
      "|96052551d87e5f62e...|3d374c9e46530bb5e...|           5|                NULL|                  NULL| 2017-12-19 00:00:00|    2017-12-20 10:25:22|               5|\n",
      "|4b49719c8a200003f...|9d6f15f95d01e79bd...|           4|                NULL|  Mas um pouco ,tra...|                NULL|                   NULL|               4|\n",
      "|23f75a37effc35d9a...|2eaf8e099d871cd5c...|           4|                NULL|                  NULL| 2018-03-28 00:00:00|    2018-03-30 15:10:55|               4|\n",
      "|9a0abbb668bafb95a...|d7bd0e4afdf94846e...|           3|                NULL|                  NULL| 2017-04-30 00:00:00|    2017-05-03 00:02:22|               3|\n",
      "|3948b09f7c818e2d8...|e51478e7e277a8374...|           5|     Super recomendo|  Vendedor confiáve...| 2018-05-23 00:00:00|    2018-05-24 03:00:01|               5|\n",
      "|9314d6f9799f5bfba...|0dacf04c5ad59fd5a...|           2|                NULL|  GOSTARIA DE SABER...| 2018-01-18 00:00:00|    2018-01-20 21:25:45|               2|\n",
      "|8e15a274d95600fa1...|ff1581e08b3011021...|           5|                NULL|                  NULL| 2018-03-24 00:00:00|    2018-03-26 15:58:32|               5|\n",
      "|fdbdb2629a7cde0f6...|70a752414a13d09cc...|           3|                NULL|                  NULL| 2017-09-29 00:00:00|    2017-10-02 01:12:49|               3|\n",
      "|373cbeecea8286a2b...|583174fbe37d3d5f0...|           1|Não chegou meu pr...|               Péssimo| 2018-08-15 00:00:00|    2018-08-15 04:10:37|               1|\n",
      "+--------------------+--------------------+------------+--------------------+----------------------+--------------------+-----------------------+----------------+\n",
      "only showing top 20 rows\n",
      "\n"
     ]
    }
   ],
   "source": [
    "# drop those incorrect values\n",
    "reviews_dataset=reviews_dataset.na.drop(subset=['review_score_int'])\n",
    "reviews_dataset.show()"
   ]
  },
  {
   "cell_type": "markdown",
   "id": "36feadd5",
   "metadata": {},
   "source": [
    "Imputing values"
   ]
  },
  {
   "cell_type": "code",
   "execution_count": 22,
   "id": "0c327817",
   "metadata": {},
   "outputs": [],
   "source": [
    "from pyspark.ml.feature import Imputer\n",
    "\n",
    "input_prod_cols = ['product_weight_g','product_length_cm', 'product_height_cm', 'product_width_cm']\n",
    "output_prod_cols = [column +'_imp' for column in input_prod_cols]\n",
    "\n",
    "imputer = Imputer(strategy='mean',\n",
    "                  inputCols=input_prod_cols, \n",
    "                  outputCols= output_prod_cols)\n",
    "\n",
    "products_dataset = imputer.fit(products_dataset).transform(products_dataset)"
   ]
  },
  {
   "cell_type": "code",
   "execution_count": 23,
   "id": "d842b5a2",
   "metadata": {},
   "outputs": [],
   "source": [
    "# remove old columns and rename the imputed columns\n",
    "for col_old, col_new in zip(input_prod_cols, output_prod_cols):\n",
    "    products_dataset= products_dataset.drop(col_old)\n",
    "    products_dataset = products_dataset.withColumnRenamed(col_new, col_old)"
   ]
  },
  {
   "cell_type": "code",
   "execution_count": 24,
   "id": "c83fde63",
   "metadata": {},
   "outputs": [
    {
     "data": {
      "text/plain": [
       "{'product_id': 0,\n",
       " 'product_category_name': 610,\n",
       " 'product_name_lenght': 610,\n",
       " 'product_description_lenght': 610,\n",
       " 'product_photos_qty': 610,\n",
       " 'product_weight_g': 0,\n",
       " 'product_length_cm': 0,\n",
       " 'product_height_cm': 0,\n",
       " 'product_width_cm': 0}"
      ]
     },
     "execution_count": 24,
     "metadata": {},
     "output_type": "execute_result"
    }
   ],
   "source": [
    "missing_values(products_dataset)"
   ]
  },
  {
   "cell_type": "markdown",
   "id": "fbc88290",
   "metadata": {},
   "source": [
    "### Standarizing Formats\n",
    "\n",
    "Transform the value of some data across dataset to have a standarized data form."
   ]
  },
  {
   "cell_type": "code",
   "execution_count": 25,
   "id": "b5a07594",
   "metadata": {},
   "outputs": [
    {
     "name": "stdout",
     "output_type": "stream",
     "text": [
      "+---------------------------+-------------------+-------------------+----------------+-----------------+\n",
      "|geolocation_zip_code_prefix|    geolocation_lat|    geolocation_lng|geolocation_city|geolocation_state|\n",
      "+---------------------------+-------------------+-------------------+----------------+-----------------+\n",
      "|                       1037| -23.54562128115268| -46.63929204800168|       sao paulo|               SP|\n",
      "|                       1046|-23.546081127035535| -46.64482029837157|       sao paulo|               SP|\n",
      "|                       1046| -23.54612896641469| -46.64295148361138|       sao paulo|               SP|\n",
      "|                       1041|  -23.5443921648681| -46.63949930627844|       sao paulo|               SP|\n",
      "|                       1035|-23.541577961711493| -46.64160722329613|       sao paulo|               SP|\n",
      "|                       1012|-23.547762303364266| -46.63536053788448|       são paulo|               SP|\n",
      "|                       1047|-23.546273112412678| -46.64122516971552|       sao paulo|               SP|\n",
      "|                       1013|-23.546923208436723|  -46.6342636964915|       sao paulo|               SP|\n",
      "|                       1029|-23.543769055769133| -46.63427784085132|       sao paulo|               SP|\n",
      "|                       1011|-23.547639550320632| -46.63603162315495|       sao paulo|               SP|\n",
      "|                       1013|-23.547325128224376| -46.63418378613892|       sao paulo|               SP|\n",
      "|                       1032| -23.53841810407414|-46.634778375266734|       sao paulo|               SP|\n",
      "|                       1014|-23.546435343326205| -46.63383023397196|       sao paulo|               SP|\n",
      "|                       1012|-23.548945985189434| -46.63467113292871|       sao paulo|               SP|\n",
      "|                       1037|-23.545187340816042| -46.63785524104107|       são paulo|               SP|\n",
      "|                       1046|-23.546081127035535| -46.64482029837157|       sao paulo|               SP|\n",
      "|                       1039|-23.541883009983316| -46.63991946670314|       sao paulo|               SP|\n",
      "|                       1024|-23.541389521053937|-46.629899087812184|       são paulo|               SP|\n",
      "|                       1009| -23.54693540437998| -46.63658792659698|       sao paulo|               SP|\n",
      "|                       1046|-23.545884279214015|-46.643163191240035|       sao paulo|               SP|\n",
      "+---------------------------+-------------------+-------------------+----------------+-----------------+\n",
      "only showing top 20 rows\n",
      "\n"
     ]
    }
   ],
   "source": [
    "geolocation_dataset.show()"
   ]
  },
  {
   "cell_type": "code",
   "execution_count": 26,
   "id": "98af250c",
   "metadata": {},
   "outputs": [
    {
     "name": "stdout",
     "output_type": "stream",
     "text": [
      "+--------------------+\n",
      "|    geolocation_city|\n",
      "+--------------------+\n",
      "|sao bernardo do c...|\n",
      "|           são paulo|\n",
      "|            sãopaulo|\n",
      "|             jundiaí|\n",
      "|                  sp|\n",
      "|           sao paulo|\n",
      "|     taboão da serra|\n",
      "|         carapicuiba|\n",
      "|itapecerica da serra|\n",
      "|               cotia|\n",
      "|          embu guaçu|\n",
      "|             barueri|\n",
      "|pirapora do bom j...|\n",
      "|      embu das artes|\n",
      "|vargem grande pau...|\n",
      "|              osasco|\n",
      "|          embu guacu|\n",
      "|                embu|\n",
      "| santana de parnaiba|\n",
      "|         carapicuíba|\n",
      "+--------------------+\n",
      "only showing top 20 rows\n",
      "\n",
      "8011\n"
     ]
    }
   ],
   "source": [
    "cities = geolocation_dataset.select('geolocation_city').distinct()\n",
    "cities.show()\n",
    "\n",
    "# num of distinct cities\n",
    "print(cities.count())\n"
   ]
  },
  {
   "cell_type": "code",
   "execution_count": 27,
   "id": "13ce1cae",
   "metadata": {},
   "outputs": [],
   "source": [
    "# geolocation city coontain the same city with diffent typo sao paulo and são paulo\n",
    "# standarize portuguse characters to basic form example (ã - >a)\n",
    "from pyspark.sql.functions import regexp_replace\n",
    "\n",
    "geolocation_dataset = (\n",
    "    geolocation_dataset\n",
    "        .withColumn('geolocation_city', regexp_replace('geolocation_city', 'ã', 'a'))\n",
    "        .withColumn('geolocation_city', regexp_replace('geolocation_city', 'õ', 'o'))\n",
    "        .withColumn('geolocation_city', regexp_replace('geolocation_city', 'ç', 's'))\n",
    "        .withColumn('geolocation_city', regexp_replace('geolocation_city', '£', ''))\n",
    "        .withColumn('geolocation_city', regexp_replace('geolocation_city', 'á', 'a'))\n",
    "        .withColumn('geolocation_city', regexp_replace('geolocation_city', 'é', 'e'))\n",
    "        .withColumn('geolocation_city', regexp_replace('geolocation_city', 'í', 'i'))\n",
    "        .withColumn('geolocation_city', regexp_replace('geolocation_city', 'ó', 'o'))\n",
    "        .withColumn('geolocation_city', regexp_replace('geolocation_city', 'â', 'a'))\n",
    "        .withColumn('geolocation_city', regexp_replace('geolocation_city', 'ê', 'e'))\n",
    "        .withColumn('geolocation_city', regexp_replace('geolocation_city', 'ô', 'i'))\n",
    "        .withColumn('geolocation_city', regexp_replace('geolocation_city', 'ú', 'u'))   \n",
    ")"
   ]
  },
  {
   "cell_type": "code",
   "execution_count": 28,
   "id": "698d38ca",
   "metadata": {},
   "outputs": [
    {
     "name": "stdout",
     "output_type": "stream",
     "text": [
      "Number of distinct cities after normalization: 6272\n"
     ]
    }
   ],
   "source": [
    "n_cities = geolocation_dataset.select('geolocation_city').distinct().count()\n",
    "print('Number of distinct cities after normalization:', n_cities)"
   ]
  },
  {
   "cell_type": "code",
   "execution_count": 29,
   "id": "7252b2d7",
   "metadata": {},
   "outputs": [
    {
     "name": "stdout",
     "output_type": "stream",
     "text": [
      "root\n",
      " |-- geolocation_zip_code_prefix: integer (nullable = true)\n",
      " |-- geolocation_lat: double (nullable = true)\n",
      " |-- geolocation_lng: double (nullable = true)\n",
      " |-- geolocation_city: string (nullable = true)\n",
      " |-- geolocation_state: string (nullable = true)\n",
      "\n"
     ]
    }
   ],
   "source": [
    "geolocation_dataset.printSchema()"
   ]
  },
  {
   "cell_type": "code",
   "execution_count": 30,
   "id": "cc13138c",
   "metadata": {},
   "outputs": [],
   "source": [
    "# cast geolocation zip code to string\n",
    "from pyspark.sql.functions import StringType\n",
    "\n",
    "geolocation_dataset = geolocation_dataset.withColumn('geolocation_zip_code_prefix', col('geolocation_zip_code_prefix').cast(StringType()))"
   ]
  },
  {
   "cell_type": "code",
   "execution_count": 31,
   "id": "f68b1000",
   "metadata": {},
   "outputs": [],
   "source": [
    "# same to customer zipcode\n",
    "customer_dataset = customer_dataset.withColumn('customer_zip_code_prefix', col('customer_zip_code_prefix').cast(StringType()))"
   ]
  },
  {
   "cell_type": "markdown",
   "id": "063f7dec",
   "metadata": {},
   "source": [
    "### Remove Duplocate Records"
   ]
  },
  {
   "cell_type": "code",
   "execution_count": 32,
   "id": "cce6ec52",
   "metadata": {},
   "outputs": [
    {
     "name": "stdout",
     "output_type": "stream",
     "text": [
      "rows before remove duplicates: 99441\n",
      "rows after duplicates: 99441\n"
     ]
    }
   ],
   "source": [
    "print('rows before remove duplicates:', customer_dataset.count())\n",
    "\n",
    "removed_customer = customer_dataset.dropDuplicates(['customer_id'])\n",
    "\n",
    "print('rows after duplicates:', removed_customer.count())"
   ]
  },
  {
   "cell_type": "markdown",
   "id": "c4aa1284",
   "metadata": {},
   "source": [
    "### Data Transformation "
   ]
  },
  {
   "cell_type": "code",
   "execution_count": 33,
   "id": "e2fd30bc",
   "metadata": {},
   "outputs": [],
   "source": [
    "orders_detailed = (\n",
    "    order_dataset\n",
    "        .join(payments_dataset, 'order_id', 'left')\n",
    "        .join(customer_dataset, 'customer_id', 'left')\n",
    "        .join(items_dataset, 'order_id', 'left')\n",
    "        )"
   ]
  },
  {
   "cell_type": "code",
   "execution_count": 34,
   "id": "235425e5",
   "metadata": {},
   "outputs": [
    {
     "name": "stdout",
     "output_type": "stream",
     "text": [
      "+--------------------+--------------------+------------+------------------------+-------------------+----------------------------+-----------------------------+-----------------------------+------------------+------------+--------------------+-------------+--------------------+------------------------+--------------------+--------------+-------------+--------------------+--------------------+-------------------+-----+-------------+\n",
      "|            order_id|         customer_id|order_status|order_purchase_timestamp|  order_approved_at|order_delivered_carrier_date|order_delivered_customer_date|order_estimated_delivery_date|payment_sequential|payment_type|payment_installments|payment_value|  customer_unique_id|customer_zip_code_prefix|       customer_city|customer_state|order_item_id|          product_id|           seller_id|shipping_limit_date|price|freight_value|\n",
      "+--------------------+--------------------+------------+------------------------+-------------------+----------------------------+-----------------------------+-----------------------------+------------------+------------+--------------------+-------------+--------------------+------------------------+--------------------+--------------+-------------+--------------------+--------------------+-------------------+-----+-------------+\n",
      "|116f0b09343b49556...|3187789bec9909876...|   delivered|     2017-12-26 23:41:31|2017-12-26 23:50:22|         2017-12-28 18:33:05|          2018-01-08 22:36:36|          2018-01-29 00:00:00|                 1| credit_card|                   4|        43.09|6087cfc70fd833cf2...|                   88780|            imbituba|            SC|            1|a47295965bd091207...|ea8482cd71df3c196...|2018-01-02 23:50:22|27.99|         15.1|\n",
      "|53cdb2fc8bc7dce0b...|b0830fb4747a6c6d2...|   delivered|     2018-07-24 20:41:37|2018-07-26 03:24:27|         2018-07-26 14:31:00|          2018-08-07 15:27:45|          2018-08-13 00:00:00|                 1|      boleto|                   1|       141.46|af07308b275d755c9...|                   47813|           barreiras|            BA|            1|595fac2a385ac33a8...|289cdb325fb7e7f89...|2018-07-30 03:24:27|118.7|        22.76|\n",
      "|5d4f5212371724259...|9534eefb05c89b50b...|   delivered|     2017-09-11 11:29:12|2017-09-11 11:43:43|         2017-09-13 16:41:25|          2017-09-25 18:42:41|          2017-10-09 00:00:00|                 1| credit_card|                   3|        66.74|c163b7430768742db...|                   45208|              jequie|            BA|            1|cfb763496d9fc4875...|391fc6631aebcf300...|2017-09-20 11:43:43|49.95|        16.79|\n",
      "|5e4d2d8a6589ec90d...|3df001627683ff649...|   delivered|     2017-11-26 15:51:16|2017-11-26 17:16:05|         2017-11-27 18:14:56|          2017-11-30 01:14:36|          2017-12-11 00:00:00|                 1|  debit_card|                   1|        56.78|573b27380c382b7fc...|                    5757|           sao paulo|            SP|            1|d017a2151d543a988...|6560211a19b47992c...|2017-11-30 17:16:05| 49.0|         7.78|\n",
      "|ad21c59c0840e6cb8...|8ab97904e6daea886...|   delivered|     2018-02-13 21:18:39|2018-02-13 22:20:29|         2018-02-14 19:46:34|          2018-02-16 18:17:02|          2018-02-26 00:00:00|                 1| credit_card|                   1|        28.62|72632f0f9dd73dfee...|                    9195|         santo andre|            SP|            1|65266b2da20d04dbe...|2c9e548be18521d1c...|2018-02-19 20:31:37| 19.9|         8.72|\n",
      "|b39de9ed2bb8fd08a...|ed18b557140ff674f...|   delivered|     2018-03-27 09:15:17|2018-03-27 09:30:12|         2018-03-27 23:52:09|          2018-04-11 21:51:02|          2018-04-26 00:00:00|                 1| credit_card|                   1|        121.3|2bdf6e9b5bcfd6c33...|                   26010|         nova iguacu|            RJ|            1|0d85c435fd60b277f...|00fc707aaaad2d313...|2018-04-06 09:30:12| 98.9|         22.4|\n",
      "|b90dbb242e04b393f...|c08451aea5147d7bf...|   delivered|     2017-07-21 12:52:35|2017-07-21 13:05:18|         2017-07-25 22:19:33|          2017-07-27 19:27:47|          2017-08-11 00:00:00|                 1| credit_card|                  10|       152.38|9734a300e2ec028b4...|                    7417|               aruja|            SP|            1|ef49c266450dd5f02...|d1b65fc7debc3361e...|2017-07-28 13:05:18|139.9|        12.48|\n",
      "|dcb36b511fcac050b...|3b6828a50ffe54694...|   delivered|     2018-06-07 19:03:12|2018-06-12 23:31:02|         2018-06-11 14:54:00|          2018-06-21 15:34:32|          2018-07-04 00:00:00|                 1| credit_card|                  10|       146.45|ccafc1c3f27041052...|                   74820|             goiania|            GO|            1|009c09f439988bc06...|89a51f50b8095ea78...|2018-06-18 18:59:02|132.4|        14.05|\n",
      "|17279938859725061...|43688fad66340b74b...|   delivered|     2017-11-26 02:06:21|2017-11-26 02:16:46|         2017-11-29 20:52:23|          2017-12-16 00:59:04|          2017-12-18 00:00:00|                 1| credit_card|                   3|       133.34|500916dd05e1a0eef...|                   23540|      rio de janeiro|            RJ|            1|53759a2ecddad2bb8...|1f50f920176fa81da...|2017-11-30 02:16:46| 49.0|        17.67|\n",
      "|17279938859725061...|43688fad66340b74b...|   delivered|     2017-11-26 02:06:21|2017-11-26 02:16:46|         2017-11-29 20:52:23|          2017-12-16 00:59:04|          2017-12-18 00:00:00|                 1| credit_card|                   3|       133.34|500916dd05e1a0eef...|                   23540|      rio de janeiro|            RJ|            2|389d119b48cf3043d...|1f50f920176fa81da...|2017-11-30 02:16:46| 49.0|        17.67|\n",
      "|460673777918e7a42...|6f352988122e277e6...|   delivered|     2018-02-07 22:38:41|2018-02-08 22:30:24|         2018-02-09 16:56:51|          2018-02-24 18:06:45|          2018-03-05 00:00:00|                 1| credit_card|                   5|        59.85|5717c3a742c0df719...|                    5187|           sao paulo|            SP|            1|b7605b5b483063d12...|4a3ca9315b744ce9f...|2018-02-14 22:30:24| 48.0|        11.85|\n",
      "|575ca88a26f8e32bb...|d73698c8fc11e06d4...|   delivered|     2018-01-10 12:01:27|2018-01-11 11:52:23|         2018-01-12 22:00:11|          2018-02-09 00:09:00|          2018-02-14 00:00:00|                 1| credit_card|                   3|        188.5|b1bfd7e518ac86fd5...|                   59460|sao paulo do potengi|            RN|            1|8100d323ffa1909cf...|f8db351d8c4c4c22c...|2018-01-17 11:52:23|149.9|         38.6|\n",
      "|6514b8ad8028c9f2c...|9bdf08b4b3b52b552...|   delivered|     2017-05-16 13:10:30|2017-05-16 13:22:11|         2017-05-22 10:07:46|          2017-05-26 12:55:51|          2017-06-07 00:00:00|                 1| credit_card|                   3|        75.16|932afa1e708222e58...|                   26525|           nilopolis|            RJ|            1|4520766ec412348b8...|16090f2ca825584b5...|2017-05-22 13:22:11|59.99|        15.17|\n",
      "|6ab7e108268118baa...|e21b14b7f304dbaa4...|   delivered|     2018-01-28 15:22:05|2018-01-28 15:30:23|         2018-02-01 00:38:54|          2018-02-02 17:43:11|          2018-02-23 00:00:00|                 1| credit_card|                   1|       104.87|24c75405d509b190b...|                   80730|            curitiba|            PR|            1|36f60d45225e60c7d...|6973a06f484aacf40...|2018-02-02 15:30:23|89.49|        15.38|\n",
      "|89f2413853ec50a94...|3e75d56cfa408510e...|   delivered|     2018-08-14 10:21:28|2018-08-15 03:35:09|         2018-08-20 11:39:00|          2018-08-23 16:48:53|          2018-08-29 00:00:00|                 1|      boleto|                   1|        88.19|617b34d5da0d6b881...|                    3441|           sao paulo|            SP|            1|2bd9b51a9ab079e09...|81f89e42267213cb9...|2018-08-22 03:35:09| 75.0|        13.19|\n",
      "|949d5b44dbf5de918...|f88197465ea7920ad...|   delivered|     2017-11-18 19:28:06|2017-11-18 19:45:59|         2017-11-22 13:39:59|          2017-12-02 00:28:42|          2017-12-15 00:00:00|                 1| credit_card|                   1|         72.2|7c142cf63193a1473...|                   59296|sao goncalo do am...|            RN|            1|d0b61bfb1de832b15...|66922902710d126a0...|2017-11-23 19:45:59| 45.0|         27.2|\n",
      "|9559e0b00c67d159a...|c3498e41d1549d56c...|   delivered|     2017-01-30 10:47:14|2017-01-30 11:31:06|         2017-02-01 13:57:49|          2017-02-07 10:32:44|          2017-03-03 00:00:00|                 1| credit_card|                   3|        165.9|669fc0419f968b66f...|                   18950|             ipaussu|            SP|            1|060cb19345d90064d...|8581055ce74af1dab...|2017-02-03 10:47:14|147.9|         18.0|\n",
      "|9f2fe2350791b5e9e...|208dce5ddbcf741af...|   delivered|     2018-05-03 22:21:53|2018-05-05 02:30:07|         2018-05-07 09:10:00|          2018-05-10 13:08:57|          2018-05-23 00:00:00|                 1|      boleto|                   1|       152.58|cf04cba694ad1ad92...|                    9572|  sao caetano do sul|            SP|            1|7adb171e34892acd7...|382229d1e840115ff...|2018-05-10 02:30:07| 59.9|        16.39|\n",
      "|9f2fe2350791b5e9e...|208dce5ddbcf741af...|   delivered|     2018-05-03 22:21:53|2018-05-05 02:30:07|         2018-05-07 09:10:00|          2018-05-10 13:08:57|          2018-05-23 00:00:00|                 1|      boleto|                   1|       152.58|cf04cba694ad1ad92...|                    9572|  sao caetano do sul|            SP|            2|7adb171e34892acd7...|382229d1e840115ff...|2018-05-10 02:30:07| 59.9|        16.39|\n",
      "|c7c2965767573b968...|ae7adb4ab2d004278...|   delivered|     2017-03-17 08:49:51|2017-03-17 08:49:51|         2017-03-20 11:38:05|          2017-03-24 15:49:57|          2017-04-10 00:00:00|                 1|      boleto|                   1|        41.02|2e18d8181381796d8...|                   13097|            campinas|            SP|            1|5c0b5ea8a3b6a1ac9...|669ae81880e08f269...|2017-03-24 08:49:51| 26.5|        14.52|\n",
      "+--------------------+--------------------+------------+------------------------+-------------------+----------------------------+-----------------------------+-----------------------------+------------------+------------+--------------------+-------------+--------------------+------------------------+--------------------+--------------+-------------+--------------------+--------------------+-------------------+-----+-------------+\n",
      "only showing top 20 rows\n",
      "\n"
     ]
    }
   ],
   "source": [
    "orders_detailed.show()"
   ]
  },
  {
   "cell_type": "code",
   "execution_count": 35,
   "id": "af772edb",
   "metadata": {},
   "outputs": [
    {
     "name": "stdout",
     "output_type": "stream",
     "text": [
      "+--------------------+--------------------+------------+------------------------+-------------------+----------------------------+-----------------------------+-----------------------------+------------------+------------+--------------------+-------------+--------------------+------------------------+--------------------+--------------+-------------+----------+---------+-------------------+-----+-------------+\n",
      "|            order_id|         customer_id|order_status|order_purchase_timestamp|  order_approved_at|order_delivered_carrier_date|order_delivered_customer_date|order_estimated_delivery_date|payment_sequential|payment_type|payment_installments|payment_value|  customer_unique_id|customer_zip_code_prefix|       customer_city|customer_state|order_item_id|product_id|seller_id|shipping_limit_date|price|freight_value|\n",
      "+--------------------+--------------------+------------+------------------------+-------------------+----------------------------+-----------------------------+-----------------------------+------------------+------------+--------------------+-------------+--------------------+------------------------+--------------------+--------------+-------------+----------+---------+-------------------+-----+-------------+\n",
      "|016706d732e79b490...|d92a41fae88c9a36d...| unavailable|     2017-10-13 09:15:09|2017-10-13 09:28:16|         9999-12-31 00:00:00|          9999-12-31 00:00:00|          2017-11-06 00:00:00|                 1| credit_card|                   1|         65.0|fd474aed92422913d...|                   37140|              areado|            MG|         NULL|      NULL|     NULL|               NULL| NULL|         NULL|\n",
      "|01cb6d702e5233235...|cf52d3f2132b17f52...| unavailable|     2017-01-31 17:48:07|2017-02-01 02:45:37|         9999-12-31 00:00:00|          9999-12-31 00:00:00|          2017-03-10 00:00:00|                 1|      boleto|                   1|        94.21|859801343e938e403...|                   65054|            sao luis|            MA|         NULL|      NULL|     NULL|               NULL| NULL|         NULL|\n",
      "|03d1edbd314ca7682...|963bc458a6c7f3148...| unavailable|     2017-06-29 20:04:14|2017-06-29 20:23:48|         9999-12-31 00:00:00|          9999-12-31 00:00:00|          2017-07-12 00:00:00|                 1| credit_card|                   5|        74.03|72bb34a2ba88ff697...|                    9642|sao bernardo do c...|            SP|         NULL|      NULL|     NULL|               NULL| NULL|         NULL|\n",
      "|08662c478bed0444d...|e386d59b64144f2d4...|    canceled|     2017-03-20 08:00:14|2017-03-20 08:00:14|         9999-12-31 00:00:00|          9999-12-31 00:00:00|          2017-04-17 00:00:00|                 1| credit_card|                   5|       102.92|d87ff1b86dfffa84c...|                   75830|            mineiros|            GO|         NULL|      NULL|     NULL|               NULL| NULL|         NULL|\n",
      "|1982a20c2a9d116da...|f134935ef1c94d9f9...| unavailable|     2017-02-08 16:14:48|2017-02-09 16:25:15|         9999-12-31 00:00:00|          9999-12-31 00:00:00|          2017-03-09 00:00:00|                 1| credit_card|                   3|        34.37|3d96734ce2aceaaff...|                   28623|       nova friburgo|            RJ|         NULL|      NULL|     NULL|               NULL| NULL|         NULL|\n",
      "|227c804e2a4476067...|62e7477e75e542243...|    canceled|     2017-09-28 15:02:56|               NULL|         9999-12-31 00:00:00|          9999-12-31 00:00:00|          2017-10-16 00:00:00|                 1| credit_card|                   1|        280.2|aa75afb965e89078d...|                   12940|             atibaia|            SP|         NULL|      NULL|     NULL|               NULL| NULL|         NULL|\n",
      "|23fdd0e16ad79ceab...|f915ff705480d8952...| unavailable|     2017-03-20 15:29:38|2017-03-20 15:29:38|         9999-12-31 00:00:00|          9999-12-31 00:00:00|          2017-04-19 00:00:00|                 1| credit_card|                   5|       201.61|5f55921b0fe67e51a...|                   60192|           fortaleza|            CE|         NULL|      NULL|     NULL|               NULL| NULL|         NULL|\n",
      "|2867faaa7a912bbc2...|c7da870eb04374fc2...| unavailable|     2017-01-22 20:43:58|2017-01-22 20:55:10|         9999-12-31 00:00:00|          9999-12-31 00:00:00|          2017-03-02 00:00:00|                 1| credit_card|                   1|       138.35|31eee58232681b670...|                   13417|          piracicaba|            SP|         NULL|      NULL|     NULL|               NULL| NULL|         NULL|\n",
      "|2c885b285dce30756...|1028ae318a4846d5f...| unavailable|     2017-09-07 07:46:20|2017-09-07 08:03:28|         9999-12-31 00:00:00|          9999-12-31 00:00:00|          2017-09-26 00:00:00|                 1| credit_card|                   8|      2039.44|921d58c8106817602...|                   19907|            ourinhos|            SP|         NULL|      NULL|     NULL|               NULL| NULL|         NULL|\n",
      "|2f346d92b11fcc7c3...|d8312a2d5a108ccc4...| unavailable|     2017-12-07 11:53:32|2017-12-07 15:23:44|         9999-12-31 00:00:00|          9999-12-31 00:00:00|          2018-01-08 00:00:00|                 1| credit_card|                   1|         74.7|d002a27a4bee55557...|                   87330|          nova cantu|            PR|         NULL|      NULL|     NULL|               NULL| NULL|         NULL|\n",
      "|31f935babbc97f599...|6e067aaac313f893b...| unavailable|     2017-11-11 11:25:27|2017-11-11 11:35:31|         9999-12-31 00:00:00|          9999-12-31 00:00:00|          2017-12-08 00:00:00|                 1| credit_card|                   1|         74.7|f9ac86b4993a6e2a4...|                   89150|  presidente getulio|            SC|         NULL|      NULL|     NULL|               NULL| NULL|         NULL|\n",
      "|37553832a3a89c9b2...|7607cd563696c27ed...| unavailable|     2017-08-14 17:38:02|2017-08-17 00:15:18|         9999-12-31 00:00:00|          9999-12-31 00:00:00|          2017-09-05 00:00:00|                 1|      boleto|                   1|       132.46|596ed6d7a35890b3f...|                    2318|           sao paulo|            SP|         NULL|      NULL|     NULL|               NULL| NULL|         NULL|\n",
      "|37af1b25e7710f09d...|f3b4b3f2136722924...| unavailable|     2017-05-02 14:23:24|2017-05-02 14:31:40|         9999-12-31 00:00:00|          9999-12-31 00:00:00|          2017-05-29 00:00:00|                 1| credit_card|                   4|        204.0|05245bc04a232db14...|                   79113|        campo grande|            MS|         NULL|      NULL|     NULL|               NULL| NULL|         NULL|\n",
      "|410d704bdcbe2893f...|0424e2f81bdfb77d7...| unavailable|     2017-12-10 15:25:51|2017-12-10 15:32:40|         9999-12-31 00:00:00|          9999-12-31 00:00:00|          2018-01-04 00:00:00|                 1| credit_card|                   3|       213.91|bb6ffa5f9b68665f0...|                   12081|             taubate|            SP|         NULL|      NULL|     NULL|               NULL| NULL|         NULL|\n",
      "|4b03319a5a065c83d...|52215d2772a786a11...|    canceled|     2017-10-20 12:42:26|               NULL|         9999-12-31 00:00:00|          9999-12-31 00:00:00|          2017-11-08 00:00:00|                 1| credit_card|                   3|        145.5|48a6084b7f77f89e3...|                    4548|           sao paulo|            SP|         NULL|      NULL|     NULL|               NULL| NULL|         NULL|\n",
      "|5034308872e3b0e7c...|b4bade0909a2956cb...| unavailable|     2018-01-18 17:41:34|2018-01-18 17:54:08|         9999-12-31 00:00:00|          9999-12-31 00:00:00|          2018-02-09 00:00:00|                 1| credit_card|                  10|       143.22|866d6f4be080dca25...|                   31155|      belo horizonte|            MG|         NULL|      NULL|     NULL|               NULL| NULL|         NULL|\n",
      "|50503051a38d8ee04...|e75b06236ca6694bf...| unavailable|     2017-12-05 10:13:03|2017-12-08 09:52:49|         9999-12-31 00:00:00|          9999-12-31 00:00:00|          2018-01-03 00:00:00|                 1| credit_card|                   6|       107.78|fb206a92371c28e6d...|                   36930|           simonesia|            MG|         NULL|      NULL|     NULL|               NULL| NULL|         NULL|\n",
      "|51bda649419be0084...|089dc72259b7eb053...| unavailable|     2017-11-17 13:16:42|2017-11-17 13:55:28|         9999-12-31 00:00:00|          9999-12-31 00:00:00|          2017-11-30 00:00:00|                 1| credit_card|                   2|        67.55|1b32669eb9662ee90...|                    9551|  sao caetano do sul|            SP|         NULL|      NULL|     NULL|               NULL| NULL|         NULL|\n",
      "|54b267f79786d7ac5...|94873ba8c3246266e...| unavailable|     2017-07-24 23:36:40|2017-07-24 23:50:15|         9999-12-31 00:00:00|          9999-12-31 00:00:00|          2017-08-04 00:00:00|                 1| credit_card|                   4|        89.87|e37b8ebc20995d016...|                    6755|     taboao da serra|            SP|         NULL|      NULL|     NULL|               NULL| NULL|         NULL|\n",
      "|5ae7a6fa175ab7b18...|bc7b861ebaf436626...| unavailable|     2017-02-03 16:08:21|2017-02-03 16:21:39|         9999-12-31 00:00:00|          9999-12-31 00:00:00|          2017-03-14 00:00:00|                 1| credit_card|                   2|       105.14|2780ca41194612d0d...|                   86220|               assai|            PR|         NULL|      NULL|     NULL|               NULL| NULL|         NULL|\n",
      "+--------------------+--------------------+------------+------------------------+-------------------+----------------------------+-----------------------------+-----------------------------+------------------+------------+--------------------+-------------+--------------------+------------------------+--------------------+--------------+-------------+----------+---------+-------------------+-----+-------------+\n",
      "only showing top 20 rows\n",
      "\n"
     ]
    }
   ],
   "source": [
    "orders_detailed.filter(col('price').isNull()).show()"
   ]
  },
  {
   "cell_type": "code",
   "execution_count": 36,
   "id": "8a89cc75",
   "metadata": {},
   "outputs": [
    {
     "data": {
      "text/plain": [
       "{'order_id': 0,\n",
       " 'customer_id': 0,\n",
       " 'order_status': 0,\n",
       " 'order_purchase_timestamp': 0,\n",
       " 'order_approved_at': 176,\n",
       " 'order_delivered_carrier_date': 0,\n",
       " 'order_delivered_customer_date': 0,\n",
       " 'order_estimated_delivery_date': 0,\n",
       " 'payment_sequential': 3,\n",
       " 'payment_type': 3,\n",
       " 'payment_installments': 3,\n",
       " 'payment_value': 3,\n",
       " 'customer_unique_id': 0,\n",
       " 'customer_zip_code_prefix': 0,\n",
       " 'customer_city': 0,\n",
       " 'customer_state': 0,\n",
       " 'order_item_id': 830,\n",
       " 'product_id': 830,\n",
       " 'seller_id': 830,\n",
       " 'shipping_limit_date': 830,\n",
       " 'price': 830,\n",
       " 'freight_value': 830}"
      ]
     },
     "execution_count": 36,
     "metadata": {},
     "output_type": "execute_result"
    }
   ],
   "source": [
    "missing_values(orders_detailed)"
   ]
  },
  {
   "cell_type": "code",
   "execution_count": 39,
   "id": "ddf1bc17",
   "metadata": {},
   "outputs": [
    {
     "name": "stdout",
     "output_type": "stream",
     "text": [
      "+--------------------+------------------+\n",
      "|            order_id| total_order_value|\n",
      "+--------------------+------------------+\n",
      "|03caa2c082116e1d3...|         109312.64|\n",
      "|ab14fdcfbe524636d...| 45256.00000000001|\n",
      "|1b15974a0141d54e3...|44048.000000000015|\n",
      "|2cc9089445046817a...|          36489.24|\n",
      "|e8fa22c3673b1dd17...|30185.999999999993|\n",
      "|736e1922ae60d0d6a...|          29099.52|\n",
      "|9aec4e1ae90b23c7b...|           22346.6|\n",
      "|71dab1155600756af...|21874.049999999996|\n",
      "|912343626f370ead5...|          19457.04|\n",
      "|4412d97cb2093633a...|          19174.38|\n",
      "|9f5054bd9a3c71702...|18667.000000000004|\n",
      "|428a2f660dc84138d...|          18384.75|\n",
      "|3a213fcdfe7d98be7...|          17786.88|\n",
      "|f80549a97eb203e15...|           17671.0|\n",
      "|cf4659487be50c0c3...|          17069.76|\n",
      "|be382a9e1ed251281...|16313.600000000002|\n",
      "|637617b3ffe9e2f7a...|14963.639999999998|\n",
      "|c52c7fbe316b5b9d5...|14577.569999999998|\n",
      "|f60ce04ff8060152c...|14401.000000000002|\n",
      "|73c8ab38f07dc9438...|14196.280000000004|\n",
      "+--------------------+------------------+\n",
      "only showing top 20 rows\n",
      "\n"
     ]
    }
   ],
   "source": [
    "from pyspark.sql.functions import sum\n",
    "\n",
    "# group per order to evaluate total value of the orders\n",
    "orders_per_customers = orders_detailed.groupBy('order_id').agg(sum('payment_value').alias('total_order_value')).orderBy('total_order_value', ascending=False)\n",
    "orders_per_customers.show()"
   ]
  },
  {
   "cell_type": "code",
   "execution_count": 89,
   "id": "7a3082e9",
   "metadata": {},
   "outputs": [
    {
     "data": {
      "image/png": "[encoded data removed]",
      "text/plain": [
       "<Figure size 640x480 with 1 Axes>"
      ]
     },
     "metadata": {},
     "output_type": "display_data"
    }
   ],
   "source": [
    "orders_per_customers.sample(fraction=0.1).toPandas().plot(kind='hist', bins=40);"
   ]
  },
  {
   "cell_type": "code",
   "execution_count": 49,
   "id": "69cba293",
   "metadata": {},
   "outputs": [
    {
     "data": {
      "text/plain": [
       "[62.01, 111.6, 195.0]"
      ]
     },
     "execution_count": 49,
     "metadata": {},
     "output_type": "execute_result"
    }
   ],
   "source": [
    "quantiles_orders = orders_per_customers.approxQuantile('total_order_value', [0.25, 0.5, 0.75], relativeError=0.01)\n",
    "quantiles_orders"
   ]
  },
  {
   "cell_type": "code",
   "execution_count": null,
   "id": "48da6293",
   "metadata": {},
   "outputs": [
    {
     "name": "stdout",
     "output_type": "stream",
     "text": [
      "+-------+------------------+\n",
      "|summary| total_order_value|\n",
      "+-------+------------------+\n",
      "|  count|             99440|\n",
      "|   mean|205.86008306520188|\n",
      "| stddev| 619.1214548001797|\n",
      "|    min|               0.0|\n",
      "|    25%|             62.74|\n",
      "|    50%|            109.62|\n",
      "|    75%|            195.91|\n",
      "|    max|         109312.64|\n",
      "+-------+------------------+\n",
      "\n"
     ]
    }
   ],
   "source": [
    "# summary calculates statistics but its computational expensive\n",
    "orders_per_customers.select('total_order_value').summary().show()"
   ]
  },
  {
   "cell_type": "code",
   "execution_count": 58,
   "id": "1825e087",
   "metadata": {},
   "outputs": [
    {
     "data": {
      "text/plain": [
       "99441"
      ]
     },
     "execution_count": 58,
     "metadata": {},
     "output_type": "execute_result"
    }
   ],
   "source": [
    "orders_per_customers.count()"
   ]
  },
  {
   "cell_type": "code",
   "execution_count": 75,
   "id": "e8545e41",
   "metadata": {},
   "outputs": [
    {
     "data": {
      "text/plain": [
       "(22.38, 1645.82)"
      ]
     },
     "execution_count": 75,
     "metadata": {},
     "output_type": "execute_result"
    }
   ],
   "source": [
    "# remove outliers from datasets\n",
    "low_outlier, high_outlier = (\n",
    "        orders_per_customers\n",
    "            .select('total_order_value')\n",
    "            .approxQuantile('total_order_value', [0.01, 0.99], relativeError=0.00)\n",
    "        )\n",
    "\n",
    "low_outlier, high_outlier"
   ]
  },
  {
   "cell_type": "code",
   "execution_count": null,
   "id": "af7e923c",
   "metadata": {},
   "outputs": [
    {
     "name": "stdout",
     "output_type": "stream",
     "text": [
      "+--------------------+------------------+\n",
      "|            order_id| total_order_value|\n",
      "+--------------------+------------------+\n",
      "|03caa2c082116e1d3...|         109312.64|\n",
      "|ab14fdcfbe524636d...| 45256.00000000001|\n",
      "|1b15974a0141d54e3...|44048.000000000015|\n",
      "|2cc9089445046817a...|          36489.24|\n",
      "|e8fa22c3673b1dd17...|30185.999999999993|\n",
      "|736e1922ae60d0d6a...|          29099.52|\n",
      "|9aec4e1ae90b23c7b...|           22346.6|\n",
      "|71dab1155600756af...|21874.049999999996|\n",
      "|912343626f370ead5...|          19457.04|\n",
      "|4412d97cb2093633a...|          19174.38|\n",
      "|9f5054bd9a3c71702...|18667.000000000004|\n",
      "|428a2f660dc84138d...|          18384.75|\n",
      "|3a213fcdfe7d98be7...|          17786.88|\n",
      "|f80549a97eb203e15...|           17671.0|\n",
      "|cf4659487be50c0c3...|          17069.76|\n",
      "|be382a9e1ed251281...|16313.600000000002|\n",
      "|637617b3ffe9e2f7a...|14963.639999999998|\n",
      "|c52c7fbe316b5b9d5...|14577.569999999998|\n",
      "|f60ce04ff8060152c...|14401.000000000002|\n",
      "|73c8ab38f07dc9438...|14196.280000000004|\n",
      "+--------------------+------------------+\n",
      "only showing top 20 rows\n",
      "\n"
     ]
    }
   ],
   "source": [
    "orders_per_customers_out = (\n",
    "        orders_per_customers\n",
    "            .filter((col('total_order_value') <= low_outlier) | (col('total_order_value') >= high_outlier))\n",
    "            )\n",
    "\n",
    "orders_per_customers_out.show()"
   ]
  },
  {
   "cell_type": "code",
   "execution_count": 80,
   "id": "1147959f",
   "metadata": {},
   "outputs": [],
   "source": [
    "orders_detailed_clean = orders_detailed.join(\n",
    "    orders_per_customers_out, 'order_id', 'leftanti'\n",
    ")"
   ]
  },
  {
   "cell_type": "code",
   "execution_count": 81,
   "id": "de858995",
   "metadata": {},
   "outputs": [
    {
     "data": {
      "text/plain": [
       "113924"
      ]
     },
     "execution_count": 81,
     "metadata": {},
     "output_type": "execute_result"
    }
   ],
   "source": [
    "orders_detailed_clean.count()"
   ]
  },
  {
   "cell_type": "code",
   "execution_count": 90,
   "id": "5418cbbd",
   "metadata": {},
   "outputs": [
    {
     "data": {
      "image/png": "[encoded data removed]",
      "text/plain": [
       "<Figure size 640x480 with 1 Axes>"
      ]
     },
     "metadata": {},
     "output_type": "display_data"
    }
   ],
   "source": [
    "(\n",
    "    orders_detailed_clean\n",
    "        .sample(fraction=0.1)\n",
    "        .groupBy('order_id')\n",
    "        .agg(sum('payment_value').alias('total_payment'))\n",
    "        .orderBy('total_payment', ascending=False)\n",
    "        .select('total_payment')\n",
    "        .toPandas()\n",
    "        .plot(kind='hist', bins=40)\n",
    "    );"
   ]
  },
  {
   "cell_type": "markdown",
   "id": "54ec01ca",
   "metadata": {},
   "source": [
    "### Write Data as Parquet\n"
   ]
  },
  {
   "cell_type": "code",
   "execution_count": 101,
   "id": "28cbd8f5",
   "metadata": {},
   "outputs": [],
   "source": [
    "import os \n",
    "#hdfs\n",
    "#!hadoop fs -mkdir /data/olist_processed\n",
    "\n",
    "#local\n",
    "os.mkdir(os.path.join('data', 'olist_processed'))"
   ]
  },
  {
   "cell_type": "code",
   "execution_count": 104,
   "id": "07848701",
   "metadata": {},
   "outputs": [],
   "source": [
    "(\n",
    "    orders_detailed_clean\n",
    "        .write\n",
    "        .option('compression', 'gzip')\n",
    "        .mode('overwrite')\n",
    "        .parquet(os.path.join('data', 'olist_processed', 'order_detailed_clean.parquet')))"
   ]
  },
  {
   "cell_type": "code",
   "execution_count": 105,
   "id": "48fdefbf",
   "metadata": {},
   "outputs": [
    {
     "name": "stdout",
     "output_type": "stream",
     "text": [
      "root\n",
      " |-- order_id: string (nullable = true)\n",
      " |-- customer_id: string (nullable = true)\n",
      " |-- order_status: string (nullable = true)\n",
      " |-- order_purchase_timestamp: timestamp (nullable = true)\n",
      " |-- order_approved_at: timestamp (nullable = true)\n",
      " |-- order_delivered_carrier_date: timestamp (nullable = true)\n",
      " |-- order_delivered_customer_date: timestamp (nullable = true)\n",
      " |-- order_estimated_delivery_date: timestamp (nullable = true)\n",
      " |-- payment_sequential: integer (nullable = true)\n",
      " |-- payment_type: string (nullable = true)\n",
      " |-- payment_installments: integer (nullable = true)\n",
      " |-- payment_value: double (nullable = true)\n",
      " |-- customer_unique_id: string (nullable = true)\n",
      " |-- customer_zip_code_prefix: string (nullable = true)\n",
      " |-- customer_city: string (nullable = true)\n",
      " |-- customer_state: string (nullable = true)\n",
      " |-- order_item_id: integer (nullable = true)\n",
      " |-- product_id: string (nullable = true)\n",
      " |-- seller_id: string (nullable = true)\n",
      " |-- shipping_limit_date: timestamp (nullable = true)\n",
      " |-- price: double (nullable = true)\n",
      " |-- freight_value: double (nullable = true)\n",
      "\n"
     ]
    }
   ],
   "source": [
    "orders_detailed_clean.printSchema()"
   ]
  },
  {
   "cell_type": "code",
   "execution_count": 118,
   "id": "5c5ffc44",
   "metadata": {},
   "outputs": [],
   "source": [
    "customer_dataset.write.mode('overwrite').saveAsTable('table')"
   ]
  },
  {
   "cell_type": "code",
   "execution_count": 120,
   "id": "02ea4968",
   "metadata": {},
   "outputs": [
    {
     "name": "stdout",
     "output_type": "stream",
     "text": [
      "+--------------------+--------------------+------------------------+--------------------+--------------+\n",
      "|         customer_id|  customer_unique_id|customer_zip_code_prefix|       customer_city|customer_state|\n",
      "+--------------------+--------------------+------------------------+--------------------+--------------+\n",
      "|f2a1d75b74d9ec748...|15ee900ec703c9a10...|                   68590|             jacunda|            PA|\n",
      "|f15272fe9d0e2ae32...|11e74a9cbe1158d1c...|                   15056|sao jose do rio p...|            SP|\n",
      "|7324ecb0ff143f561...|c6be127fa6e30c6f7...|                   13302|                 itu|            SP|\n",
      "|7accf3d920f47c07f...|a7f1a6dc9ba06844b...|                   45638|             coaraci|            BA|\n",
      "|3680a273ddb333253...|6cbfcc29787035834...|                   29700|            colatina|            ES|\n",
      "|f18edbd308dd8784f...|ef6e328edc28262f4...|                   18055|            sorocaba|            SP|\n",
      "|d7492c2b1d4bcba6c...|d681f09d6d055742a...|                   44054|    feira de santana|            BA|\n",
      "|208954ebe4665c5b2...|dc36c19e6e8bdcb2d...|                    9812|sao bernardo do c...|            SP|\n",
      "|eb4e0055f25e3f034...|d5763d39861acd1ba...|                   70673|            brasilia|            DF|\n",
      "|8271ceeaf964f129b...|ef702c59e385cb13b...|                   22793|      rio de janeiro|            RJ|\n",
      "|9c701fa0ca8a580d8...|3c023c5cbc1bb587b...|                   55819|             carpina|            PE|\n",
      "|c2e1d65c47178eac5...|d1dae3a5d39b12618...|                    9370|                maua|            SP|\n",
      "|36ffc4b2179b9dec3...|0139884762afa50d7...|                   49400|             lagarto|            SE|\n",
      "|167be5b45cbb0ea5a...|e3301490c373db926...|                    8223|           sao paulo|            SP|\n",
      "|49370a22da342102b...|ddd1f21fb793ef511...|                   95705|     bento goncalves|            RS|\n",
      "|8c49acfb057226024...|708976af642e89528...|                   88385|               penha|            SC|\n",
      "|972cd773a42450ed3...|d7140656936a64175...|                    2013|           sao paulo|            SP|\n",
      "|7b2a039a8b7b57d48...|fbf1b27fc02af440c...|                    2846|           sao paulo|            SP|\n",
      "|1e82589c6c7a1f0d3...|35946f04caff0b0df...|                   64082|            teresina|            PI|\n",
      "|72d122e0e3d6c3300...|4fb69312bb98245c6...|                   58053|         joao pessoa|            PB|\n",
      "+--------------------+--------------------+------------------------+--------------------+--------------+\n",
      "only showing top 20 rows\n",
      "\n"
     ]
    }
   ],
   "source": [
    "spark.sql('select * from table').show()"
   ]
  }
 ],
 "metadata": {
  "kernelspec": {
   "display_name": "venv",
   "language": "python",
   "name": "python3"
  },
  "language_info": {
   "codemirror_mode": {
    "name": "ipython",
    "version": 3
   },
   "file_extension": ".py",
   "mimetype": "text/x-python",
   "name": "python",
   "nbconvert_exporter": "python",
   "pygments_lexer": "ipython3",
   "version": "3.12.11"
  }
 },
 "nbformat": 4,
 "nbformat_minor": 5
}
