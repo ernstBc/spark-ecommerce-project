{
 "cells": [
  {
   "cell_type": "code",
   "execution_count": 1,
   "id": "94ff89cd",
   "metadata": {},
   "outputs": [],
   "source": [
    "import os\n",
    "\n",
    "# set correct directory\n",
    "os.chdir('..')\n"
   ]
  },
  {
   "cell_type": "code",
   "execution_count": 2,
   "id": "d6237196",
   "metadata": {},
   "outputs": [
    {
     "name": "stderr",
     "output_type": "stream",
     "text": [
      "c:\\Users\\ernes\\Documents\\ML Projects\\spark-ecommerce\\venv\\Lib\\site-packages\\tqdm\\auto.py:21: TqdmWarning: IProgress not found. Please update jupyter and ipywidgets. See https://ipywidgets.readthedocs.io/en/stable/user_install.html\n",
      "  from .autonotebook import tqdm as notebook_tqdm\n"
     ]
    }
   ],
   "source": [
    "from src.data_ingestion.download_data import download_dataset\n",
    "from src.config.config import DATA_FOLDER"
   ]
  },
  {
   "cell_type": "markdown",
   "id": "2d2342a2",
   "metadata": {},
   "source": [
    "# Download Data\n",
    "\n",
    "Using the fucntion ``download_data`` to download the data from kaggle to the local machine"
   ]
  },
  {
   "cell_type": "code",
   "execution_count": 5,
   "id": "e691491c",
   "metadata": {},
   "outputs": [],
   "source": [
    "if not os.path.exists(DATA_FOLDER):\n",
    "    #download_data()\n",
    "    pass\n"
   ]
  },
  {
   "cell_type": "markdown",
   "id": "509f2763",
   "metadata": {},
   "source": [
    "After downloading the data, if  the enviroment is using HDFS to distribute the data the following bash commands will put the data into HDFS\n",
    "\n",
    "1. Create the folder in HDFS    \n",
    "``hdfs dfs -mkdir /data/olist``\n",
    "\n",
    "2. Move the data to HDFS:\n",
    "``hadoop fs -put /data/*.csv /data/olist/``"
   ]
  },
  {
   "cell_type": "markdown",
   "id": "31462deb",
   "metadata": {},
   "source": [
    "#"
   ]
  },
  {
   "cell_type": "markdown",
   "id": "5bfedadc",
   "metadata": {},
   "source": [
    "# Create a Spark Session to inspect the data"
   ]
  },
  {
   "cell_type": "code",
   "execution_count": 31,
   "id": "a07d498a",
   "metadata": {},
   "outputs": [
    {
     "data": {
      "text/html": [
       "\n",
       "            <div>\n",
       "                <p><b>SparkSession - in-memory</b></p>\n",
       "                \n",
       "        <div>\n",
       "            <p><b>SparkContext</b></p>\n",
       "\n",
       "            <p><a href=\"http://LAPTOP-SCS27K3Q:4040\">Spark UI</a></p>\n",
       "\n",
       "            <dl>\n",
       "              <dt>Version</dt>\n",
       "                <dd><code>v3.5.3</code></dd>\n",
       "              <dt>Master</dt>\n",
       "                <dd><code>local[*]</code></dd>\n",
       "              <dt>AppName</dt>\n",
       "                <dd><code>olist</code></dd>\n",
       "            </dl>\n",
       "        </div>\n",
       "        \n",
       "            </div>\n",
       "        "
      ],
      "text/plain": [
       "<pyspark.sql.session.SparkSession at 0x28dd953d5b0>"
      ]
     },
     "execution_count": 31,
     "metadata": {},
     "output_type": "execute_result"
    }
   ],
   "source": [
    "from pyspark.sql import SparkSession\n",
    "import matplotlib.pyplot as plt\n",
    "import pandas as pd\n",
    "\n",
    "spark = (SparkSession\n",
    "            .builder\n",
    "            .appName('olist')\n",
    "            .getOrCreate())\n",
    "\n",
    "spark"
   ]
  },
  {
   "cell_type": "code",
   "execution_count": 32,
   "id": "f3201674",
   "metadata": {},
   "outputs": [],
   "source": [
    "# import paths\n",
    "from src.config.config import (CUSTOMER_DATASET,\n",
    "                               ORDER_DATASET,\n",
    "                               ORDER_ITEMS_DATASET,\n",
    "                               ORDER_PAYMENTS_DATASET,\n",
    "                               ORDER_REVIEWS_DATASET,\n",
    "                               PRODUCTS_DATASET,\n",
    "                               SELLERS_DATASET,\n",
    "                               GEOLOCATION_DATASET,\n",
    "                               PRODUCT_TRANSLATIONS\n",
    "                               )\n",
    "hdfs_path = 'data/olist/'"
   ]
  },
  {
   "cell_type": "code",
   "execution_count": 33,
   "id": "9c797c87",
   "metadata": {},
   "outputs": [],
   "source": [
    "customer_dataset = spark.read.csv(hdfs_path + CUSTOMER_DATASET, header=True, inferSchema=True)\n",
    "order_dataset = spark.read.csv(hdfs_path + ORDER_DATASET, header=True, inferSchema=True)\n",
    "items_dataset = spark.read.csv(hdfs_path + ORDER_ITEMS_DATASET, header=True, inferSchema=True)\n",
    "payments_dataset = spark.read.csv(hdfs_path + ORDER_PAYMENTS_DATASET, header=True, inferSchema=True)\n",
    "reviews_dataset = spark.read.csv(hdfs_path + ORDER_REVIEWS_DATASET, header=True, inferSchema=True)\n",
    "geolocation_dataset = spark.read.csv(hdfs_path + GEOLOCATION_DATASET, header=True, inferSchema=True)\n",
    "products_dataset = spark.read.csv(hdfs_path + PRODUCTS_DATASET, header=True, inferSchema=True)\n",
    "sellers_dataset = spark.read.csv(hdfs_path + SELLERS_DATASET, header=True, inferSchema=True)\n",
    "translations = spark.read.csv(hdfs_path + PRODUCT_TRANSLATIONS, header=True, inferSchema=True)"
   ]
  },
  {
   "cell_type": "code",
   "execution_count": 136,
   "id": "078718d4",
   "metadata": {},
   "outputs": [
    {
     "name": "stdout",
     "output_type": "stream",
     "text": [
      "+--------------------+-------------+--------------------+--------------------+-------------------+-----+-------------+\n",
      "|            order_id|order_item_id|          product_id|           seller_id|shipping_limit_date|price|freight_value|\n",
      "+--------------------+-------------+--------------------+--------------------+-------------------+-----+-------------+\n",
      "|00010242fe8c5a6d1...|            1|4244733e06e7ecb49...|48436dade18ac8b2b...|2017-09-19 09:45:35| 58.9|        13.29|\n",
      "+--------------------+-------------+--------------------+--------------------+-------------------+-----+-------------+\n",
      "only showing top 1 row\n",
      "\n"
     ]
    }
   ],
   "source": [
    "items_dataset.show(1)"
   ]
  },
  {
   "cell_type": "code",
   "execution_count": 34,
   "id": "ea6f63f2",
   "metadata": {},
   "outputs": [
    {
     "name": "stdout",
     "output_type": "stream",
     "text": [
      "root\n",
      " |-- customer_id: string (nullable = true)\n",
      " |-- customer_unique_id: string (nullable = true)\n",
      " |-- customer_zip_code_prefix: integer (nullable = true)\n",
      " |-- customer_city: string (nullable = true)\n",
      " |-- customer_state: string (nullable = true)\n",
      "\n"
     ]
    }
   ],
   "source": [
    "customer_dataset.printSchema()"
   ]
  },
  {
   "cell_type": "code",
   "execution_count": 35,
   "id": "d15b89d7",
   "metadata": {},
   "outputs": [
    {
     "name": "stdout",
     "output_type": "stream",
     "text": [
      "root\n",
      " |-- order_id: string (nullable = true)\n",
      " |-- customer_id: string (nullable = true)\n",
      " |-- order_status: string (nullable = true)\n",
      " |-- order_purchase_timestamp: timestamp (nullable = true)\n",
      " |-- order_approved_at: timestamp (nullable = true)\n",
      " |-- order_delivered_carrier_date: timestamp (nullable = true)\n",
      " |-- order_delivered_customer_date: timestamp (nullable = true)\n",
      " |-- order_estimated_delivery_date: timestamp (nullable = true)\n",
      "\n"
     ]
    }
   ],
   "source": [
    "order_dataset.printSchema()"
   ]
  },
  {
   "cell_type": "code",
   "execution_count": 36,
   "id": "8f534516",
   "metadata": {},
   "outputs": [
    {
     "name": "stdout",
     "output_type": "stream",
     "text": [
      "Num rows\n",
      "Customers: 99441\n",
      "Orders: 99441\n",
      "Order Reviews: 104162\n"
     ]
    }
   ],
   "source": [
    "# \n",
    "print('Num rows')\n",
    "print(f'Customers: {customer_dataset.count()}')\n",
    "print(f\"Orders: {order_dataset.count()}\")\n",
    "print(f'Order Reviews: {reviews_dataset.count()}')"
   ]
  },
  {
   "cell_type": "code",
   "execution_count": 37,
   "id": "cd2c9f5c",
   "metadata": {},
   "outputs": [
    {
     "name": "stdout",
     "output_type": "stream",
     "text": [
      "+-------+--------------------+--------------------+------------------------+-------------------+--------------+\n",
      "|summary|         customer_id|  customer_unique_id|customer_zip_code_prefix|      customer_city|customer_state|\n",
      "+-------+--------------------+--------------------+------------------------+-------------------+--------------+\n",
      "|  count|               99441|               99441|                   99441|              99441|         99441|\n",
      "|   mean|                NULL|                NULL|       35137.47458291851|               NULL|          NULL|\n",
      "| stddev|                NULL|                NULL|       29797.93899620613|               NULL|          NULL|\n",
      "|    min|00012a2ce6f8dcda2...|0000366f3b9a7992b...|                    1003|abadia dos dourados|            AC|\n",
      "|    max|ffffe8b65bbe3087b...|ffffd2657e2aad290...|                   99990|             zortea|            TO|\n",
      "+-------+--------------------+--------------------+------------------------+-------------------+--------------+\n",
      "\n"
     ]
    }
   ],
   "source": [
    "customer_dataset.describe().show()"
   ]
  },
  {
   "cell_type": "markdown",
   "id": "461922b5",
   "metadata": {},
   "source": [
    "### Checking Null Values"
   ]
  },
  {
   "cell_type": "code",
   "execution_count": 38,
   "id": "47a6b8f4",
   "metadata": {},
   "outputs": [
    {
     "name": "stdout",
     "output_type": "stream",
     "text": [
      "Num Null rows\n",
      "customer_id:0\n",
      "customer_unique_id:0\n",
      "customer_zip_code_prefix:0\n",
      "customer_city:0\n",
      "customer_state:0\n"
     ]
    }
   ],
   "source": [
    "# check if there are null values in the data\n",
    "from pyspark.sql.functions import col\n",
    "\n",
    "print('Num Null rows')\n",
    "for co in customer_dataset.columns:\n",
    "    print( f'{co}:{customer_dataset.select(co).filter(col(co).isNull()).count() }')"
   ]
  },
  {
   "cell_type": "markdown",
   "id": "aea32954",
   "metadata": {},
   "source": [
    "### Checking Duplicated Values"
   ]
  },
  {
   "cell_type": "code",
   "execution_count": 39,
   "id": "02ed75ce",
   "metadata": {},
   "outputs": [
    {
     "name": "stdout",
     "output_type": "stream",
     "text": [
      "+-----------+-----+\n",
      "|customer_id|count|\n",
      "+-----------+-----+\n",
      "+-----------+-----+\n",
      "\n"
     ]
    }
   ],
   "source": [
    "customer_dataset.groupBy('customer_id').count().filter('count>1').show()"
   ]
  },
  {
   "cell_type": "markdown",
   "id": "961336a7",
   "metadata": {},
   "source": [
    "### Distribution of the customers across states"
   ]
  },
  {
   "cell_type": "code",
   "execution_count": 40,
   "id": "0710709b",
   "metadata": {},
   "outputs": [
    {
     "name": "stdout",
     "output_type": "stream",
     "text": [
      "+--------------+-----+\n",
      "|customer_state|count|\n",
      "+--------------+-----+\n",
      "|            SP|41746|\n",
      "|            RJ|12852|\n",
      "|            MG|11635|\n",
      "|            RS| 5466|\n",
      "|            PR| 5045|\n",
      "|            SC| 3637|\n",
      "|            BA| 3380|\n",
      "|            DF| 2140|\n",
      "|            ES| 2033|\n",
      "|            GO| 2020|\n",
      "|            PE| 1652|\n",
      "|            CE| 1336|\n",
      "|            PA|  975|\n",
      "|            MT|  907|\n",
      "|            MA|  747|\n",
      "|            MS|  715|\n",
      "|            PB|  536|\n",
      "|            PI|  495|\n",
      "|            RN|  485|\n",
      "|            AL|  413|\n",
      "+--------------+-----+\n",
      "only showing top 20 rows\n",
      "\n"
     ]
    }
   ],
   "source": [
    "customer_dataset.groupBy('customer_state').count().orderBy('count', ascending=False).show()"
   ]
  },
  {
   "cell_type": "code",
   "execution_count": 41,
   "id": "ba0b6534",
   "metadata": {},
   "outputs": [
    {
     "name": "stdout",
     "output_type": "stream",
     "text": [
      "+------------+-----+\n",
      "|order_status|count|\n",
      "+------------+-----+\n",
      "|   delivered|96478|\n",
      "|     shipped| 1107|\n",
      "|    canceled|  625|\n",
      "| unavailable|  609|\n",
      "|    invoiced|  314|\n",
      "|  processing|  301|\n",
      "|     created|    5|\n",
      "|    approved|    2|\n",
      "+------------+-----+\n",
      "\n"
     ]
    }
   ],
   "source": [
    "# order status distributions\n",
    "order_dataset.groupBy('order_status').count().orderBy('count', ascending=False).show()"
   ]
  },
  {
   "cell_type": "markdown",
   "id": "52a0129a",
   "metadata": {},
   "source": [
    "Analysis on Payments"
   ]
  },
  {
   "cell_type": "code",
   "execution_count": 42,
   "id": "a8099744",
   "metadata": {},
   "outputs": [
    {
     "name": "stdout",
     "output_type": "stream",
     "text": [
      "+------------+-----+\n",
      "|payment_type|count|\n",
      "+------------+-----+\n",
      "| credit_card|76795|\n",
      "|      boleto|19784|\n",
      "|     voucher| 5775|\n",
      "|  debit_card| 1529|\n",
      "| not_defined|    3|\n",
      "+------------+-----+\n",
      "\n"
     ]
    }
   ],
   "source": [
    "# payment methods\n",
    "payments_dataset.groupBy('payment_type').count().orderBy('count', ascending=False).show()"
   ]
  },
  {
   "cell_type": "code",
   "execution_count": 43,
   "id": "b3bd1bb9",
   "metadata": {},
   "outputs": [
    {
     "data": {
      "text/plain": [
       "['order_id',\n",
       " 'payment_sequential',\n",
       " 'payment_type',\n",
       " 'payment_installments',\n",
       " 'payment_value']"
      ]
     },
     "execution_count": 43,
     "metadata": {},
     "output_type": "execute_result"
    }
   ],
   "source": [
    "payments_dataset.columns"
   ]
  },
  {
   "cell_type": "code",
   "execution_count": 44,
   "id": "ec8e7237",
   "metadata": {},
   "outputs": [
    {
     "data": {
      "image/png": "[encoded data removed]",
      "text/plain": [
       "<Figure size 800x500 with 1 Axes>"
      ]
     },
     "metadata": {},
     "output_type": "display_data"
    }
   ],
   "source": [
    "# payment price distribution\n",
    "(\n",
    "    payments_dataset\n",
    "        .select('payment_value')\n",
    "        .sample(fraction=0.1)\n",
    "        .toPandas()\n",
    "        .plot\n",
    "        .hist(figsize=(8, 5), xlabel='Payment Value', legend=False, bins=50)\n",
    ")\n",
    "\n",
    "plt.show()"
   ]
  },
  {
   "cell_type": "markdown",
   "id": "387ada28",
   "metadata": {},
   "source": [
    "Product Analysis"
   ]
  },
  {
   "cell_type": "code",
   "execution_count": 120,
   "id": "75725e78",
   "metadata": {},
   "outputs": [
    {
     "name": "stdout",
     "output_type": "stream",
     "text": [
      "+--------------------+--------------------+------------+------------------------+-------------------+----------------------------+-----------------------------+-----------------------------+\n",
      "|            order_id|         customer_id|order_status|order_purchase_timestamp|  order_approved_at|order_delivered_carrier_date|order_delivered_customer_date|order_estimated_delivery_date|\n",
      "+--------------------+--------------------+------------+------------------------+-------------------+----------------------------+-----------------------------+-----------------------------+\n",
      "|e481f51cbdc54678b...|9ef432eb625129730...|   delivered|     2017-10-02 10:56:33|2017-10-02 11:07:15|         2017-10-04 19:55:00|          2017-10-10 21:25:13|          2017-10-18 00:00:00|\n",
      "|53cdb2fc8bc7dce0b...|b0830fb4747a6c6d2...|   delivered|     2018-07-24 20:41:37|2018-07-26 03:24:27|         2018-07-26 14:31:00|          2018-08-07 15:27:45|          2018-08-13 00:00:00|\n",
      "|47770eb9100c2d0c4...|41ce2a54c0b03bf34...|   delivered|     2018-08-08 08:38:49|2018-08-08 08:55:23|         2018-08-08 13:50:00|          2018-08-17 18:06:29|          2018-09-04 00:00:00|\n",
      "+--------------------+--------------------+------------+------------------------+-------------------+----------------------------+-----------------------------+-----------------------------+\n",
      "only showing top 3 rows\n",
      "\n"
     ]
    }
   ],
   "source": [
    "order_dataset.show(3)"
   ]
  },
  {
   "cell_type": "code",
   "execution_count": 129,
   "id": "5213d7fc",
   "metadata": {},
   "outputs": [],
   "source": [
    "order_product = (order_dataset\n",
    "    .join(items_dataset, order_dataset.order_id == items_dataset.order_id, 'inner')\n",
    "    )\n",
    "\n",
    "order_product = (\n",
    "    order_product\n",
    "        .join(products_dataset, order_product.product_id == products_dataset.product_id, 'inner')\n",
    ")\n",
    "\n",
    "product_details = order_product.select(['customer_id', 'price', 'freight_value', 'product_category_name']).cache()"
   ]
  },
  {
   "cell_type": "code",
   "execution_count": 131,
   "id": "09558541",
   "metadata": {},
   "outputs": [
    {
     "name": "stdout",
     "output_type": "stream",
     "text": [
      "+--------------------+------+-------------+---------------------+\n",
      "|         customer_id| price|freight_value|product_category_name|\n",
      "+--------------------+------+-------------+---------------------+\n",
      "|3ce436f183e68e078...|  58.9|        13.29|           cool_stuff|\n",
      "|f6dd3ec061db4e398...| 239.9|        19.93|             pet_shop|\n",
      "|6489ae5e4333f3693...| 199.0|        17.87|     moveis_decoracao|\n",
      "|d4eb9395c8c0431ee...| 12.99|        12.79|           perfumaria|\n",
      "|58dbd0b2d70206bf4...| 199.9|        18.14|   ferramentas_jardim|\n",
      "|816cbea969fe5b689...|  21.9|        12.69| utilidades_domest...|\n",
      "|32e2e6ab09e778d99...|  19.9|        11.85|            telefonia|\n",
      "|9ed5e522dd9dd85b4...| 810.0|        70.75|   ferramentas_jardim|\n",
      "|16150771dfd477626...|145.95|        11.65|         beleza_saude|\n",
      "|351d3cb2cee3c7fd0...| 53.99|         11.4|      livros_tecnicos|\n",
      "|c6fc061d86fab1e2b...| 59.99|         8.88|         beleza_saude|\n",
      "|6a899e55865de6549...|  45.0|        12.98| fashion_bolsas_e_...|\n",
      "|5d178120c29c61748...|  74.0|        23.32|      cama_mesa_banho|\n",
      "|2355af7c75e7c98b4...|  49.9|        13.37|   ferramentas_jardim|\n",
      "|2355af7c75e7c98b4...|  49.9|        13.37|   ferramentas_jardim|\n",
      "|2a30c97668e81df7c...|  99.9|        27.65|        esporte_lazer|\n",
      "|8a250edc40ebc5c39...| 639.0|        11.34|       consoles_games|\n",
      "|fff5169e583fd07fa...| 144.0|         8.77|           perfumaria|\n",
      "|3773bcf1a6fbd2923...|  99.0|        13.71|        esporte_lazer|\n",
      "|2b01d668726fb0b75...|  25.0|        16.11|           cool_stuff|\n",
      "+--------------------+------+-------------+---------------------+\n",
      "only showing top 20 rows\n",
      "\n"
     ]
    }
   ],
   "source": [
    "\n",
    "product_details.show()"
   ]
  },
  {
   "cell_type": "code",
   "execution_count": 132,
   "id": "809f81a7",
   "metadata": {},
   "outputs": [
    {
     "name": "stdout",
     "output_type": "stream",
     "text": [
      "+--------------------+-------------+--------------------+--------------------+-------------------+-----+-------------+\n",
      "|            order_id|order_item_id|          product_id|           seller_id|shipping_limit_date|price|freight_value|\n",
      "+--------------------+-------------+--------------------+--------------------+-------------------+-----+-------------+\n",
      "|00010242fe8c5a6d1...|            1|4244733e06e7ecb49...|48436dade18ac8b2b...|2017-09-19 09:45:35| 58.9|        13.29|\n",
      "|00018f77f2f0320c5...|            1|e5f2d52b802189ee6...|dd7ddc04e1b6c2c61...|2017-05-03 11:05:13|239.9|        19.93|\n",
      "|000229ec398224ef6...|            1|c777355d18b72b67a...|5b51032eddd242adc...|2018-01-18 14:48:30|199.0|        17.87|\n",
      "|00024acbcdf0a6daa...|            1|7634da152a4610f15...|9d7a1d34a50524090...|2018-08-15 10:10:18|12.99|        12.79|\n",
      "|00042b26cf59d7ce6...|            1|ac6c3623068f30de0...|df560393f3a51e745...|2017-02-13 13:57:51|199.9|        18.14|\n",
      "+--------------------+-------------+--------------------+--------------------+-------------------+-----+-------------+\n",
      "only showing top 5 rows\n",
      "\n"
     ]
    }
   ],
   "source": [
    "items_dataset.show(5)"
   ]
  },
  {
   "cell_type": "code",
   "execution_count": 133,
   "id": "01a5ff05",
   "metadata": {},
   "outputs": [
    {
     "name": "stdout",
     "output_type": "stream",
     "text": [
      "+---------------------+-----------+\n",
      "|product_category_name|total_sales|\n",
      "+---------------------+-----------+\n",
      "|      cama_mesa_banho|      11115|\n",
      "|         beleza_saude|       9670|\n",
      "|        esporte_lazer|       8641|\n",
      "|     moveis_decoracao|       8334|\n",
      "| informatica_acess...|       7827|\n",
      "| utilidades_domest...|       6964|\n",
      "|   relogios_presentes|       5991|\n",
      "|            telefonia|       4545|\n",
      "|   ferramentas_jardim|       4347|\n",
      "|           automotivo|       4235|\n",
      "|           brinquedos|       4117|\n",
      "|           cool_stuff|       3796|\n",
      "|           perfumaria|       3419|\n",
      "|                bebes|       3065|\n",
      "|          eletronicos|       2767|\n",
      "|            papelaria|       2517|\n",
      "| fashion_bolsas_e_...|       2031|\n",
      "|             pet_shop|       1947|\n",
      "|    moveis_escritorio|       1691|\n",
      "|       consoles_games|       1137|\n",
      "+---------------------+-----------+\n",
      "only showing top 20 rows\n",
      "\n"
     ]
    }
   ],
   "source": [
    "# top selled categories by quantity\n",
    "from pyspark.sql.functions import count\n",
    "\n",
    "top_product = (\n",
    "    product_details\n",
    "        .select(['product_category_name'])\n",
    "        .groupBy('product_category_name')\n",
    "        .agg(count('product_category_name').alias('total_sales'))\n",
    "        .orderBy('total_sales', ascending=False)\n",
    "    \n",
    ")\n",
    "top_product.show()"
   ]
  },
  {
   "cell_type": "code",
   "execution_count": 134,
   "id": "e35848cd",
   "metadata": {},
   "outputs": [
    {
     "name": "stdout",
     "output_type": "stream",
     "text": [
      "+---------------------+------------------+\n",
      "|product_category_name|       total_sales|\n",
      "+---------------------+------------------+\n",
      "|         beleza_saude|1258681.3399999938|\n",
      "|   relogios_presentes| 1205005.679999998|\n",
      "|      cama_mesa_banho|1036988.6799999807|\n",
      "|        esporte_lazer| 988048.9699999837|\n",
      "| informatica_acess...|  911954.319999988|\n",
      "|     moveis_decoracao| 729762.4899999866|\n",
      "|           cool_stuff| 635290.8499999974|\n",
      "| utilidades_domest...| 632248.6599999928|\n",
      "|           automotivo|  592720.109999997|\n",
      "|   ferramentas_jardim|485256.45999999647|\n",
      "+---------------------+------------------+\n",
      "only showing top 10 rows\n",
      "\n"
     ]
    }
   ],
   "source": [
    "# most revenue categories\n",
    "top_product =(\n",
    "        product_details\n",
    "            .select(['product_category_name', 'price'])\n",
    "            .groupBy('product_category_name')\n",
    "            .agg(sum('price').alias('total_sales'))\n",
    "            .orderBy('total_sales', ascending=False)\n",
    "            )\n",
    "top_product.show(10)"
   ]
  },
  {
   "cell_type": "markdown",
   "id": "e7c93952",
   "metadata": {},
   "source": [
    "Delivery Time Analysis"
   ]
  },
  {
   "cell_type": "code",
   "execution_count": 138,
   "id": "69a219cd",
   "metadata": {},
   "outputs": [],
   "source": [
    "from pyspark.sql.functions import datediff, to_date"
   ]
  },
  {
   "cell_type": "code",
   "execution_count": 143,
   "id": "b28fdd89",
   "metadata": {},
   "outputs": [
    {
     "name": "stdout",
     "output_type": "stream",
     "text": [
      "+--------------------+--------------------+------------+------------------------+-------------------+----------------------------+-----------------------------+-----------------------------+\n",
      "|            order_id|         customer_id|order_status|order_purchase_timestamp|  order_approved_at|order_delivered_carrier_date|order_delivered_customer_date|order_estimated_delivery_date|\n",
      "+--------------------+--------------------+------------+------------------------+-------------------+----------------------------+-----------------------------+-----------------------------+\n",
      "|e481f51cbdc54678b...|9ef432eb625129730...|   delivered|     2017-10-02 10:56:33|2017-10-02 11:07:15|         2017-10-04 19:55:00|          2017-10-10 21:25:13|          2017-10-18 00:00:00|\n",
      "|53cdb2fc8bc7dce0b...|b0830fb4747a6c6d2...|   delivered|     2018-07-24 20:41:37|2018-07-26 03:24:27|         2018-07-26 14:31:00|          2018-08-07 15:27:45|          2018-08-13 00:00:00|\n",
      "|47770eb9100c2d0c4...|41ce2a54c0b03bf34...|   delivered|     2018-08-08 08:38:49|2018-08-08 08:55:23|         2018-08-08 13:50:00|          2018-08-17 18:06:29|          2018-09-04 00:00:00|\n",
      "+--------------------+--------------------+------------+------------------------+-------------------+----------------------------+-----------------------------+-----------------------------+\n",
      "only showing top 3 rows\n",
      "\n"
     ]
    }
   ],
   "source": [
    "order_dataset.show(3)"
   ]
  },
  {
   "cell_type": "code",
   "execution_count": 164,
   "id": "4f818827",
   "metadata": {},
   "outputs": [
    {
     "name": "stdout",
     "output_type": "stream",
     "text": [
      "+--------------------+------------------------+-----------------------------+--------------+\n",
      "|            order_id|order_purchase_timestamp|order_delivered_customer_date|day_to_deliver|\n",
      "+--------------------+------------------------+-----------------------------+--------------+\n",
      "|e481f51cbdc54678b...|     2017-10-02 10:56:33|          2017-10-10 21:25:13|             8|\n",
      "|53cdb2fc8bc7dce0b...|     2018-07-24 20:41:37|          2018-08-07 15:27:45|            14|\n",
      "|47770eb9100c2d0c4...|     2018-08-08 08:38:49|          2018-08-17 18:06:29|             9|\n",
      "|949d5b44dbf5de918...|     2017-11-18 19:28:06|          2017-12-02 00:28:42|            14|\n",
      "|ad21c59c0840e6cb8...|     2018-02-13 21:18:39|          2018-02-16 18:17:02|             3|\n",
      "|a4591c265e18cb1dc...|     2017-07-09 21:57:05|          2017-07-26 10:57:55|            17|\n",
      "|6514b8ad8028c9f2c...|     2017-05-16 13:10:30|          2017-05-26 12:55:51|            10|\n",
      "|76c6e866289321a7c...|     2017-01-23 18:29:09|          2017-02-02 14:08:10|            10|\n",
      "|e69bfb5eb88e0ed6a...|     2017-07-29 11:55:02|          2017-08-16 17:14:30|            18|\n",
      "|e6ce16cb79ec1d90b...|     2017-05-16 19:41:10|          2017-05-29 11:18:31|            13|\n",
      "|34513ce0c4fab462a...|     2017-07-13 19:58:11|          2017-07-19 14:04:48|             6|\n",
      "|82566a660a982b15f...|     2018-06-07 10:06:19|          2018-06-19 12:05:52|            12|\n",
      "|5ff96c15d0b717ac6...|     2018-07-25 17:44:10|          2018-07-30 15:52:25|             5|\n",
      "|432aaf21d85167c2c...|     2018-03-01 14:14:28|          2018-03-12 23:36:26|            11|\n",
      "|dcb36b511fcac050b...|     2018-06-07 19:03:12|          2018-06-21 15:34:32|            14|\n",
      "|403b97836b0c04a62...|     2018-01-02 19:00:43|          2018-01-20 01:38:59|            18|\n",
      "|116f0b09343b49556...|     2017-12-26 23:41:31|          2018-01-08 22:36:36|            13|\n",
      "|85ce859fd6dc634de...|     2017-11-21 00:03:41|          2017-11-27 18:28:00|             6|\n",
      "|83018ec114eee8641...|     2017-10-26 15:54:26|          2017-11-08 22:22:00|            13|\n",
      "|203096f03d82e0dff...|     2017-09-18 14:31:30|          2017-10-09 22:23:46|            21|\n",
      "+--------------------+------------------------+-----------------------------+--------------+\n",
      "only showing top 20 rows\n",
      "\n"
     ]
    }
   ],
   "source": [
    "orders_datetime = (order_dataset\n",
    "        .filter(col('order_status') == 'delivered')\n",
    "        .select(['order_id', 'order_purchase_timestamp', 'order_delivered_customer_date'])\n",
    "        )\n",
    "\n",
    "orders_datetime = orders_datetime.withColumn('day_to_deliver', datediff(to_date(col('order_delivered_customer_date')),\n",
    "                                       to_date(col('order_purchase_timestamp'))\n",
    "                                       )\n",
    "                )\n",
    "orders_datetime.show()"
   ]
  },
  {
   "cell_type": "code",
   "execution_count": 225,
   "id": "2171d226",
   "metadata": {},
   "outputs": [
    {
     "name": "stdout",
     "output_type": "stream",
     "text": [
      "+---------------------+\n",
      "|Average Delivery Time|\n",
      "+---------------------+\n",
      "|   12.496848761272934|\n",
      "+---------------------+\n",
      "\n",
      "+-----------------+\n",
      "|Std Delivery Time|\n",
      "+-----------------+\n",
      "|9.555071259126024|\n",
      "+-----------------+\n",
      "\n",
      "+-----------------+\n",
      "|Min Delivery Time|\n",
      "+-----------------+\n",
      "|                0|\n",
      "+-----------------+\n",
      "\n",
      "+-----------------+\n",
      "|Max Delivery Time|\n",
      "+-----------------+\n",
      "|              210|\n",
      "+-----------------+\n",
      "\n",
      "Q1 7.0\n",
      "Q2 10.0\n",
      "Q3 15.0\n",
      "\n",
      "top 10 longest delivers\n",
      "+--------------+\n",
      "|day_to_deliver|\n",
      "+--------------+\n",
      "|           210|\n",
      "|           208|\n",
      "|           196|\n",
      "|           195|\n",
      "|           195|\n",
      "|           194|\n",
      "|           191|\n",
      "|           190|\n",
      "|           188|\n",
      "|           188|\n",
      "+--------------+\n",
      "only showing top 10 rows\n",
      "\n"
     ]
    },
    {
     "data": {
      "image/png": "[encoded data removed]",
      "text/plain": [
       "<Figure size 640x480 with 1 Axes>"
      ]
     },
     "metadata": {},
     "output_type": "display_data"
    }
   ],
   "source": [
    "from pyspark.sql.functions import mean, std, min, max\n",
    "\n",
    "#mean\n",
    "orders_datetime.agg(mean(col('day_to_deliver')).alias('Average Delivery Time')).show()\n",
    "\n",
    "# standar deviation\n",
    "orders_datetime.agg(std(col('day_to_deliver')).alias('Std Delivery Time')).show()\n",
    "\n",
    "#min\n",
    "orders_datetime.agg(min(col('day_to_deliver')).alias('Min Delivery Time')).show()\n",
    "\n",
    "#max\n",
    "orders_datetime.agg(max(col('day_to_deliver')).alias('Max Delivery Time')).show()\n",
    "\n",
    "# std\n",
    "q1,q2,q3,= orders_datetime.approxQuantile('day_to_deliver', probabilities=[0.25, 0.5, 0.75], relativeError=0.01)\n",
    "\n",
    "\n",
    "# quantiles\n",
    "print('Q1', q1)\n",
    "print('Q2', q2)\n",
    "print('Q3', q3)\n",
    "\n",
    "\n",
    "\n",
    "# top 10 longest delivers\n",
    "print('\\ntop 10 longest delivers')\n",
    "orders_datetime.select('day_to_deliver').orderBy('day_to_deliver', ascending=False).show(10)\n",
    "\n",
    "# plot histogram\n",
    "orders_datetime.select(['day_to_deliver']).toPandas().plot(kind='hist', bins=30, xlabel='Days until Deliver');\n"
   ]
  },
  {
   "cell_type": "code",
   "execution_count": null,
   "id": "7ef2c10a",
   "metadata": {},
   "outputs": [
    {
     "data": {
      "text/plain": [
       "4294"
      ]
     },
     "execution_count": 221,
     "metadata": {},
     "output_type": "execute_result"
    }
   ],
   "source": [
    "# beyond 30 days\n",
    "orders_datetime.filter('day_to_deliver > 30').count()"
   ]
  },
  {
   "cell_type": "markdown",
   "id": "08509e20",
   "metadata": {},
   "source": []
  }
 ],
 "metadata": {
  "kernelspec": {
   "display_name": "venv",
   "language": "python",
   "name": "python3"
  },
  "language_info": {
   "codemirror_mode": {
    "name": "ipython",
    "version": 3
   },
   "file_extension": ".py",
   "mimetype": "text/x-python",
   "name": "python",
   "nbconvert_exporter": "python",
   "pygments_lexer": "ipython3",
   "version": "3.12.11"
  }
 },
 "nbformat": 4,
 "nbformat_minor": 5
}
