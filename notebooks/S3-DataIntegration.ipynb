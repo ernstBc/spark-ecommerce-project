{
 "cells": [
  {
   "cell_type": "code",
   "execution_count": 1,
   "id": "57aa0f2a",
   "metadata": {},
   "outputs": [],
   "source": [
    "import os\n",
    "os.chdir('..')"
   ]
  },
  {
   "cell_type": "markdown",
   "id": "109b72a5",
   "metadata": {},
   "source": [
    "# Data Integration and Aggregation\n",
    "\n",
    "Joins and aggregation efficiently\n",
    "\n"
   ]
  },
  {
   "cell_type": "code",
   "execution_count": 2,
   "id": "7efa11c4",
   "metadata": {},
   "outputs": [
    {
     "data": {
      "text/html": [
       "\n",
       "            <div>\n",
       "                <p><b>SparkSession - in-memory</b></p>\n",
       "                \n",
       "        <div>\n",
       "            <p><b>SparkContext</b></p>\n",
       "\n",
       "            <p><a href=\"http://LAPTOP-SCS27K3Q:4040\">Spark UI</a></p>\n",
       "\n",
       "            <dl>\n",
       "              <dt>Version</dt>\n",
       "                <dd><code>v3.5.3</code></dd>\n",
       "              <dt>Master</dt>\n",
       "                <dd><code>local[*]</code></dd>\n",
       "              <dt>AppName</dt>\n",
       "                <dd><code>oblist</code></dd>\n",
       "            </dl>\n",
       "        </div>\n",
       "        \n",
       "            </div>\n",
       "        "
      ],
      "text/plain": [
       "<pyspark.sql.session.SparkSession at 0x1d8e1ae85f0>"
      ]
     },
     "execution_count": 2,
     "metadata": {},
     "output_type": "execute_result"
    }
   ],
   "source": [
    "from pyspark.sql.session import SparkSession\n",
    "from src.config.config import (CUSTOMER_DATASET,\n",
    "                               ORDER_DATASET,\n",
    "                               ORDER_ITEMS_DATASET,\n",
    "                               ORDER_PAYMENTS_DATASET,\n",
    "                               ORDER_REVIEWS_DATASET,\n",
    "                               PRODUCTS_DATASET,\n",
    "                               SELLERS_DATASET,\n",
    "                               GEOLOCATION_DATASET,\n",
    "                               PRODUCT_TRANSLATIONS\n",
    "                               )\n",
    "\n",
    "spark = SparkSession.builder.appName('oblist').getOrCreate()\n",
    "\n",
    "spark"
   ]
  },
  {
   "cell_type": "code",
   "execution_count": 3,
   "id": "02ef352d",
   "metadata": {},
   "outputs": [],
   "source": [
    "hdfs_path = 'data/olist/'\n",
    "\n",
    "customer_dataset = spark.read.csv(hdfs_path + CUSTOMER_DATASET, header=True, inferSchema=True)\n",
    "order_dataset = spark.read.csv(hdfs_path + ORDER_DATASET, header=True, inferSchema=True)\n",
    "items_dataset = spark.read.csv(hdfs_path + ORDER_ITEMS_DATASET, header=True, inferSchema=True)\n",
    "payments_dataset = spark.read.csv(hdfs_path + ORDER_PAYMENTS_DATASET, header=True, inferSchema=True)\n",
    "reviews_dataset = spark.read.csv(hdfs_path + ORDER_REVIEWS_DATASET, header=True, inferSchema=True)\n",
    "geolocation_dataset = spark.read.csv(hdfs_path + GEOLOCATION_DATASET, header=True, inferSchema=True)\n",
    "products_dataset = spark.read.csv(hdfs_path + PRODUCTS_DATASET, header=True, inferSchema=True)\n",
    "sellers_dataset = spark.read.csv(hdfs_path + SELLERS_DATASET, header=True, inferSchema=True)\n",
    "translations = spark.read.csv(hdfs_path + PRODUCT_TRANSLATIONS, header=True, inferSchema=True)"
   ]
  },
  {
   "cell_type": "markdown",
   "id": "b934728a",
   "metadata": {},
   "source": [
    "### JOIN"
   ]
  },
  {
   "cell_type": "code",
   "execution_count": 4,
   "id": "954499da",
   "metadata": {},
   "outputs": [],
   "source": [
    "# jpin orders with items\n",
    "orders_items_df = order_dataset.join(items_dataset, 'order_id', 'inner')"
   ]
  },
  {
   "cell_type": "code",
   "execution_count": 5,
   "id": "4adf6309",
   "metadata": {},
   "outputs": [],
   "source": [
    "# join products\n",
    "orders_items_products_df = orders_items_df.join(products_dataset, 'product_id', 'inner')"
   ]
  },
  {
   "cell_type": "code",
   "execution_count": 6,
   "id": "f1adc5e6",
   "metadata": {},
   "outputs": [],
   "source": [
    "# join with sellers \n",
    "orders_items_products_sellers_df = orders_items_products_df.join(sellers_dataset, 'seller_id', 'inner')"
   ]
  },
  {
   "cell_type": "code",
   "execution_count": 7,
   "id": "c053623c",
   "metadata": {},
   "outputs": [],
   "source": [
    "# join customeers\n",
    "full_orders = orders_items_products_sellers_df.join(customer_dataset, 'customer_id', 'inner')"
   ]
  },
  {
   "cell_type": "code",
   "execution_count": 8,
   "id": "f9bad2de",
   "metadata": {},
   "outputs": [],
   "source": [
    "from pyspark.sql.functions import mode"
   ]
  },
  {
   "cell_type": "code",
   "execution_count": 9,
   "id": "80d8d299",
   "metadata": {},
   "outputs": [],
   "source": [
    "from pyspark.sql.functions import mean\n",
    "\n",
    "geo_mean_lat = geolocation_dataset.groupBy('geolocation_zip_code_prefix').agg(mean('geolocation_lat').alias('geo_lat_mean'))\n",
    "geo_mean_lng = geolocation_dataset.groupBy('geolocation_zip_code_prefix').agg(mean('geolocation_lng').alias('geo_mean_lng'))\n",
    "city_zip_code = geolocation_dataset.groupBy('geolocation_zip_code_prefix').agg(mode('geolocation_city').alias('geolocation_city'))\n",
    "\n",
    "\n",
    "geolocation_avg = (\n",
    "        geolocation_dataset\n",
    "            .select('geolocation_zip_code_prefix', 'geolocation_state')\n",
    "            .dropDuplicates()) \\\n",
    "                .join(city_zip_code, 'geolocation_zip_code_prefix', 'inner') \\\n",
    "                .join(geo_mean_lat, 'geolocation_zip_code_prefix', 'inner') \\\n",
    "                .join(geo_mean_lng, 'geolocation_zip_code_prefix', 'inner')\n"
   ]
  },
  {
   "cell_type": "code",
   "execution_count": 10,
   "id": "69f5fe30",
   "metadata": {},
   "outputs": [],
   "source": [
    "# join geolocation\n",
    "full_orders_geo_customer=full_orders.join(geolocation_avg, \n",
    "                            full_orders.customer_zip_code_prefix == geolocation_avg.geolocation_zip_code_prefix, \n",
    "                            'left')\n",
    "\n"
   ]
  },
  {
   "cell_type": "code",
   "execution_count": 11,
   "id": "d9d9e930",
   "metadata": {},
   "outputs": [],
   "source": [
    "\n",
    "# named_columns = {'geo_lat_mean': 'customer_geo_lat_mean',\n",
    "#                  'geo_mean_lng': 'customer_geo_lng_mean'}\n",
    "\n",
    "# full_orders_geo_customer=full_orders_geo_customer.withColumnsRenamed(named_columns)"
   ]
  },
  {
   "cell_type": "code",
   "execution_count": 12,
   "id": "c59d445e",
   "metadata": {},
   "outputs": [],
   "source": [
    "geo_cols = geolocation_avg.columns \n",
    "\n",
    "for col in geo_cols:\n",
    "    full_orders_geo_customer = full_orders_geo_customer.withColumnRenamed(existing=col, new='customer_'+col)"
   ]
  },
  {
   "cell_type": "code",
   "execution_count": 13,
   "id": "25ee8793",
   "metadata": {},
   "outputs": [],
   "source": [
    "full_orders_geo_seller=full_orders_geo_customer.join(geolocation_avg, \n",
    "                            full_orders_geo_customer.seller_zip_code_prefix == geolocation_avg.geolocation_zip_code_prefix, \n",
    "                            'left')"
   ]
  },
  {
   "cell_type": "code",
   "execution_count": 14,
   "id": "88c6d952",
   "metadata": {},
   "outputs": [],
   "source": [
    "for col in geo_cols:\n",
    "    full_orders_geo_seller = full_orders_geo_seller.withColumnRenamed(existing=col, new='seller_'+col)"
   ]
  },
  {
   "cell_type": "code",
   "execution_count": 15,
   "id": "693f73a4",
   "metadata": {},
   "outputs": [],
   "source": [
    "# JOIN reviews\n",
    "full_orders_reviews = full_orders_geo_seller.join(reviews_dataset, 'order_id', 'left')"
   ]
  },
  {
   "cell_type": "code",
   "execution_count": 16,
   "id": "ad43260e",
   "metadata": {},
   "outputs": [],
   "source": [
    "# join payments\n",
    "full_orders = full_orders_reviews.join(payments_dataset, 'order_id', 'left')"
   ]
  },
  {
   "cell_type": "markdown",
   "id": "f5b20370",
   "metadata": {},
   "source": [
    "Repartition\n"
   ]
  },
  {
   "cell_type": "code",
   "execution_count": 17,
   "id": "7c7a4237",
   "metadata": {},
   "outputs": [
    {
     "name": "stdout",
     "output_type": "stream",
     "text": [
      "+--------------------+--------------------+--------------------+--------------------+------------+------------------------+-------------------+----------------------------+-----------------------------+-----------------------------+-------------+-------------------+------+-------------+---------------------+-------------------+--------------------------+------------------+----------------+-----------------+-----------------+----------------+----------------------+--------------------+------------+--------------------+------------------------+-------------+--------------+------------------------------------+--------------------------+-------------------------+---------------------+---------------------+----------------------------------+------------------------+-----------------------+-------------------+-------------------+--------------------+------------+--------------------+----------------------+--------------------+-----------------------+------------------+------------+--------------------+-------------+\n",
      "|            order_id|         customer_id|           seller_id|          product_id|order_status|order_purchase_timestamp|  order_approved_at|order_delivered_carrier_date|order_delivered_customer_date|order_estimated_delivery_date|order_item_id|shipping_limit_date| price|freight_value|product_category_name|product_name_lenght|product_description_lenght|product_photos_qty|product_weight_g|product_length_cm|product_height_cm|product_width_cm|seller_zip_code_prefix|         seller_city|seller_state|  customer_unique_id|customer_zip_code_prefix|customer_city|customer_state|customer_geolocation_zip_code_prefix|customer_geolocation_state|customer_geolocation_city|customer_geo_lat_mean|customer_geo_mean_lng|seller_geolocation_zip_code_prefix|seller_geolocation_state|seller_geolocation_city|seller_geo_lat_mean|seller_geo_mean_lng|           review_id|review_score|review_comment_title|review_comment_message|review_creation_date|review_answer_timestamp|payment_sequential|payment_type|payment_installments|payment_value|\n",
      "+--------------------+--------------------+--------------------+--------------------+------------+------------------------+-------------------+----------------------------+-----------------------------+-----------------------------+-------------+-------------------+------+-------------+---------------------+-------------------+--------------------------+------------------+----------------+-----------------+-----------------+----------------+----------------------+--------------------+------------+--------------------+------------------------+-------------+--------------+------------------------------------+--------------------------+-------------------------+---------------------+---------------------+----------------------------------+------------------------+-----------------------+-------------------+-------------------+--------------------+------------+--------------------+----------------------+--------------------+-----------------------+------------------+------------+--------------------+-------------+\n",
      "|006dd93155bc2abd8...|1b9506de3da8fd318...|cab85505710c7cb9b...|1ec486885049bbb9b...|   delivered|     2017-12-02 01:20:28|2017-12-02 01:29:28|         2017-12-06 00:22:42|          2017-12-07 20:43:52|          2018-01-03 00:00:00|            1|2017-12-07 01:29:28|  49.9|         7.78| fashion_bolsas_e_...|                 36|                       412|                 5|             100|               16|                5|              20|                  2252|           sao paulo|          SP|fd01a8dd276ac93ae...|                    1451|    sao paulo|            SP|                                1451|                        SP|                sao paulo|  -23.577435950107763|  -46.686989849503625|                              2252|                      SP|              sao paulo| -23.47874415112702| -46.58831651709552|eb29d5dffe71f0a35...|           5|                NULL|                  NULL| 2017-12-08 00:00:00|    2017-12-09 13:10:26|                 1| credit_card|                   3|        57.68|\n",
      "|003cc6161d7a2593f...|7d9802889236ab8fc...|53e4c6e0f4312d4d2...|fadc89c2a60ff96b1...|   delivered|     2018-08-03 19:33:35|2018-08-03 20:04:14|         2018-08-06 15:02:00|          2018-08-07 11:32:11|          2018-08-08 00:00:00|            1|2018-08-07 20:04:14|  85.0|         12.9| utilidades_domest...|                 52|                       827|                 1|            1800|               30|               30|              30|                 13920|            pedreira|          SP|0c35f915ac95c942a...|                    2722|    sao paulo|            SP|                                2722|                        SP|                sao paulo|  -23.500840544630766|  -46.678335536470705|                             13920|                      SP|               pedreira|-22.740325486164828| -46.89675369133934|4910a0d41fca570cb...|           5|Muito rápido a en...|  Amei o conj! Foi ...| 2018-08-08 00:00:00|    2018-08-08 22:10:40|                 1| credit_card|                   4|         97.9|\n",
      "|0044c6f6d22dd2805...|24436139c80a4ae51...|06e5eefc71ec47ae7...|01cf56cd6138b926a...|   delivered|     2018-05-18 16:59:09|2018-05-18 17:15:37|         2018-05-21 14:46:00|          2018-06-04 20:12:57|          2018-06-12 00:00:00|            1|2018-05-23 17:15:37|179.93|        16.14|          eletronicos|                 43|                      3023|                 6|             100|               16|               16|              16|                 91350|        porto alegre|          RS|b2c2e2635aded8249...|                    3690|    sao paulo|            SP|                                3690|                        SP|                sao paulo|  -23.528459769717422|   -46.47831604402804|                             91350|                      RS|           porto alegre| -30.01552834486622| -51.16270825237459|974e17569a1213862...|           4|                NULL|                  NULL| 2018-06-05 00:00:00|    2018-06-06 14:24:23|                 1| credit_card|                   1|       196.07|\n",
      "|0046e1d57f4c07c8c...|ae55e228ded796581...|38e6dada03429a471...|ff6caf9340512b8bf...|   delivered|     2017-09-26 15:24:03|2017-09-26 15:49:17|         2017-09-28 18:42:42|          2017-09-29 18:29:50|          2017-10-11 00:00:00|            1|2017-10-02 15:49:17|  7.79|         7.78|                 NULL|               NULL|                      NULL|              NULL|             200|               16|                5|              12|                  4763|           sao paulo|          SP|b0efd7adeb04d15b1...|                    2712|    sao paulo|            SP|                                2712|                        SP|                sao paulo|    -23.5058494441551|  -46.678388367703725|                              4763|                      SP|              sao paulo|-23.669585083295043| -46.71857329234198|219cb56781473bd4e...|           5|                NULL|                  NULL| 2017-09-30 00:00:00|    2017-10-02 00:13:27|                 1| credit_card|                   1|        15.57|\n",
      "|008819c6d5f6da6fa...|f453853c7750dfea2...|6560211a19b47992c...|57f2bc497c1a3ebe4...|   delivered|     2018-08-04 21:40:35|2018-08-04 21:50:11|         2018-08-06 13:34:00|          2018-08-07 20:12:22|          2018-08-09 00:00:00|            1|2018-08-06 21:50:11|  55.0|         7.65|   relogios_presentes|                 55|                       336|                 4|             250|               16|                2|              20|                  5849|           sao paulo|          SP|f3591ae7686317e84...|                    2012|    sao paulo|            SP|                                2012|                        SP|                sao paulo|  -23.513066026188493|   -46.63196817761764|                              5849|                      SP|              sao paulo|-23.652366177840182| -46.75575337195744|0dbc79e0cb36f3baf...|           3|                NULL|                  NULL| 2018-08-08 00:00:00|    2018-08-09 14:21:40|                 1| credit_card|                   2|        62.65|\n",
      "|0035e6b7ade84b3f5...|3a0cc7c9af6abf886...|537eb890efff034a8...|71a5f1c2a5fd9889e...|   delivered|     2018-02-21 02:46:23|2018-02-21 07:10:40|         2018-02-22 00:51:33|          2018-02-26 16:49:02|          2018-03-13 00:00:00|            1|2018-02-27 03:31:08|  19.9|         14.1|     moveis_decoracao|                 60|                       500|                 3|             100|               16|                3|              11|                 20270|      rio de janeiro|          RJ|fdfa1cc68f121149d...|                    2019|    sao paulo|            SP|                                2019|                        SP|                sao paulo|  -23.498263084919962|   -46.62965156173039|                             20270|                      RJ|         rio de janeiro| -22.91624456473871|-43.217950335265314|7f6fef0de2a2d006b...|           5|                NULL|                  NULL| 2018-02-27 00:00:00|    2018-02-28 02:29:23|                 1| credit_card|                   1|         34.0|\n",
      "|0097f0545a302aafa...|a60b063f8b715db29...|7901646fdd36a55f5...|b6397895a17ce86de...|   delivered|     2018-03-05 18:15:11|2018-03-05 18:30:41|         2018-03-06 22:04:03|          2018-03-21 18:16:52|          2018-03-21 00:00:00|            1|2018-03-09 18:30:41| 158.0|        10.68|   ferramentas_jardim|                 43|                      1134|                 1|            1400|               27|                9|              11|                 20021|      rio de janeiro|          RJ|dd12487859031219d...|                    3908|    sao paulo|            SP|                                3908|                        SP|                sao paulo|   -23.58251935861188|   -46.50719416982448|                             20021|                      RJ|         rio de janeiro|-22.912369544913414| -43.17350079335498|2a79a4d7ec16eeb80...|           1|                NULL|  Não recebi o prod...| 2018-03-22 00:00:00|    2018-03-22 22:43:10|                 1| credit_card|                   6|       507.84|\n",
      "|0011d82c4b53e22e8...|2013d892495e1a101...|bfd27a966d91cfaaf...|c389f712c4b4510bc...|   delivered|     2018-01-16 21:43:23|2018-01-16 21:51:25|         2018-01-23 22:08:06|          2018-01-26 22:14:02|          2018-02-15 00:00:00|            1|2018-01-29 21:51:25| 289.0|        26.33|     malas_acessorios|                 41|                       500|                 1|            2965|               41|               27|              34|                 13930|         serra negra|          SP|02daaa0e021d624d1...|                    1033|    sao paulo|            SP|                                1033|                        SP|                sao paulo|    -23.5392714370778|   -46.63587808421484|                             13930|                      SP|            serra negra|-22.614621137795275|-46.709593428612365|04a15fdeccc0572ca...|           4|                NULL|                  NULL| 2018-01-27 00:00:00|    2018-01-28 13:18:49|                 1| credit_card|                   2|       315.33|\n",
      "|0026a368634b6e6f3...|66b8528f2144c6cf9...|12b9676b00f60f3b7...|892832da5b05b0f54...|   delivered|     2017-10-27 21:10:26|2017-10-27 21:26:45|         2017-11-03 20:59:39|          2017-11-07 21:58:51|          2017-12-01 00:00:00|            1|2017-11-10 21:26:45| 149.0|         15.8|           cool_stuff|                 53|                       270|                 1|            1000|               33|               44|              19|                 95780|          montenegro|          RS|2ecb0fc377050ca3b...|                    2809|    sao paulo|            SP|                                2809|                        SP|                sao paulo|  -23.471894875916593|   -46.70358161893092|                             95780|                      RS|             montenegro| -29.68780422662314| -51.46796398824514|ed7cc4092834fc4d4...|           4|                NULL|  Adoro comprar com...| 2017-11-08 00:00:00|    2017-11-17 10:08:24|                 1| credit_card|                   1|        164.8|\n",
      "|0067c6030d65af0ff...|a780c20430b67279f...|640e21a7d01df7614...|02ed3b595447e948e...|   delivered|     2018-04-27 21:36:27|2018-04-27 21:52:36|         2018-05-02 14:41:00|          2018-05-07 19:42:40|          2018-05-16 00:00:00|            1|2018-05-03 21:52:36| 40.35|        13.71|      cama_mesa_banho|                 30|                       413|                 2|             725|               31|                7|              31|                 14940|            ibitinga|          SP|8a44fe7a0a9fa910c...|                    3209|    sao paulo|            SP|                                3209|                        SP|                sao paulo|   -23.60125124917485|   -46.55894891701506|                             14940|                      SP|               ibitinga|-21.757320637712766| -48.82974353343713|e8b089ecc2f8aa46c...|           5|                NULL|                  NULL| 2018-05-08 00:00:00|    2018-05-10 13:58:05|                 1| credit_card|                   1|        54.06|\n",
      "|002b4e6fa42cd4a22...|a5fd6dd86d703cedc...|b1a81260566c1bac3...|a6f449f6257f26e55...|   delivered|     2018-03-11 10:24:44|2018-03-11 10:35:37|         2018-03-12 19:47:30|          2018-03-19 22:34:41|          2018-04-06 00:00:00|            1|2018-03-15 10:35:37|  99.9|        19.67|            papelaria|                 57|                      1470|                 3|             700|               20|               50|              40|                 99500|           carazinho|          RS|248d18ee4a4b0977f...|                    2724|    sao paulo|            SP|                                2724|                        SP|                sao paulo|  -23.497651032154973|   -46.68173234600609|                             99500|                      RS|              carazinho| -28.29124464593788| -52.79025576343902|85da16503a576748e...|           5|                NULL|  Produto de bom cu...| 2018-03-20 00:00:00|    2018-03-21 09:57:37|                 1| credit_card|                   2|       119.57|\n",
      "|0070092bb6004faaf...|399d1e628c48b7c3b...|4c03b9dd4c11ee2cb...|31a2f42a87890f87d...|   delivered|     2017-07-25 11:42:58|2017-07-25 11:55:24|         2017-07-26 10:47:53|          2017-07-27 21:34:24|          2017-08-14 00:00:00|            1|2017-07-31 11:55:24| 149.0|        14.06|           brinquedos|                 58|                       419|                 5|            1700|               30|               35|              25|                 13232|campo limpo paulista|          SP|0ee84527dd65b0a7f...|                    2377|    sao paulo|            SP|                                2377|                        SP|                sao paulo|   -23.45681436635574|   -46.63181315561633|                             13232|                      SP|   campo limpo paulista|-23.211746332732215| -46.76287513805131|1a01bc45e211acf90...|           5|                NULL|            Muito Bom | 2017-07-28 00:00:00|    2017-07-31 11:10:08|                 1| credit_card|                   2|       163.06|\n",
      "|008ce8764db2e397e...|763a720a236f5b8ef...|2e1c9f22be269ef46...|52a8061c8e8e8cea3...|   delivered|     2018-05-18 20:42:47|2018-05-18 20:57:50|         2018-05-21 17:38:00|          2018-05-23 20:53:37|          2018-05-28 00:00:00|            1|2018-05-22 20:57:50| 43.49|        27.39|         beleza_saude|                 50|                       757|                 1|             600|               74|               15|              15|                  4850|           sao paulo|          SP|00fb957ae14ffd35a...|                    4009|    sao paulo|            SP|                                4009|                        SP|                sao paulo|  -23.589118759742828|   -46.63631366826861|                              4850|                      SP|              sao paulo|-23.747947364049548| -46.68180588603656|2668a27b2dca9e659...|           5|                NULL|                  NULL| 2018-05-24 00:00:00|    2018-05-27 00:18:31|                 1| credit_card|                   3|        70.88|\n",
      "|001d8f0e34a38c37f...|d987da9fb4086ab7c...|f4aba7c0bca51484c...|e67307ff0f15ade43...|   delivered|     2017-05-14 17:19:44|2017-05-14 17:35:11|         2017-05-24 15:45:01|          2017-05-26 13:14:50|          2017-05-24 00:00:00|            1|2017-05-18 17:35:11| 18.99|         7.78|         beleza_saude|                 47|                      1474|                 3|             150|               43|               13|              14|                  1031|           sao paulo|          SP|870a0bdc769f9a787...|                    2929|    sao paulo|            SP|                                2929|                        SP|                sao paulo|  -23.492687855695195|   -46.70633793156746|                              1031|                      SP|              sao paulo|-23.541905853440447| -46.63508761691669|51ebb8fede4fbe612...|           1|                NULL|  Entrega prometida...| 2017-05-26 00:00:00|    2017-05-26 20:19:13|                 1| credit_card|                   2|        53.54|\n",
      "|001d8f0e34a38c37f...|d987da9fb4086ab7c...|f4aba7c0bca51484c...|e67307ff0f15ade43...|   delivered|     2017-05-14 17:19:44|2017-05-14 17:35:11|         2017-05-24 15:45:01|          2017-05-26 13:14:50|          2017-05-24 00:00:00|            2|2017-05-18 17:35:11| 18.99|         7.78|         beleza_saude|                 47|                      1474|                 3|             150|               43|               13|              14|                  1031|           sao paulo|          SP|870a0bdc769f9a787...|                    2929|    sao paulo|            SP|                                2929|                        SP|                sao paulo|  -23.492687855695195|   -46.70633793156746|                              1031|                      SP|              sao paulo|-23.541905853440447| -46.63508761691669|51ebb8fede4fbe612...|           1|                NULL|  Entrega prometida...| 2017-05-26 00:00:00|    2017-05-26 20:19:13|                 1| credit_card|                   2|        53.54|\n",
      "|0068fb0e223115e91...|f0bc088c671f31458...|88460e8ebdecbfecb...|e53e557d5a159f5aa...|   delivered|     2018-07-18 10:46:09|2018-07-19 02:50:11|         2018-07-19 12:50:00|          2018-07-25 21:04:16|          2018-08-15 00:00:00|            1|2018-07-31 02:50:11|  77.9|        13.89| informatica_acess...|                 33|                       256|                 1|             180|               17|               10|              13|                 87030|             maringa|          PR|0a0c4bf0b7fcb55a0...|                    3150|    sao paulo|            SP|                                3150|                        SP|                sao paulo|   -23.58587084127877|    -46.5879226741545|                             87030|                      PR|                maringa|-23.413770021773324|-51.927069895500146|3485c887ab8a5fd6b...|           5|                NULL|                  NULL| 2018-07-26 00:00:00|    2018-07-27 00:32:52|                 1|      boleto|                   1|        91.79|\n",
      "|002c9def9c9b951b1...|06cf02bf583b05fd9...|00720abe85ba08598...|2d9ff06c8870a518f...|   delivered|     2018-05-14 16:57:47|2018-05-15 17:37:51|         2018-05-17 13:27:00|          2018-05-18 14:37:38|          2018-05-25 00:00:00|            1|2018-05-21 17:32:03|  78.0|          8.9| utilidades_domest...|                 44|                       543|                 3|             950|               25|               10|              36|                  7070|           guarulhos|          SP|6bcc1cd0c7f8bffa6...|                    1255|    sao paulo|            SP|                                1255|                        SP|                sao paulo|   -23.54636983531918|   -46.68154172682528|                              7070|                      SP|              guarulhos|-23.451973236755524|-46.557171675871174|7428934dc38633d86...|           4|                NULL|                  NULL| 2018-05-19 00:00:00|    2018-05-21 19:39:17|                 1| credit_card|                   1|        173.8|\n",
      "|002c9def9c9b951b1...|06cf02bf583b05fd9...|00720abe85ba08598...|2d9ff06c8870a518f...|   delivered|     2018-05-14 16:57:47|2018-05-15 17:37:51|         2018-05-17 13:27:00|          2018-05-18 14:37:38|          2018-05-25 00:00:00|            2|2018-05-21 17:32:03|  78.0|          8.9| utilidades_domest...|                 44|                       543|                 3|             950|               25|               10|              36|                  7070|           guarulhos|          SP|6bcc1cd0c7f8bffa6...|                    1255|    sao paulo|            SP|                                1255|                        SP|                sao paulo|   -23.54636983531918|   -46.68154172682528|                              7070|                      SP|              guarulhos|-23.451973236755524|-46.557171675871174|7428934dc38633d86...|           4|                NULL|                  NULL| 2018-05-19 00:00:00|    2018-05-21 19:39:17|                 1| credit_card|                   1|        173.8|\n",
      "|00921e4911895b93c...|0825646a316d8b2bd...|688756f717c462a20...|cbecf0dca7a42c56c...|   delivered|     2018-06-13 13:55:55|2018-06-13 14:17:26|         2018-06-19 14:02:00|          2018-06-20 15:21:57|          2018-06-25 00:00:00|            1|2018-06-19 14:17:26|  85.0|        11.62| utilidades_domest...|                 52|                      1374|                 2|            1110|               20|               20|              18|                  7094|           guarulhos|          SP|be2cff6c84f168330...|                    4001|    sao paulo|            SP|                                4001|                        SP|                sao paulo|   -23.57293947983718|   -46.65111477720919|                              7094|                      SP|              guarulhos| -23.45332396857464| -46.53993397498517|8928004690de20782...|           5|                NULL|                  NULL| 2018-06-21 00:00:00|    2018-06-25 14:09:28|                 1| credit_card|                   1|        96.62|\n",
      "|00664284de7a3470d...|cc0f43bd4e0f3ed1a...|1b938a7ec6ac5061a...|205604b962ebdae1c...|   delivered|     2017-09-24 13:12:59|2017-09-24 13:30:11|         2017-09-25 14:53:50|          2017-10-03 22:12:06|          2017-10-17 00:00:00|            1|2017-09-28 13:30:11|  43.9|        11.85| moveis_cozinha_ar...|                 42|                       121|                 1|            3875|               95|               22|              22|                 16304|           penapolis|          SP|8a996e32e8d729f4f...|                    3150|    sao paulo|            SP|                                3150|                        SP|                sao paulo|   -23.58587084127877|    -46.5879226741545|                             16304|                      SP|              penapolis|-21.437402661479666|-50.076930571981784|dd71360a5cfbdf6fa...|           4|                NULL|                  NULL| 2017-10-04 00:00:00|    2017-10-05 02:01:26|                 1| credit_card|                   2|        55.75|\n",
      "+--------------------+--------------------+--------------------+--------------------+------------+------------------------+-------------------+----------------------------+-----------------------------+-----------------------------+-------------+-------------------+------+-------------+---------------------+-------------------+--------------------------+------------------+----------------+-----------------+-----------------+----------------+----------------------+--------------------+------------+--------------------+------------------------+-------------+--------------+------------------------------------+--------------------------+-------------------------+---------------------+---------------------+----------------------------------+------------------------+-----------------------+-------------------+-------------------+--------------------+------------+--------------------+----------------------+--------------------+-----------------------+------------------+------------+--------------------+-------------+\n",
      "only showing top 20 rows\n",
      "\n"
     ]
    }
   ],
   "source": [
    "full_orders.show()"
   ]
  },
  {
   "cell_type": "code",
   "execution_count": 18,
   "id": "dd9fe34a",
   "metadata": {},
   "outputs": [],
   "source": [
    "columns = full_orders.columns\n",
    "columns_to_remove =  [\n",
    "'customer_geolocation_city',\n",
    " 'customer_geolocation_zip_code_prefix',\n",
    " 'seller_geolocation_zip_code_prefix',\n",
    " 'seller_geolocation_state',\n",
    " 'seller_geolocation_city']\n",
    "\n",
    "for r in columns_to_remove:\n",
    "    columns.remove(r)\n",
    "\n",
    "columns.sort()"
   ]
  },
  {
   "cell_type": "code",
   "execution_count": 19,
   "id": "107a23df",
   "metadata": {},
   "outputs": [],
   "source": [
    "full_orders = full_orders.select(columns)"
   ]
  },
  {
   "cell_type": "code",
   "execution_count": 20,
   "id": "b99523da",
   "metadata": {},
   "outputs": [],
   "source": [
    "# coalesce the number of partition to improve performance\n",
    "full_orders = full_orders.coalesce(4)"
   ]
  },
  {
   "cell_type": "markdown",
   "id": "3fefaf0f",
   "metadata": {},
   "source": [
    "Total Revenue by Seller"
   ]
  },
  {
   "cell_type": "code",
   "execution_count": 21,
   "id": "048fbc6b",
   "metadata": {},
   "outputs": [],
   "source": [
    "from pyspark.sql.functions import sum"
   ]
  },
  {
   "cell_type": "code",
   "execution_count": 22,
   "id": "2634cbda",
   "metadata": {},
   "outputs": [
    {
     "name": "stdout",
     "output_type": "stream",
     "text": [
      "+--------------------+------------------+\n",
      "|           seller_id|        sum(price)|\n",
      "+--------------------+------------------+\n",
      "|53243585a1d6dc264...|244627.54999999964|\n",
      "|4869f7a5dfa277a7d...|238386.12999999808|\n",
      "|4a3ca9315b744ce9f...|215968.56999999454|\n",
      "|fa1c13f2614d7b5c4...|203984.21999999823|\n",
      "|7c67e1448b00f6e96...|201568.00999999946|\n",
      "|7e93a43ef30c4f03f...|182878.16999999993|\n",
      "|da8622b14eb17ae28...|171814.46999999468|\n",
      "|7a67c85e85bb2ce85...|150779.78000000105|\n",
      "|1025f0e2d44d7041d...|144500.52999999933|\n",
      "|955fee9216a65b617...|137404.99999999895|\n",
      "|46dc3b2cc0980fb8e...| 132322.0200000011|\n",
      "|6560211a19b47992c...|128958.81000000006|\n",
      "|7d13fca1522535862...|121677.83999999987|\n",
      "|5dceca129747e92ff...|120619.32999999961|\n",
      "|620c87c171fb2a6dd...|119489.19999999813|\n",
      "|1f50f920176fa81da...|111928.00999999713|\n",
      "|cc419e0650a3c5ba7...|110935.25000000311|\n",
      "|a1043bafd471dff53...|106813.94000000072|\n",
      "|3d871de0142ce09b7...| 99556.59999999969|\n",
      "|edb1ef5e36e0c8cd8...| 81220.14999999994|\n",
      "+--------------------+------------------+\n",
      "only showing top 20 rows\n",
      "\n"
     ]
    }
   ],
   "source": [
    "full_orders.groupBy('seller_id').agg(sum('price')).orderBy('sum(price)', ascending=False).show()"
   ]
  },
  {
   "cell_type": "code",
   "execution_count": 23,
   "id": "dcfc90fb",
   "metadata": {},
   "outputs": [],
   "source": [
    "from pyspark.sql.functions import udf\n",
    "import math\n",
    "from pyspark.sql.types import FloatType\n"
   ]
  },
  {
   "cell_type": "code",
   "execution_count": 24,
   "id": "c16d2452",
   "metadata": {},
   "outputs": [],
   "source": [
    "import math\n",
    "from pyspark.sql import functions as F\n",
    "from pyspark.sql.types import FloatType, StringType\n",
    "\n",
    "# --- 1. Define the core Haversine function ---\n",
    "def haversine_distance(lat1, lon1, lat2, lon2, unit='km'):\n",
    "    \"\"\"\n",
    "    Calculates the Haversine distance between two points on the Earth\n",
    "    (specified in decimal degrees).\n",
    "\n",
    "    The Haversine formula is used to compute the great-circle distance\n",
    "    between two points on a sphere from their longitudes and latitudes.\n",
    "\n",
    "    Args:\n",
    "        lat1 (float): Latitude of the first point.\n",
    "        lon1 (float): Longitude of the first point.\n",
    "        lat2 (float): Latitude of the second point.\n",
    "        lon2 (float): Longitude of the second point.\n",
    "        unit (str): The desired unit for the output distance. Can be 'km'\n",
    "                    (kilometers) or 'mi' (miles). Defaults to 'km'.\n",
    "\n",
    "    Returns:\n",
    "        float: The distance between the two points in the specified unit.\n",
    "    \"\"\"\n",
    "    # Radius of the Earth in kilometers or miles\n",
    "    if unit == 'km':\n",
    "        R = 6371.0\n",
    "    elif unit == 'mi':\n",
    "        R = 3958.8\n",
    "    else:\n",
    "        raise ValueError(\"Unit must be 'km' or 'mi'\")\n",
    "\n",
    "    # Convert coordinates from degrees to radians\n",
    "    lat1_rad = math.radians(lat1)\n",
    "    lon1_rad = math.radians(lon1)\n",
    "    lat2_rad = math.radians(lat2)\n",
    "    lon2_rad = math.radians(lon2)\n",
    "\n",
    "    # Calculate the differences in coordinates\n",
    "    dlat = lat2_rad - lat1_rad\n",
    "    dlon = lon2_rad - lon1_rad\n",
    "\n",
    "    # Apply the Haversine formula\n",
    "    a = math.sin(dlat / 2)**2 + math.cos(lat1_rad) * math.cos(lat2_rad) * math.sin(dlon / 2)**2\n",
    "    c = 2 * math.atan2(math.sqrt(a), math.sqrt(1 - a))\n",
    "    \n",
    "    distance = R * c\n",
    "\n",
    "    return float(distance)\n",
    "\n",
    "\n",
    "# --- 2. Register the function as a PySpark UDF ---\n",
    "# PySpark UDFs need a return type specified.\n",
    "haversine_udf = F.udf(haversine_distance, FloatType())\n",
    "haversine_udf_km = F.udf(lambda lat1, lon1, lat2, lon2: haversine_distance(lat1, lon1, lat2, lon2, unit='km'), FloatType())\n",
    "haversine_udf_mi = F.udf(lambda lat1, lon1, lat2, lon2: haversine_distance(lat1, lon1, lat2, lon2, unit='mi'), FloatType())\n"
   ]
  },
  {
   "cell_type": "code",
   "execution_count": 25,
   "id": "db28b5bb",
   "metadata": {},
   "outputs": [],
   "source": [
    "from pyspark.sql.functions import col"
   ]
  },
  {
   "cell_type": "code",
   "execution_count": 26,
   "id": "0e880c55",
   "metadata": {},
   "outputs": [],
   "source": [
    "# full_orders.withColumn('distance_customer_seller', \n",
    "#                        haversine_udf_km('seller_geo_lat_mean', \n",
    "#                                           'seller_geo_mean_lng', \n",
    "#                                           'customer_geo_lat_mean', \n",
    "#                                           'customer_geo_mean_lng')\n",
    "#                        )"
   ]
  },
  {
   "cell_type": "code",
   "execution_count": null,
   "id": "7a1377f1",
   "metadata": {},
   "outputs": [],
   "source": []
  },
  {
   "cell_type": "code",
   "execution_count": null,
   "id": "8b7e053d",
   "metadata": {},
   "outputs": [],
   "source": []
  },
  {
   "cell_type": "markdown",
   "id": "62271096",
   "metadata": {},
   "source": [
    "### Save data"
   ]
  },
  {
   "cell_type": "code",
   "execution_count": 27,
   "id": "0e9da29d",
   "metadata": {},
   "outputs": [],
   "source": [
    "full_orders\\\n",
    "    .write\\\n",
    "        .mode('overwrite')\\\n",
    "            .parquet(\n",
    "                os.path.join('data', 'olist_processed', 'full_data.parquet')\n",
    "                )"
   ]
  },
  {
   "cell_type": "markdown",
   "id": "76f17107",
   "metadata": {},
   "source": [
    "# Advanced Aggregation and Window Functions"
   ]
  },
  {
   "cell_type": "markdown",
   "id": "a3c460f9",
   "metadata": {},
   "source": [
    "### Optimized Joins "
   ]
  },
  {
   "cell_type": "markdown",
   "id": "7a208f1b",
   "metadata": {},
   "source": [
    "### Broadcast Join\n",
    "\n",
    "PySpark broadcast join is an optimization technique used in Apache Spark to improve the performance of join operations, particularly when one of the DataFrames involved in the join is significantly smaller than the other. \n",
    "\n",
    "\n",
    "Instead of shuffling both DataFrames across the network for the join, the smaller DataFrame is broadcasted (sent) to all worker nodes in the Spark cluster. This means each worker node receives a complete copy of the smaller DataFrame and stores it in its memory."
   ]
  },
  {
   "cell_type": "code",
   "execution_count": 28,
   "id": "e5170d1a",
   "metadata": {},
   "outputs": [],
   "source": [
    "from pyspark.sql.functions import (broadcast)"
   ]
  },
  {
   "cell_type": "code",
   "execution_count": 29,
   "id": "9f7089c5",
   "metadata": {},
   "outputs": [],
   "source": [
    "# sellers dataset is the smallest dataset in mb, so broadcast it \n",
    "# to join would improve the merge operation\n"
   ]
  },
  {
   "cell_type": "code",
   "execution_count": 30,
   "id": "97f1906b",
   "metadata": {},
   "outputs": [
    {
     "name": "stdout",
     "output_type": "stream",
     "text": [
      "+--------------------+--------------------+--------------------+--------------------+------------+------------------------+-------------------+----------------------------+-----------------------------+-----------------------------+-------------+-------------------+-----+-------------+---------------------+-------------------+--------------------------+------------------+----------------+-----------------+-----------------+----------------+----------------------+-----------+------------+\n",
      "|           seller_id|          product_id|            order_id|         customer_id|order_status|order_purchase_timestamp|  order_approved_at|order_delivered_carrier_date|order_delivered_customer_date|order_estimated_delivery_date|order_item_id|shipping_limit_date|price|freight_value|product_category_name|product_name_lenght|product_description_lenght|product_photos_qty|product_weight_g|product_length_cm|product_height_cm|product_width_cm|seller_zip_code_prefix|seller_city|seller_state|\n",
      "+--------------------+--------------------+--------------------+--------------------+------------+------------------------+-------------------+----------------------------+-----------------------------+-----------------------------+-------------+-------------------+-----+-------------+---------------------+-------------------+--------------------------+------------------+----------------+-----------------+-----------------+----------------+----------------------+-----------+------------+\n",
      "|dd7ddc04e1b6c2c61...|e5f2d52b802189ee6...|00018f77f2f0320c5...|f6dd3ec061db4e398...|   delivered|     2017-04-26 10:53:06|2017-04-26 11:05:13|         2017-05-04 14:35:00|          2017-05-12 16:04:24|          2017-05-15 00:00:00|            1|2017-05-03 11:05:13|239.9|        19.93|             pet_shop|                 56|                       239|                 2|           30000|               50|               30|              40|                  3471|  sao paulo|          SP|\n",
      "|7040e82f899a04d1b...|8d4f2bb7e93e6710a...|00054e8431b9d7675...|32e2e6ab09e778d99...|   delivered|     2017-12-10 11:53:48|2017-12-10 12:10:31|         2017-12-12 01:07:48|          2017-12-18 22:03:38|          2018-01-04 00:00:00|            1|2017-12-14 12:10:31| 19.9|        11.85|            telefonia|                 52|                       815|                 1|             200|               27|                5|              20|                  1026|  sao paulo|          SP|\n",
      "|fe2032dab1a61af87...|4fa33915031a8cde0...|000aed2e25dbad2f9...|fff5169e583fd07fa...|   delivered|     2018-05-11 20:33:38|2018-05-11 20:57:03|         2018-05-16 14:26:00|          2018-05-18 16:46:31|          2018-05-22 00:00:00|            1|2018-05-16 20:57:03|144.0|         8.77|           perfumaria|                 43|                       116|                 1|             468|               23|               18|              19|                 13030|   campinas|          SP|\n",
      "|a2deecd5398f5df49...|c8e7c2ef329fcda4a...|00310b0c75bb13015...|0dad07848c618cc5a...|    canceled|     2018-08-15 14:29:08|2018-08-15 15:04:25|                        NULL|                         NULL|          2018-08-29 00:00:00|            1|2018-08-17 15:04:25| 39.9|        15.38| utilidades_domest...|                 58|                      1245|                 1|             200|               16|               12|              11|                  5043|  sao paulo|          SP|\n",
      "|e333046ce6517bd8b...|08279c494018541f7...|0032d07457ae9c806...|d356c20816dc75a30...|   delivered|     2018-03-10 18:53:06|2018-03-10 19:48:19|         2018-03-13 17:16:42|          2018-04-29 21:08:59|          2018-04-17 00:00:00|            1|2018-03-15 19:28:51|159.0|        27.19| utilidades_domest...|                 48|                       688|                 2|            3150|               43|               27|              27|                 18950|    ipaussu|          SP|\n",
      "+--------------------+--------------------+--------------------+--------------------+------------+------------------------+-------------------+----------------------------+-----------------------------+-----------------------------+-------------+-------------------+-----+-------------+---------------------+-------------------+--------------------------+------------------+----------------+-----------------+-----------------+----------------+----------------------+-----------+------------+\n",
      "only showing top 5 rows\n",
      "\n",
      "Joining without broadcast: 6.359163761138916\n"
     ]
    }
   ],
   "source": [
    "# old operation\n",
    "import time \n",
    "\n",
    "\n",
    "tic = time.time()\n",
    "orders_sellers_nobroad = orders_items_products_df.join(sellers_dataset, 'seller_id', 'inner')\n",
    "orders_sellers_nobroad.show(5)\n",
    "tac = time.time()\n",
    "\n",
    "print('Joining without broadcast:', str(tac-tic))"
   ]
  },
  {
   "cell_type": "code",
   "execution_count": 31,
   "id": "a3fa126d",
   "metadata": {},
   "outputs": [
    {
     "name": "stdout",
     "output_type": "stream",
     "text": [
      "+--------------------+--------------------+--------------------+--------------------+------------+------------------------+-------------------+----------------------------+-----------------------------+-----------------------------+-------------+-------------------+-----+-------------+---------------------+-------------------+--------------------------+------------------+----------------+-----------------+-----------------+----------------+----------------------+-----------+------------+\n",
      "|           seller_id|          product_id|            order_id|         customer_id|order_status|order_purchase_timestamp|  order_approved_at|order_delivered_carrier_date|order_delivered_customer_date|order_estimated_delivery_date|order_item_id|shipping_limit_date|price|freight_value|product_category_name|product_name_lenght|product_description_lenght|product_photos_qty|product_weight_g|product_length_cm|product_height_cm|product_width_cm|seller_zip_code_prefix|seller_city|seller_state|\n",
      "+--------------------+--------------------+--------------------+--------------------+------------+------------------------+-------------------+----------------------------+-----------------------------+-----------------------------+-------------+-------------------+-----+-------------+---------------------+-------------------+--------------------------+------------------+----------------+-----------------+-----------------+----------------+----------------------+-----------+------------+\n",
      "|dd7ddc04e1b6c2c61...|e5f2d52b802189ee6...|00018f77f2f0320c5...|f6dd3ec061db4e398...|   delivered|     2017-04-26 10:53:06|2017-04-26 11:05:13|         2017-05-04 14:35:00|          2017-05-12 16:04:24|          2017-05-15 00:00:00|            1|2017-05-03 11:05:13|239.9|        19.93|             pet_shop|                 56|                       239|                 2|           30000|               50|               30|              40|                  3471|  sao paulo|          SP|\n",
      "|7040e82f899a04d1b...|8d4f2bb7e93e6710a...|00054e8431b9d7675...|32e2e6ab09e778d99...|   delivered|     2017-12-10 11:53:48|2017-12-10 12:10:31|         2017-12-12 01:07:48|          2017-12-18 22:03:38|          2018-01-04 00:00:00|            1|2017-12-14 12:10:31| 19.9|        11.85|            telefonia|                 52|                       815|                 1|             200|               27|                5|              20|                  1026|  sao paulo|          SP|\n",
      "|fe2032dab1a61af87...|4fa33915031a8cde0...|000aed2e25dbad2f9...|fff5169e583fd07fa...|   delivered|     2018-05-11 20:33:38|2018-05-11 20:57:03|         2018-05-16 14:26:00|          2018-05-18 16:46:31|          2018-05-22 00:00:00|            1|2018-05-16 20:57:03|144.0|         8.77|           perfumaria|                 43|                       116|                 1|             468|               23|               18|              19|                 13030|   campinas|          SP|\n",
      "|a2deecd5398f5df49...|c8e7c2ef329fcda4a...|00310b0c75bb13015...|0dad07848c618cc5a...|    canceled|     2018-08-15 14:29:08|2018-08-15 15:04:25|                        NULL|                         NULL|          2018-08-29 00:00:00|            1|2018-08-17 15:04:25| 39.9|        15.38| utilidades_domest...|                 58|                      1245|                 1|             200|               16|               12|              11|                  5043|  sao paulo|          SP|\n",
      "|e333046ce6517bd8b...|08279c494018541f7...|0032d07457ae9c806...|d356c20816dc75a30...|   delivered|     2018-03-10 18:53:06|2018-03-10 19:48:19|         2018-03-13 17:16:42|          2018-04-29 21:08:59|          2018-04-17 00:00:00|            1|2018-03-15 19:28:51|159.0|        27.19| utilidades_domest...|                 48|                       688|                 2|            3150|               43|               27|              27|                 18950|    ipaussu|          SP|\n",
      "+--------------------+--------------------+--------------------+--------------------+------------+------------------------+-------------------+----------------------------+-----------------------------+-----------------------------+-------------+-------------------+-----+-------------+---------------------+-------------------+--------------------------+------------------+----------------+-----------------+-----------------+----------------+----------------------+-----------+------------+\n",
      "only showing top 5 rows\n",
      "\n",
      "time with broadcast: 5.699726581573486\n"
     ]
    }
   ],
   "source": [
    "# brodcast\n",
    "tic = time.time()\n",
    "\n",
    "orders_products_broad = orders_items_products_df.join(\n",
    "    broadcast(sellers_dataset), \n",
    "    'seller_id', \n",
    "    'inner'\n",
    ")\n",
    "orders_products_broad.show(5)\n",
    "\n",
    "tac = time.time()\n",
    "\n",
    "print('time with broadcast:', str(tac-tic))"
   ]
  },
  {
   "cell_type": "code",
   "execution_count": 32,
   "id": "12df8322",
   "metadata": {},
   "outputs": [
    {
     "data": {
      "text/plain": [
       "DataFrame[customer_city: string, customer_geo_lat_mean: double, customer_geo_mean_lng: double, customer_geolocation_state: string, customer_id: string, customer_state: string, customer_unique_id: string, customer_zip_code_prefix: int, freight_value: double, order_approved_at: timestamp, order_delivered_carrier_date: timestamp, order_delivered_customer_date: timestamp, order_estimated_delivery_date: timestamp, order_id: string, order_item_id: int, order_purchase_timestamp: timestamp, order_status: string, payment_installments: int, payment_sequential: int, payment_type: string, payment_value: double, price: double, product_category_name: string, product_description_lenght: int, product_height_cm: int, product_id: string, product_length_cm: int, product_name_lenght: int, product_photos_qty: int, product_weight_g: int, product_width_cm: int, review_answer_timestamp: string, review_comment_message: string, review_comment_title: string, review_creation_date: string, review_id: string, review_score: string, seller_city: string, seller_geo_lat_mean: double, seller_geo_mean_lng: double, seller_id: string, seller_state: string, seller_zip_code_prefix: int, shipping_limit_date: timestamp]"
      ]
     },
     "execution_count": 32,
     "metadata": {},
     "output_type": "execute_result"
    }
   ],
   "source": [
    "# asdasdas\n",
    "full_orders.cache()"
   ]
  },
  {
   "cell_type": "markdown",
   "id": "c0f1b917",
   "metadata": {},
   "source": [
    "## Aggregations"
   ]
  },
  {
   "cell_type": "code",
   "execution_count": 33,
   "id": "3d917820",
   "metadata": {},
   "outputs": [
    {
     "name": "stdout",
     "output_type": "stream",
     "text": [
      "+--------------------+-----+\n",
      "|         customer_id|count|\n",
      "+--------------------+-----+\n",
      "|270c23a11d024a44c...|   63|\n",
      "|13aa59158da63ba0e...|   38|\n",
      "|9af2372a1e4934027...|   29|\n",
      "|92cd3ec6e2d643d4e...|   26|\n",
      "|63b964e79dee32a35...|   24|\n",
      "|d22f25a9fadfb1abb...|   24|\n",
      "|6ee2f17e3b6c33d6a...|   24|\n",
      "|2ba91e12e5e4c9f56...|   24|\n",
      "|86cc80fef09f7f39d...|   24|\n",
      "|be1c4e52bb71e0c54...|   22|\n",
      "+--------------------+-----+\n",
      "only showing top 10 rows\n",
      "\n"
     ]
    }
   ],
   "source": [
    "# total orders per customers\n",
    "customer_order_counts = full_orders.groupBy('customer_id').count().orderBy('count', ascending=False)\n",
    "customer_order_counts.show(10)"
   ]
  },
  {
   "cell_type": "code",
   "execution_count": 34,
   "id": "6df25318",
   "metadata": {},
   "outputs": [
    {
     "name": "stdout",
     "output_type": "stream",
     "text": [
      "+--------------------+-----+\n",
      "|           seller_id|score|\n",
      "+--------------------+-----+\n",
      "|5741dc2bf5044c34d...|  5.0|\n",
      "|1cd9e0cc1839d5551...|  5.0|\n",
      "|89757206b887aed36...|  5.0|\n",
      "|f1fdf2d1318657575...|  5.0|\n",
      "|a61cc04793308395a...|  5.0|\n",
      "+--------------------+-----+\n",
      "only showing top 5 rows\n",
      "\n"
     ]
    }
   ],
   "source": [
    "# avg review per seller\n",
    "seller_review = full_orders.groupBy('seller_id').agg(mean('review_score').alias('score')).orderBy('score', ascending=False)\n",
    "seller_review.show(5)"
   ]
  },
  {
   "cell_type": "code",
   "execution_count": 35,
   "id": "a387df69",
   "metadata": {},
   "outputs": [
    {
     "name": "stdout",
     "output_type": "stream",
     "text": [
      "+--------------------+----------------+\n",
      "|          product_id|total_units_sold|\n",
      "+--------------------+----------------+\n",
      "|aca2eb7d00ea1a7b8...|             536|\n",
      "|99a4788cb24856965...|             528|\n",
      "|422879e10f4668299...|             508|\n",
      "|389d119b48cf3043d...|             406|\n",
      "|368c6c730842d7801...|             398|\n",
      "|53759a2ecddad2bb8...|             391|\n",
      "|d1c427060a0f73f6b...|             357|\n",
      "|53b36df67ebb7c415...|             327|\n",
      "|154e7e31ebfa09220...|             296|\n",
      "|3dd2a17168ec895c7...|             279|\n",
      "+--------------------+----------------+\n",
      "\n"
     ]
    }
   ],
   "source": [
    "# most sold products\n",
    "from pyspark.sql.functions import count\n",
    "\n",
    "top_sold = full_orders.groupBy('product_id').agg(count('order_id').alias('total_units_sold')).orderBy('total_units_sold', ascending=False).limit(10)\n",
    "top_sold.show(10)"
   ]
  },
  {
   "cell_type": "code",
   "execution_count": 36,
   "id": "682faef3",
   "metadata": {},
   "outputs": [
    {
     "name": "stdout",
     "output_type": "stream",
     "text": [
      "+--------------------+------------------+\n",
      "|         customer_id|       total_spend|\n",
      "+--------------------+------------------+\n",
      "|1617b1357756262bf...|           13440.0|\n",
      "|9af2372a1e4934027...|11383.949999999997|\n",
      "|de832e8dbb1f588a4...|10856.099999999999|\n",
      "|63b964e79dee32a35...|            9888.0|\n",
      "|6f241d5bbb142b6f7...| 9520.140000000001|\n",
      "|926b6a6fb8b6081e0...|            7998.0|\n",
      "|f959b7bc834045511...|            7799.4|\n",
      "|eb7a157e8da9c488c...|            7798.0|\n",
      "|ec5b2ba62e5743423...|            7160.0|\n",
      "|3118aefef04e5e97d...|            6909.0|\n",
      "+--------------------+------------------+\n",
      "\n"
     ]
    }
   ],
   "source": [
    "# top 10 customers by spending\n",
    "customers_top = full_orders.groupBy('customer_id').agg(sum('price').alias('total_spend')).orderBy('total_spend', ascending=False).limit(10)\n",
    "customers_top.show()"
   ]
  },
  {
   "cell_type": "markdown",
   "id": "9400da05",
   "metadata": {},
   "source": [
    "## Window Functions and Ranking"
   ]
  },
  {
   "cell_type": "code",
   "execution_count": 37,
   "id": "6b3d6f99",
   "metadata": {},
   "outputs": [],
   "source": [
    "from pyspark.sql.window import Window\n",
    "from pyspark.sql.functions import desc, rank"
   ]
  },
  {
   "cell_type": "code",
   "execution_count": 38,
   "metadata": {},
   "outputs": [],
   "source": [
    "# rank top selling products per seller\n",
    "\n",
    "window_spc = Window.partitionBy('seller_id').orderBy(desc('price'))"
   ]
  },
  {
   "cell_type": "code",
   "execution_count": 39,
   "metadata": {},
   "outputs": [
    {
     "name": "stdout",
     "output_type": "stream",
     "text": [
      "+-------------------+---------------------+---------------------+--------------------------+--------------------+--------------+--------------------+------------------------+-------------+-------------------+----------------------------+-----------------------------+-----------------------------+--------------------+-------------+------------------------+------------+--------------------+------------------+------------+-------------+------+---------------------+--------------------------+-----------------+--------------------+-----------------+-------------------+------------------+----------------+----------------+-----------------------+----------------------+--------------------+--------------------+--------------------+------------+-------------------+-------------------+-------------------+--------------------+------------+----------------------+-------------------+----+\n",
      "|      customer_city|customer_geo_lat_mean|customer_geo_mean_lng|customer_geolocation_state|         customer_id|customer_state|  customer_unique_id|customer_zip_code_prefix|freight_value|  order_approved_at|order_delivered_carrier_date|order_delivered_customer_date|order_estimated_delivery_date|            order_id|order_item_id|order_purchase_timestamp|order_status|payment_installments|payment_sequential|payment_type|payment_value| price|product_category_name|product_description_lenght|product_height_cm|          product_id|product_length_cm|product_name_lenght|product_photos_qty|product_weight_g|product_width_cm|review_answer_timestamp|review_comment_message|review_comment_title|review_creation_date|           review_id|review_score|        seller_city|seller_geo_lat_mean|seller_geo_mean_lng|           seller_id|seller_state|seller_zip_code_prefix|shipping_limit_date|rank|\n",
      "+-------------------+---------------------+---------------------+--------------------------+--------------------+--------------+--------------------+------------------------+-------------+-------------------+----------------------------+-----------------------------+-----------------------------+--------------------+-------------+------------------------+------------+--------------------+------------------+------------+-------------+------+---------------------+--------------------------+-----------------+--------------------+-----------------+-------------------+------------------+----------------+----------------+-----------------------+----------------------+--------------------+--------------------+--------------------+------------+-------------------+-------------------+-------------------+--------------------+------------+----------------------+-------------------+----+\n",
      "|encruzilhada do sul|  -30.544711212440724|  -52.523721790225316|                        RS|8f6897eea837b76a0...|            RS|0e654cd2ff0c4694a...|                   96610|        67.54|2018-08-15 19:04:04|         2018-08-16 11:35:00|          2018-08-29 15:06:32|          2018-09-11 00:00:00|2ffb8e2050ae93716...|            1|     2018-08-14 17:13:56|   delivered|                   3|                 1| credit_card|       203.04| 135.5|                bebes|                      1280|               25|96b7d9d0248d6f0f6...|               51|                 44|                 4|            7050|              48|    2018-08-30 18:24:46|                  NULL|                NULL| 2018-08-30 00:00:00|02b524a380f306e22...|           4|           ibitinga|-21.757320637712766| -48.82974353343713|02b72cdeb9cfcc429...|          SP|                 14940|2018-08-17 19:04:04|   1|\n",
      "|         sao mateus|  -18.718212244497813|  -39.854862504638575|                        ES|f64470f4048d39442...|            ES|be67ce7b34880aba2...|                   29930|         44.7|2018-07-25 22:24:37|         2018-07-26 12:57:00|          2018-08-04 15:16:32|          2018-08-10 00:00:00|6e5f1d377726554b0...|            1|     2018-07-25 21:20:47|   delivered|                   1|                 1|  debit_card|       173.85|129.15|                bebes|                      1254|               24|8481795a5de647a07...|               47|                 30|                 3|            6350|              33|    2018-08-07 20:02:59|  Tudo certinho e c...|                NULL| 2018-08-05 00:00:00|d88cc94b002f1df7b...|           5|           ibitinga|-21.757320637712766| -48.82974353343713|02b72cdeb9cfcc429...|          SP|                 14940|2018-07-31 22:24:37|   2|\n",
      "|       quixeramobim|   -5.198700104551451|   -39.29377385907465|                        CE|26982dd51b55e2a5c...|            CE|fbb12b94afcf31408...|                   63800|        69.05|2018-08-09 03:44:56|         2018-08-10 11:53:00|          2018-08-24 17:08:34|          2018-09-04 00:00:00|3b842ff9ea0324f77...|            1|     2018-08-07 08:53:33|   delivered|                   1|                 1|      boleto|       198.05| 129.0|                bebes|                      1243|               24|b35c8479840135aa1...|               47|                 37|                 4|            6400|              33|    2018-08-27 20:47:49|  Recomendo a compr...|                 Bom| 2018-08-25 00:00:00|27ee3ed83aa2e944f...|           5|           ibitinga|-21.757320637712766| -48.82974353343713|02b72cdeb9cfcc429...|          SP|                 14940|2018-08-15 03:44:56|   3|\n",
      "|            vitoria|   -20.25892061310893|   -40.26756763394875|                        ES|2a7f7a3839af32d2f...|            ES|796bcd966e5d0272a...|                   29090|         44.7|2018-08-22 20:25:12|         2018-08-23 13:16:00|          2018-08-30 21:05:27|          2018-09-05 00:00:00|760999ff07a3e111f...|            1|     2018-08-22 20:09:46|   delivered|                   5|                 1| credit_card|        173.7| 129.0|                bebes|                      1243|               24|b35c8479840135aa1...|               47|                 37|                 4|            6400|              33|    2018-09-01 00:11:36|                  NULL|                NULL| 2018-08-31 00:00:00|a2eb9dfe17732a8ec...|           5|           ibitinga|-21.757320637712766| -48.82974353343713|02b72cdeb9cfcc429...|          SP|                 14940|2018-08-24 20:25:12|   3|\n",
      "|           salvador|   -12.89202635597046|   -38.45938456460032|                        BA|79d01f9efd7c41ad4...|            BA|b8ef05e60ca9c980f...|                   40730|        48.46|2018-04-24 19:09:31|         2018-04-26 11:37:00|          2018-05-20 13:03:58|          2018-05-15 00:00:00|b1df53a4660846754...|            1|     2018-04-20 12:29:17|   delivered|                   4|                 1| credit_card|       281.96| 233.5| utilidades_domest...|                       182|               39|28dfc4b48aa78bae6...|               30|                 52|                 1|            5438|              25|    2018-05-17 11:12:36|  é uma ótima opção...|      mais ou menos | 2018-05-17 00:00:00|c787d855e81a3e626...|           3|sao jose dos campos|-23.224372002311355|  -45.8820598038853|038b75b729c8a9a04...|          SP|                 12231|2018-04-30 13:31:52|   1|\n",
      "|      boa esperanca|  -18.535836904994678|  -40.301312520021206|                        ES|14b488bd62137d067...|            ES|83312cdde131cd185...|                   29845|        42.39|2018-04-24 19:17:41|         2018-04-26 11:37:00|          2018-05-07 20:31:33|          2018-05-15 00:00:00|540aa72ba814b34b7...|            1|     2018-04-22 18:42:38|   delivered|                   8|                 1| credit_card|       275.89| 233.5| utilidades_domest...|                       182|               39|28dfc4b48aa78bae6...|               30|                 52|                 1|            5438|              25|    2018-05-10 12:56:18|                  NULL|                NULL| 2018-05-08 00:00:00|b4b86e99a40977081...|           4|sao jose dos campos|-23.224372002311355|  -45.8820598038853|038b75b729c8a9a04...|          SP|                 12231|2018-04-30 19:31:38|   1|\n",
      "|            corinto|  -18.365786615134017|  -44.454401934788834|                        MG|f052ff7c7ad9e747e...|            MG|ead9bc5e29e42c47d...|                   39200|        19.44|2018-02-08 09:10:41|         2018-02-08 19:28:42|          2018-02-19 17:15:10|          2018-03-09 00:00:00|1991b586044e1a429...|            1|     2018-02-08 08:53:50|   delivered|                   4|                 1| credit_card|       689.43|669.99|          eletronicos|                       595|               10|8883cd5c3e8ce5ce6...|               19|                 34|                 1|             230|              15|    2018-02-20 20:48:07|                  NULL|                NULL| 2018-02-20 00:00:00|44c1ba427227ee1bf...|           5|          queimados| -22.73701486100054| -43.56361873677635|056b4ada5bbc2c50c...|          RJ|                 26379|2018-02-14 09:10:41|   1|\n",
      "|     embu das artes|  -23.669873484997392|    -46.8020432062854|                        SP|355b5f09816035f60...|            SP|36d4ac720e881bac6...|                    6823|        18.37|2018-02-03 16:10:36|         2018-02-05 18:29:05|          2018-06-13 15:57:49|          2018-03-01 00:00:00|a6a6c002fd9f0e9eb...|            1|     2018-02-03 15:48:24|   delivered|                   8|                 1| credit_card|       678.36|659.99|          eletronicos|                       595|               10|8883cd5c3e8ce5ce6...|               19|                 34|                 1|             230|              15|    2018-03-08 14:27:20|                  NULL|                NULL| 2018-03-03 00:00:00|891e389285dc1d860...|           5|          queimados| -22.73701486100054| -43.56361873677635|056b4ada5bbc2c50c...|          RJ|                 26379|2018-02-08 16:10:36|   2|\n",
      "|    mogi das cruzes|   -23.51562982228004|    -46.1411121720396|                        SP|c7d5c3347080c1ba8...|            SP|6aff90e0a744227f7...|                    8830|        18.23|2017-12-01 11:32:10|         2017-12-06 20:48:54|          2017-12-11 18:23:33|          2017-12-26 00:00:00|7eae04ada6ffa5ce1...|            1|     2017-12-01 10:20:48|   delivered|                  10|                 1| credit_card|       658.22|639.99|          eletronicos|                       595|               10|8883cd5c3e8ce5ce6...|               19|                 34|                 1|             230|              15|    2017-12-13 11:58:40|                  NULL|                NULL| 2017-12-12 00:00:00|2dd2e3277e65aa2e8...|           4|          queimados| -22.73701486100054| -43.56361873677635|056b4ada5bbc2c50c...|          RJ|                 26379|2017-12-07 10:31:51|   3|\n",
      "|           brasilia|   -15.79524812892108|   -48.10637549571786|                        DF|657257c1377038d39...|            DF|d2f0b9e0fbf779c60...|                   72146|        19.44|2018-08-08 21:30:15|         2018-08-10 15:07:00|          2018-08-21 18:19:01|          2018-08-17 00:00:00|88fb1f364095174f0...|            1|     2018-08-08 21:18:55|   delivered|                   5|                 1| credit_card|       639.43|619.99|   relogios_presentes|                       294|                6|e68953b4a25cddae1...|               16|                 46|                 1|             750|              11|    2018-08-19 17:36:06|  Só posso fazer av...|                NULL| 2018-08-19 00:00:00|5fa4fb44964b47967...|           1|          queimados| -22.73701486100054| -43.56361873677635|056b4ada5bbc2c50c...|          RJ|                 26379|2018-08-12 21:30:15|   4|\n",
      "|           curitiba|  -25.430144074286265|   -49.28531986744621|                        PR|0687adb7abd672624...|            PR|3a7e31f18c7b6d5c7...|                   80430|        18.25|2018-06-27 00:50:31|         2018-06-27 10:35:00|          2018-07-03 04:41:46|          2018-07-25 00:00:00|b22cc8e3b1816483e...|            1|     2018-06-26 23:20:25|   delivered|                   6|                 1| credit_card|       468.24|449.99|   relogios_presentes|                      1562|               12|1f624c9baa5906ea6...|               19|                 44|                 3|             358|              15|    2018-07-03 14:05:43|                  NULL|                NULL| 2018-07-03 00:00:00|e20c928c4540fe9fe...|           5|          queimados| -22.73701486100054| -43.56361873677635|056b4ada5bbc2c50c...|          RJ|                 26379|2018-07-03 00:31:24|   5|\n",
      "|       rondonopolis|  -16.475635889827068|  -54.616899990162395|                        MT|49cbac2b39ac1280d...|            MT|a9e4348b76f85861a...|                   78740|         38.3|2018-04-12 11:31:25|         2018-04-12 21:36:54|          2018-04-27 20:03:22|          2018-05-14 00:00:00|f1997789bf60765f1...|            1|     2018-04-12 11:09:29|   delivered|                   8|                 1| credit_card|       268.29|229.99|   relogios_presentes|                       587|                8|da83f50064bb1755c...|               16|                 60|                 2|             567|              11|    2018-05-01 01:26:56|         muito bonito!|              otimo!| 2018-04-28 00:00:00|861909eaf297088a9...|           5|          queimados| -22.73701486100054| -43.56361873677635|056b4ada5bbc2c50c...|          RJ|                 26379|2018-04-18 11:31:20|   6|\n",
      "|           contagem|  -19.923582110787258|   -44.09184616947447|                        MG|fa5689be033065ccb...|            MG|581499ad4abed228b...|                   32015|        18.36|2018-08-18 13:35:12|         2018-08-20 14:33:00|          2018-08-23 21:19:32|          2018-09-11 00:00:00|c0aa7b8e7596f2571...|            1|     2018-08-18 13:20:33|   delivered|                   8|                 1| credit_card|       248.35|229.99|   relogios_presentes|                       688|                8|29af47aaefb3a7a8b...|               18|                 51|                 1|             525|              12|    2018-08-27 23:09:15|  Tudo certo a entr...|                NULL| 2018-08-24 00:00:00|378172204c8f0ed00...|           5|          queimados| -22.73701486100054| -43.56361873677635|056b4ada5bbc2c50c...|          RJ|                 26379|2018-08-22 13:35:12|   6|\n",
      "|       juiz de fora|  -21.736531128270396|   -43.40215975469276|                        MG|c2449ff524bb1d2bf...|            MG|bb5b5f40144184d10...|                   36083|        16.33|2018-08-18 14:09:24|         2018-08-20 14:31:00|          2018-08-29 17:42:00|          2018-09-11 00:00:00|d9a83a9c593a1f1b9...|            1|     2018-08-18 13:50:27|   delivered|                   5|                 1| credit_card|       246.32|229.99|   relogios_presentes|                       688|                8|29af47aaefb3a7a8b...|               18|                 51|                 1|             525|              12|    2018-08-31 16:24:29|                  NULL|                NULL| 2018-08-30 00:00:00|064e7cba91fb12757...|           3|          queimados| -22.73701486100054| -43.56361873677635|056b4ada5bbc2c50c...|          RJ|                 26379|2018-08-22 14:09:24|   6|\n",
      "|          barreiras|  -12.144745694647181|  -44.991236805863174|                        BA|fa777a37be56a994a...|            BA|63fe99fa23473a734...|                   47800|        39.78|2018-07-30 19:31:51|         2018-07-31 15:02:00|          2018-08-10 21:28:44|          2018-08-24 00:00:00|2fe10d4ed06c8a5a6...|            1|     2018-07-28 13:09:33|   delivered|                   2|                 1| credit_card|       254.77|214.99|   relogios_presentes|                       546|                2|9c1acc2ea8ce833bd...|               16|                 48|                 1|             600|              11|    2018-08-12 02:01:55|  Recomendo, entreg...|            Positivo| 2018-08-11 00:00:00|582e04a596fa0537e...|           4|          queimados| -22.73701486100054| -43.56361873677635|056b4ada5bbc2c50c...|          RJ|                 26379|2018-08-01 17:10:16|   9|\n",
      "|             santos|   -23.97049317681096|   -46.30819529114142|                        SP|410b9823d7bbf7f97...|            SP|01bc9765e0b1cbb83...|                   11025|        18.99|2018-08-15 17:15:16|         2018-08-17 14:35:00|          2018-08-28 00:21:07|          2018-09-17 00:00:00|1b3d029e5f088cea5...|            1|     2018-08-15 17:00:42|   delivered|                   8|                 1| credit_card|       218.98|199.99|   relogios_presentes|                       689|                8|ddea12cd17c60cff8...|               18|                 42|                 1|             425|              12|    2018-08-31 19:32:36|                  NULL|                NULL| 2018-08-29 00:00:00|c22c893ee0c1cb66c...|           4|          queimados| -22.73701486100054| -43.56361873677635|056b4ada5bbc2c50c...|          RJ|                 26379|2018-08-20 17:15:16|  10|\n",
      "|        nova iguacu|   -22.71226158285931|   -43.43397796646817|                        RJ|65691ce6d0d99e673...|            RJ|0d06c568cb6aed2fe...|                   26070|         9.31|2018-08-20 14:36:32|         2018-08-17 14:44:00|          2018-08-20 17:37:56|          2018-08-23 00:00:00|8883dd20e65236965...|            1|     2018-08-14 14:24:51|   delivered|                   1|                 1| credit_card|        209.3|199.99|   relogios_presentes|                       689|                8|ddea12cd17c60cff8...|               18|                 42|                 1|             425|              12|    2018-08-22 10:55:39|                  NULL|                NULL| 2018-08-21 00:00:00|77a5eb7708ea47c9d...|           5|          queimados| -22.73701486100054| -43.56361873677635|056b4ada5bbc2c50c...|          RJ|                 26379|2018-08-17 14:45:31|  10|\n",
      "|       paulo afonso|   -9.392588798682945|  -38.210168155223315|                        BA|022d8f488c8a3f6e6...|            BA|ef1cd1e79ddaac16d...|                   48606|        38.52|2018-08-11 20:45:13|         2018-08-13 10:59:00|          2018-08-21 15:22:55|          2018-09-04 00:00:00|d8823f4e35f58bef4...|            1|     2018-08-11 20:29:00|   delivered|                   8|                 1| credit_card|       218.51|179.99|   relogios_presentes|                       224|                6|2ae327a1dadf4e4df...|               16|                 52|                 1|             650|              11|    2018-08-22 18:46:28|  Produto entregue ...|               Ótimo| 2018-08-22 00:00:00|bae18334acbe1aefb...|           5|          queimados| -22.73701486100054| -43.56361873677635|056b4ada5bbc2c50c...|          RJ|                 26379|2018-08-15 20:45:13|  12|\n",
      "|              marco|   -3.123797441185686|  -40.154145988004046|                        CE|c1637785edaf603b3...|            CE|ba190071ac45d4793...|                   62560|        51.75|2018-03-20 20:50:23|         2018-03-22 21:14:54|          2018-04-27 16:58:36|          2018-04-16 00:00:00|3ae0851b6ee221c9d...|            1|     2018-03-19 20:47:54|   delivered|                   4|                 1| credit_card|       230.75| 179.0|   relogios_presentes|                       546|                2|9c1acc2ea8ce833bd...|               16|                 48|                 1|             600|              11|    2018-04-19 03:59:37|  Há uma grande dif...|                NULL| 2018-04-19 00:00:00|49e3a388c41aec271...|           1|          queimados| -22.73701486100054| -43.56361873677635|056b4ada5bbc2c50c...|          RJ|                 26379|2018-03-26 20:50:23|  13|\n",
      "|          sao paulo|   -23.52207346590665|   -46.71022243914986|                        SP|f8bf72976f888a5dd...|            SP|958bdc0c6bc60b27b...|                    5076|         17.2|2018-06-05 20:52:20|         2018-06-06 14:17:00|          2018-06-11 21:08:44|          2018-07-11 00:00:00|d4612a92684490006...|            1|     2018-06-05 20:33:20|   delivered|                   3|                 1| credit_card|       193.19|175.99|   relogios_presentes|                       307|                2|5c3aca5c078a343b3...|               16|                 33|                 1|             600|              11|    2018-06-13 04:04:21|                  NULL|                NULL| 2018-06-12 00:00:00|b8f1f00f791544073...|           5|          queimados| -22.73701486100054| -43.56361873677635|056b4ada5bbc2c50c...|          RJ|                 26379|2018-06-13 20:52:20|  14|\n",
      "+-------------------+---------------------+---------------------+--------------------------+--------------------+--------------+--------------------+------------------------+-------------+-------------------+----------------------------+-----------------------------+-----------------------------+--------------------+-------------+------------------------+------------+--------------------+------------------+------------+-------------+------+---------------------+--------------------------+-----------------+--------------------+-----------------+-------------------+------------------+----------------+----------------+-----------------------+----------------------+--------------------+--------------------+--------------------+------------+-------------------+-------------------+-------------------+--------------------+------------+----------------------+-------------------+----+\n",
      "only showing top 20 rows\n",
      "\n"
     ]
    }
   ],
   "source": [
    "top_seller_product = full_orders.withColumn('rank', rank().over(window=window_spc))\n",
    "top_seller_product.show()"
   ]
  },
  {
   "cell_type": "code",
   "execution_count": 40,
   "id": "50f76aa9",
   "metadata": {},
   "outputs": [
    {
     "name": "stdout",
     "output_type": "stream",
     "text": [
      "+--------------------------------+--------------------------------+-----+----+\n",
      "|seller_id                       |product_id                      |price|rank|\n",
      "+--------------------------------+--------------------------------+-----+----+\n",
      "|0015a82c2db000af6aaaf3ae2ecb0532|a2ff5a97bf95719e38ea2e3b4105bce8|895.0|1   |\n",
      "|001cca7ae9ae17fb1caed9dfb1094831|e251ebd2858be1aa7d9b2087a6992580|199.0|1   |\n",
      "|001cca7ae9ae17fb1caed9dfb1094831|98a8c2fa16d7239c606640f5555768e4|169.0|2   |\n",
      "|001cca7ae9ae17fb1caed9dfb1094831|e251ebd2858be1aa7d9b2087a6992580|139.9|3   |\n",
      "|001cca7ae9ae17fb1caed9dfb1094831|6d15a14a5c04e3ef315ab136bd824d72|139.9|3   |\n",
      "|001cca7ae9ae17fb1caed9dfb1094831|e251ebd2858be1aa7d9b2087a6992580|139.0|9   |\n",
      "|001cca7ae9ae17fb1caed9dfb1094831|547b95702aec86f05ac37e61d164891c|135.0|13  |\n",
      "|001cca7ae9ae17fb1caed9dfb1094831|08574b074924071f4e201e151b152b4e|135.0|13  |\n",
      "|001cca7ae9ae17fb1caed9dfb1094831|d32f22e03fb01595aa10383f4364d303|129.9|16  |\n",
      "|001cca7ae9ae17fb1caed9dfb1094831|547b95702aec86f05ac37e61d164891c|129.0|17  |\n",
      "|001cca7ae9ae17fb1caed9dfb1094831|98a8c2fa16d7239c606640f5555768e4|129.0|17  |\n",
      "|001cca7ae9ae17fb1caed9dfb1094831|e251ebd2858be1aa7d9b2087a6992580|129.0|17  |\n",
      "|001cca7ae9ae17fb1caed9dfb1094831|86b22a03cb72239dd53996a67df35c63|120.0|34  |\n",
      "|001cca7ae9ae17fb1caed9dfb1094831|21fecd254a3103704126b28478ea7980|119.0|38  |\n",
      "|001cca7ae9ae17fb1caed9dfb1094831|e251ebd2858be1aa7d9b2087a6992580|112.0|40  |\n",
      "|001cca7ae9ae17fb1caed9dfb1094831|0da9ffd92214425d880de3f94e74ce39|112.0|40  |\n",
      "|001cca7ae9ae17fb1caed9dfb1094831|547b95702aec86f05ac37e61d164891c|112.0|40  |\n",
      "|001cca7ae9ae17fb1caed9dfb1094831|98a8c2fa16d7239c606640f5555768e4|110.0|72  |\n",
      "|001cca7ae9ae17fb1caed9dfb1094831|98a8c2fa16d7239c606640f5555768e4|109.0|82  |\n",
      "|001cca7ae9ae17fb1caed9dfb1094831|08574b074924071f4e201e151b152b4e|101.0|86  |\n",
      "|001cca7ae9ae17fb1caed9dfb1094831|0da9ffd92214425d880de3f94e74ce39|99.99|91  |\n",
      "|001cca7ae9ae17fb1caed9dfb1094831|e251ebd2858be1aa7d9b2087a6992580|99.9 |98  |\n",
      "|001cca7ae9ae17fb1caed9dfb1094831|4f3b83b83f7fb280fca4f90ba502f50e|99.5 |112 |\n",
      "|001cca7ae9ae17fb1caed9dfb1094831|547b95702aec86f05ac37e61d164891c|99.5 |112 |\n",
      "|001cca7ae9ae17fb1caed9dfb1094831|08574b074924071f4e201e151b152b4e|99.0 |118 |\n",
      "|001cca7ae9ae17fb1caed9dfb1094831|98a8c2fa16d7239c606640f5555768e4|99.0 |118 |\n",
      "|001cca7ae9ae17fb1caed9dfb1094831|21fecd254a3103704126b28478ea7980|99.0 |118 |\n",
      "|001cca7ae9ae17fb1caed9dfb1094831|86b22a03cb72239dd53996a67df35c63|99.0 |118 |\n",
      "|001cca7ae9ae17fb1caed9dfb1094831|08574b074924071f4e201e151b152b4e|89.0 |204 |\n",
      "|001cca7ae9ae17fb1caed9dfb1094831|4d7fee7877228c1497477ae53d97c214|89.0 |204 |\n",
      "|001cca7ae9ae17fb1caed9dfb1094831|98a8c2fa16d7239c606640f5555768e4|84.9 |233 |\n",
      "|001cca7ae9ae17fb1caed9dfb1094831|86b22a03cb72239dd53996a67df35c63|79.0 |234 |\n",
      "|001cca7ae9ae17fb1caed9dfb1094831|08574b074924071f4e201e151b152b4e|69.9 |235 |\n",
      "|001e6ad469a905060d959994f1b41e4f|093cd981b714bcdff182b427d87fc8fc|250.0|1   |\n",
      "|002100f778ceb8431b7a1020ff7ab48f|f20ecbadee5c21ee0f8b35381c49f267|129.9|1   |\n",
      "|002100f778ceb8431b7a1020ff7ab48f|69adf2553423d21b32e7f734196a3ab2|89.9 |2   |\n",
      "|002100f778ceb8431b7a1020ff7ab48f|bb9b2da4f8ff24846eb34e2bd128d5b4|49.9 |3   |\n",
      "|002100f778ceb8431b7a1020ff7ab48f|db12ac2c4b6f38f091e197cece7d4a3e|49.9 |3   |\n",
      "|002100f778ceb8431b7a1020ff7ab48f|54151de8a5ccf2dc3058b447e1f582f3|39.9 |5   |\n",
      "|002100f778ceb8431b7a1020ff7ab48f|e619ceb6b2a4196772ddaa5c6e0368a7|19.9 |6   |\n",
      "|002100f778ceb8431b7a1020ff7ab48f|986870b9985d95ef6205bae1953a61a5|19.9 |6   |\n",
      "|002100f778ceb8431b7a1020ff7ab48f|202461254670632afd89ac8034e87453|19.9 |6   |\n",
      "|002100f778ceb8431b7a1020ff7ab48f|f5765f6aff97015236abc132d8983b89|19.9 |6   |\n",
      "|002100f778ceb8431b7a1020ff7ab48f|158102fe543dbaeb84d87811bfe06d0d|19.9 |6   |\n",
      "|002100f778ceb8431b7a1020ff7ab48f|ef4d462089a7f98d6235d3f98ee2dadd|19.9 |6   |\n",
      "|002100f778ceb8431b7a1020ff7ab48f|79792fabf714677e94472c3ce5e719a5|19.9 |6   |\n",
      "|002100f778ceb8431b7a1020ff7ab48f|6be1edd09e2decfd7bb76220355bc693|19.9 |6   |\n",
      "|002100f778ceb8431b7a1020ff7ab48f|adb87e70152d5c87a1929b2019494320|19.9 |6   |\n",
      "|002100f778ceb8431b7a1020ff7ab48f|62c2b9bd44500d0305b1e50e2c9bd34d|19.9 |6   |\n",
      "|002100f778ceb8431b7a1020ff7ab48f|cb790fa02cc6097dcbf8f9f05904a005|19.9 |6   |\n",
      "+--------------------------------+--------------------------------+-----+----+\n",
      "only showing top 50 rows\n",
      "\n"
     ]
    }
   ],
   "source": [
    "top_seller_product.select('seller_id', 'product_id', 'price', 'rank').distinct().orderBy(['seller_id', 'rank']).show(50, truncate=False)"
   ]
  },
  {
   "cell_type": "code",
   "execution_count": 41,
   "metadata": {},
   "outputs": [],
   "source": [
    "# dense rank for seller based on product revenue\n",
    "from pyspark.sql.functions import dense_rank\n",
    "\n",
    "window_spc = Window.partitionBy(['seller_id']).orderBy(desc('total_revenue_product'))"
   ]
  },
  {
   "cell_type": "code",
   "execution_count": 42,
   "metadata": {},
   "outputs": [
    {
     "name": "stdout",
     "output_type": "stream",
     "text": [
      "+--------------------+--------------------+---------------------+----+\n",
      "|           seller_id|          product_id|total_revenue_product|rank|\n",
      "+--------------------+--------------------+---------------------+----+\n",
      "|0015a82c2db000af6...|a2ff5a97bf95719e3...|               2685.0|   1|\n",
      "|001cca7ae9ae17fb1...|08574b074924071f4...|              10928.2|   1|\n",
      "|001cca7ae9ae17fb1...|e251ebd2858be1aa7...|    5592.099999999999|   2|\n",
      "|001cca7ae9ae17fb1...|98a8c2fa16d7239c6...|               3424.9|   3|\n",
      "|001cca7ae9ae17fb1...|547b95702aec86f05...|               2040.5|   4|\n",
      "|001cca7ae9ae17fb1...|0da9ffd92214425d8...|              1819.93|   5|\n",
      "|001cca7ae9ae17fb1...|86b22a03cb72239dd...|                658.0|   6|\n",
      "|001cca7ae9ae17fb1...|21fecd254a3103704...|                337.0|   7|\n",
      "|001cca7ae9ae17fb1...|4d7fee7877228c149...|                178.0|   8|\n",
      "|001cca7ae9ae17fb1...|6d15a14a5c04e3ef3...|                139.9|   9|\n",
      "|001cca7ae9ae17fb1...|d32f22e03fb01595a...|                129.9|  10|\n",
      "|001cca7ae9ae17fb1...|4f3b83b83f7fb280f...|                 99.5|  11|\n",
      "|001e6ad469a905060...|093cd981b714bcdff...|                250.0|   1|\n",
      "|002100f778ceb8431...|158102fe543dbaeb8...|                304.3|   1|\n",
      "|002100f778ceb8431...|414c53fa9c5cc4a03...|   246.59999999999997|   2|\n",
      "|002100f778ceb8431...|f20ecbadee5c21ee0...|                129.9|   3|\n",
      "|002100f778ceb8431...|69adf2553423d21b3...|                 89.9|   4|\n",
      "|002100f778ceb8431...|79792fabf714677e9...|   57.699999999999996|   5|\n",
      "|002100f778ceb8431...|bb9b2da4f8ff24846...|                 49.9|   6|\n",
      "|002100f778ceb8431...|db12ac2c4b6f38f09...|                 49.9|   6|\n",
      "+--------------------+--------------------+---------------------+----+\n",
      "only showing top 20 rows\n",
      "\n"
     ]
    }
   ],
   "source": [
    "renevue_per_product = full_orders\\\n",
    "    .groupBy(['seller_id', 'product_id'])\\\n",
    "        .agg(sum('price').alias('total_revenue_product'))\\\n",
    "        .withColumn('rank', dense_rank().over(window_spc))\\\n",
    "        .orderBy('seller_id', 'rank')\n",
    "\n",
    "\n",
    "renevue_per_product.show()"
   ]
  },
  {
   "cell_type": "markdown",
   "id": "bc6638fd",
   "metadata": {},
   "source": [
    "## Advanced Aggregation "
   ]
  },
  {
   "cell_type": "code",
   "execution_count": 43,
   "id": "1f89e8bb",
   "metadata": {},
   "outputs": [],
   "source": [
    "from pyspark.sql.functions import round, avg"
   ]
  },
  {
   "cell_type": "markdown",
   "id": "68df6da5",
   "metadata": {},
   "source": [
    "Multiple Aggregations"
   ]
  },
  {
   "cell_type": "code",
   "execution_count": 44,
   "id": "19ea2ab8",
   "metadata": {},
   "outputs": [
    {
     "name": "stdout",
     "output_type": "stream",
     "text": [
      "+--------------------+------------+-----------+-------+\n",
      "|         customer_id|total_orders|total_spent|    AOV|\n",
      "+--------------------+------------+-----------+-------+\n",
      "|1617b1357756262bf...|           8|    13440.0| 1680.0|\n",
      "|9af2372a1e4934027...|          29|    11384.0| 392.55|\n",
      "|de832e8dbb1f588a4...|          15|    10856.0| 723.74|\n",
      "|63b964e79dee32a35...|          24|     9888.0|  412.0|\n",
      "|6f241d5bbb142b6f7...|           7|     9520.0|1360.02|\n",
      "|926b6a6fb8b6081e0...|           2|     7998.0| 3999.0|\n",
      "|f959b7bc834045511...|           6|     7799.0| 1299.9|\n",
      "|eb7a157e8da9c488c...|           2|     7798.0| 3899.0|\n",
      "|ec5b2ba62e5743423...|           4|     7160.0| 1790.0|\n",
      "|3118aefef04e5e97d...|           7|     6909.0|  987.0|\n",
      "|c6e2731c5b391845f...|           1|     6735.0| 6735.0|\n",
      "|f48d464a0baaea338...|           1|     6729.0| 6729.0|\n",
      "|3fd6777bbce08a352...|           1|     6499.0| 6499.0|\n",
      "|46bb3c0b1a65c8399...|           2|     6248.0| 3124.0|\n",
      "|d1ea705f2fdd8f98e...|          14|     6020.0| 429.99|\n",
      "|05455dfa7cd02f13d...|           6|     5935.0|  989.1|\n",
      "|d3e82ccec3cb5f956...|           6|     5814.0|  969.0|\n",
      "|3690e975641f01bd0...|           2|     5298.0| 2649.0|\n",
      "|c47f0ed7fbd21fc9b...|           9|     4932.0| 547.99|\n",
      "|a99b2128d3db96e83...|           8|     4800.0|  600.0|\n",
      "+--------------------+------------+-----------+-------+\n",
      "only showing top 20 rows\n",
      "\n"
     ]
    }
   ],
   "source": [
    "# total revenue | average order value AOV per customer\n",
    "customer_spending = full_orders.groupBy('customer_id') \\\n",
    "    .agg(\n",
    "        count('order_id').alias('total_orders'),\n",
    "        round(sum('price'),0).alias('total_spent'),\n",
    "        round(avg('price'), 2).alias('AOV')\n",
    "    ) \\\n",
    "    .orderBy('total_spent', ascending=False)\n",
    "\n",
    "customer_spending.show()"
   ]
  },
  {
   "cell_type": "markdown",
   "id": "d4759116",
   "metadata": {},
   "source": [
    "Seller Performance Metrics"
   ]
  },
  {
   "cell_type": "code",
   "execution_count": 45,
   "id": "34636fd1",
   "metadata": {},
   "outputs": [],
   "source": [
    "from pyspark.sql.types import FloatType\n",
    "\n",
    "full_orders=full_orders.withColumn('review_score', col('review_score').cast(FloatType()))"
   ]
  },
  {
   "cell_type": "code",
   "execution_count": 46,
   "id": "9c60dcc8",
   "metadata": {},
   "outputs": [
    {
     "name": "stdout",
     "output_type": "stream",
     "text": [
      "+--------------------+-------------+----------------+------------+\n",
      "|           seller_id|total_revenue|avg_review_score|orders_count|\n",
      "+--------------------+-------------+----------------+------------+\n",
      "|53243585a1d6dc264...|    244627.55|             4.1|         437|\n",
      "|4869f7a5dfa277a7d...|    238386.13|             4.1|        1189|\n",
      "|4a3ca9315b744ce9f...|    215968.57|             3.8|        2157|\n",
      "|fa1c13f2614d7b5c4...|    203984.22|             4.3|         609|\n",
      "|7c67e1448b00f6e96...|    201568.01|             3.4|        1473|\n",
      "|7e93a43ef30c4f03f...|    182878.17|             4.2|         352|\n",
      "|da8622b14eb17ae28...|    171814.47|             4.1|        1663|\n",
      "|7a67c85e85bb2ce85...|    150779.78|             4.2|        1246|\n",
      "|1025f0e2d44d7041d...|    144500.53|             3.9|        1482|\n",
      "|955fee9216a65b617...|     137405.0|             4.1|        1530|\n",
      "|46dc3b2cc0980fb8e...|    132322.02|             4.2|         559|\n",
      "|6560211a19b47992c...|    128958.81|             3.9|        2131|\n",
      "|7d13fca1522535862...|    121677.84|             4.0|         598|\n",
      "|5dceca129747e92ff...|    120619.33|             4.0|         365|\n",
      "|620c87c171fb2a6dd...|     119489.2|             4.2|         831|\n",
      "|1f50f920176fa81da...|    111928.01|             4.0|        2017|\n",
      "|cc419e0650a3c5ba7...|    110935.25|             4.0|        1895|\n",
      "|a1043bafd471dff53...|    106813.94|             4.2|         808|\n",
      "|3d871de0142ce09b7...|      99556.6|             4.1|        1206|\n",
      "|edb1ef5e36e0c8cd8...|     81220.15|             4.4|         180|\n",
      "+--------------------+-------------+----------------+------------+\n",
      "only showing top 20 rows\n",
      "\n"
     ]
    }
   ],
   "source": [
    "# renenue, average review, order count\n",
    "seller_performance = full_orders \\\n",
    "    .groupBy('seller_id') \\\n",
    "    .agg(\n",
    "        round(sum('price'), 4).alias('total_revenue'),\n",
    "        round(avg('review_score'), 1).alias('avg_review_score'),\n",
    "        count('order_id').alias('orders_count')\n",
    "        ) \\\n",
    "    .orderBy(['total_revenue', 'avg_review_score'], ascending=[False, False])\n",
    "\n",
    "seller_performance.show()"
   ]
  },
  {
   "cell_type": "markdown",
   "id": "c9081246",
   "metadata": {},
   "source": [
    "Location Sellers with Revenue"
   ]
  },
  {
   "cell_type": "code",
   "execution_count": 47,
   "id": "56d0863b",
   "metadata": {},
   "outputs": [],
   "source": [
    "revenue_zipcode=full_orders.groupBy('seller_zip_code_prefix')\\\n",
    "    .agg(\n",
    "        mean('seller_geo_lat_mean').alias('lat'), \n",
    "        mean('seller_geo_mean_lng').alias('lon'),\n",
    "        sum('price').alias('total_spent')\n",
    "        )\\\n",
    "    .toPandas()"
   ]
  },
  {
   "cell_type": "code",
   "execution_count": 48,
   "id": "76064d3b",
   "metadata": {},
   "outputs": [
    {
     "data": {
      "image/png": "[encoded data removed]",
      "text/plain": [
       "<Figure size 640x480 with 2 Axes>"
      ]
     },
     "metadata": {},
     "output_type": "display_data"
    }
   ],
   "source": [
    "import matplotlib.pyplot as plt\n",
    "import numpy as np\n",
    "\n",
    "percentile_95 = np.percentile(revenue_zipcode['total_spent'], 95)\n",
    "\n",
    "\n",
    "plt.scatter(x=revenue_zipcode['lon'], \n",
    "            y=revenue_zipcode['lat'], \n",
    "            c=revenue_zipcode['total_spent'].clip(0, percentile_95),\n",
    "            cmap='viridis',\n",
    "            alpha=((revenue_zipcode['total_spent'] - revenue_zipcode['total_spent'].min()) / (revenue_zipcode['total_spent'].max() - revenue_zipcode['total_spent'].min())).clip(0.1, 1.),\n",
    "            )\n",
    "\n",
    "plt.title(\"Appx seller's revenue location\")\n",
    "plt.xlabel('Longitud')\n",
    "plt.ylabel('Latitud')\n",
    "plt.colorbar();"
   ]
  },
  {
   "cell_type": "code",
   "execution_count": 49,
   "id": "1089920a",
   "metadata": {},
   "outputs": [
    {
     "name": "stdout",
     "output_type": "stream",
     "text": [
      "+--------------------+-----------+-------------+---------+--------------------+\n",
      "|          product_id|total_sales|total_revenue|avg_price|        sellers_list|\n",
      "+--------------------+-----------+-------------+---------+--------------------+\n",
      "|aca2eb7d00ea1a7b8...|        536|      38248.2|     71.0|[955fee9216a65b61...|\n",
      "|99a4788cb24856965...|        528|     46575.66|     88.0|[4a3ca9315b744ce9...|\n",
      "|422879e10f4668299...|        508|     27851.62|     55.0|[1f50f920176fa81d...|\n",
      "|389d119b48cf3043d...|        406|     22181.19|     55.0|[1f50f920176fa81d...|\n",
      "|368c6c730842d7801...|        398|      21601.1|     54.0|[1f50f920176fa81d...|\n",
      "|53759a2ecddad2bb8...|        391|      21390.7|     55.0|[1f50f920176fa81d...|\n",
      "|d1c427060a0f73f6b...|        357|      49141.4|    138.0|[a1043bafd471dff5...|\n",
      "|53b36df67ebb7c415...|        327|     38158.21|    117.0|[7d13fca152253586...|\n",
      "|154e7e31ebfa09220...|        296|      6669.04|     23.0|[cc419e0650a3c5ba...|\n",
      "|3dd2a17168ec895c7...|        279|      41832.1|    150.0|[de722cd6dad950a9...|\n",
      "|2b4609f8948be1887...|        276|     24117.06|     87.0|[cc419e0650a3c5ba...|\n",
      "|7c1bd920dbdf22470...|        242|     14512.58|     60.0|[cc419e0650a3c5ba...|\n",
      "|a62e25e09e05e6faf...|        228|      24261.0|    106.0|[634964b17796e643...|\n",
      "|bb50f2e236e5eea01...|        210|      68810.0|    328.0|[f7ba60f8c3f99e7e...|\n",
      "|e0d64dcfaa3b6db5c...|        203|     33278.13|    164.0|[7d13fca152253586...|\n",
      "|5a848e4ab52fd5445...|        197|     24229.03|    123.0|[c826c40d7b19f62a...|\n",
      "|e53e557d5a159f5aa...|        192|     16235.74|     85.0|[6973a06f484aacf4...|\n",
      "|35afc973633aaeb6b...|        190|     16690.39|     88.0|[d20b021d3efdf267...|\n",
      "|42a2c92a0979a949c...|        185|      10987.9|     59.0|[813348c996469b40...|\n",
      "|b532349fe46b38fbc...|        181|       6607.3|     37.0|[1025f0e2d44d7041...|\n",
      "|a92930c327948861c...|        165|      12865.0|     78.0|[6560211a19b47992...|\n",
      "|f1c7f353075ce59d8...|        164|     31924.96|    195.0|[37be5a7c751166fb...|\n",
      "|c4baedd846ed09b85...|        163|     16468.96|    101.0|[a1043bafd471dff5...|\n",
      "|6cdd53843498f9289...|        159|      55779.9|    351.0|[ccc4bbb5f32a6ab2...|\n",
      "|19c91ef95d509ea33...|        157|     19012.43|    121.0|[06a2c3af7b3aee5d...|\n",
      "|437c05a395e9e47f9...|        156|       7811.6|     50.0|[bf84056e679dbe9c...|\n",
      "|2028bf1b01cafb2d2...|        153|      8516.47|     56.0|[cc419e0650a3c5ba...|\n",
      "|06edb72f1e0c64b14...|        151|      6168.37|     41.0|[391fc6631aebcf30...|\n",
      "|3fbc0ef745950c793...|        151|      9927.49|     66.0|[06a2c3af7b3aee5d...|\n",
      "|461f43be3bdf8844e...|        148|     20857.22|    141.0|[7d13fca152253586...|\n",
      "|7a10781637204d8d1...|        147|      31305.3|    213.0|[4869f7a5dfa277a7...|\n",
      "|d017a2151d543a988...|        147|       7203.0|     49.0|[6560211a19b47992...|\n",
      "|0aabfb375647d9738...|        146|       3505.5|     24.0|[37515688008a7a40...|\n",
      "|8c591ab0ca5195587...|        144|     14822.13|    103.0|[a1043bafd471dff5...|\n",
      "|656e0eca68dcecf6a...|        142|      12571.5|     89.0|[6973a06f484aacf4...|\n",
      "|e0cf79767c5b01625...|        141|       4215.9|     30.0|[da8622b14eb17ae2...|\n",
      "|36f60d45225e60c7d...|        139|     12207.05|     88.0|[6973a06f484aacf4...|\n",
      "|601a360bd2a916ece...|        137|     17488.63|    128.0|[7a67c85e85bb2ce8...|\n",
      "|ec2d43cc59763ec91...|        132|      6057.67|     46.0|[1c129092bf23f28a...|\n",
      "|b0961721fd839e998...|        129|       7453.5|     58.0|[1f50f920176fa81d...|\n",
      "|0bcc3eeca39e10642...|        128|       6927.6|     54.0|[1f50f920176fa81d...|\n",
      "|4c2394abfbac7ff59...|        126|     10708.74|     85.0|[cc419e0650a3c5ba...|\n",
      "|d285360f29ac7fd97...|        126|     32227.68|    256.0|[7d13fca152253586...|\n",
      "|52c80cedd4e90108b...|        125|     21671.53|    173.0|[a1043bafd471dff5...|\n",
      "|6f3b5b605d91b7439...|        122|      19818.3|    162.0|[7d13fca152253586...|\n",
      "|c6dd917a0be2a7045...|        122|      12068.4|     99.0|[7a67c85e85bb2ce8...|\n",
      "|89321f94e35fc6d79...|        121|      3431.51|     28.0|[7178f9f4dd81dcef...|\n",
      "|165f86fe8b799a708...|        120|      19684.8|    164.0|[b2ba3715d723d245...|\n",
      "|777d2e438a1b645f3...|        118|       8245.4|     70.0|[4a3ca9315b744ce9...|\n",
      "|54d9ac713e253fa1f...|        116|       3715.5|     32.0|[955fee9216a65b61...|\n",
      "+--------------------+-----------+-------------+---------+--------------------+\n",
      "\n"
     ]
    }
   ],
   "source": [
    "# product popularity metrics\n",
    "from pyspark.sql.functions import collect_set\n",
    "\n",
    "products_metrics = full_orders \\\n",
    "    .groupBy('product_id') \\\n",
    "        .agg(\n",
    "            count('order_id').alias('total_sales'),\n",
    "            round(sum('price'), 2).alias('total_revenue'),\n",
    "            round(avg('price')).alias('avg_price'),\n",
    "            collect_set('seller_id').alias('sellers_list')\n",
    "        ) \\\n",
    "        .orderBy(desc('total_sales'))\n",
    "\n",
    "products_metrics.limit(50).show(50)"
   ]
  },
  {
   "cell_type": "code",
   "execution_count": 61,
   "id": "cdad24f9",
   "metadata": {},
   "outputs": [],
   "source": [
    "# monthly revenue and order count trend\n",
    "from pyspark.sql.functions import month, stddev, min, max\n",
    "from pyspark.sql.window import Window\n",
    "\n",
    "window_spc = Window.orderBy('month').rowsBetween(Window.unboundedPreceding, Window.currentRow)\n",
    "\n",
    "monthly_data = full_orders \\\n",
    "    .select('price','order_purchase_timestamp', 'order_id') \\\n",
    "    .withColumn('month', month('order_purchase_timestamp'))\n",
    "\n",
    "monthly_group_data = monthly_data \\\n",
    "    .groupBy('month') \\\n",
    "        .agg(\n",
    "            count('order_id').alias('total_orders'),\n",
    "            round(sum('price'),4).alias('total_revenue'),\n",
    "            round(avg('price'), 2).alias('average_revenue_per_order'),\n",
    "            round(stddev('price'),4).alias('variability_price_order'),\n",
    "            round(min('price'), 2).alias('min_price_order'),\n",
    "            round(max('price'), 2).alias('max_price_order'),\n",
    "\n",
    "        ).orderBy('month')\n",
    "\n",
    "monthly_group_data = monthly_group_data.withColumn('cummulative_revenue', sum('total_revenue').over(window_spc))\n",
    "monthly_group_data = monthly_group_data.withColumn('cummulative_orders', sum('total_orders').over(window_spc))"
   ]
  },
  {
   "cell_type": "code",
   "execution_count": 62,
   "id": "4b8a8e8a",
   "metadata": {},
   "outputs": [
    {
     "name": "stdout",
     "output_type": "stream",
     "text": [
      "+-----+------------+-------------+-------------------------+-----------------------+---------------+---------------+--------------------+------------------+\n",
      "|month|total_orders|total_revenue|average_revenue_per_order|variability_price_order|min_price_order|max_price_order| cummulative_revenue|cummulative_orders|\n",
      "+-----+------------+-------------+-------------------------+-----------------------+---------------+---------------+--------------------+------------------+\n",
      "|    1|        9631|   1124076.85|                   116.71|               162.3445|            2.9|         3690.0|          1124076.85|              9631|\n",
      "|    2|       10101|   1151947.94|                   114.04|                174.319|           2.99|         6735.0|          2276024.79|             19732|\n",
      "|    3|       11800|   1428606.06|                   121.07|               182.7432|            4.9|        4099.99|          3704630.85|             31532|\n",
      "|    4|       11141|   1424473.91|                   127.86|                207.024|           0.85|         4799.0|          5129104.76|             42673|\n",
      "|    5|       12692|   1583324.44|                   124.75|               198.9764|            3.5|         6499.0|   6712429.199999999|             55365|\n",
      "|    6|       11223|   1367287.58|                   121.83|               194.3122|           3.49|         4590.0|   8079716.779999999|             66588|\n",
      "|    7|       12259|   1466037.79|                   119.59|               183.8006|            1.2|         6729.0|          9545754.57|             78847|\n",
      "|    8|       12696|    1491197.8|                   117.45|               179.3104|            2.2|        4399.87|1.1036952370000001E7|             91543|\n",
      "|    9|        5148|     666034.1|                   129.38|               192.1445|           2.29|         1890.0|       1.170298647E7|             96691|\n",
      "|   10|        6017|    750956.86|                   124.81|               188.3816|           3.85|        2999.99|       1.245394333E7|            102708|\n",
      "|   11|        9101|   1055458.29|                   115.97|               165.7622|            3.9|         2990.0|1.3509401620000001E7|            111809|\n",
      "|   12|        6598|    773964.71|                    117.3|               162.6189|            4.4|         3124.0|1.4283366330000002E7|            118407|\n",
      "+-----+------------+-------------+-------------------------+-----------------------+---------------+---------------+--------------------+------------------+\n",
      "\n"
     ]
    }
   ],
   "source": [
    "monthly_group_data.show()"
   ]
  },
  {
   "cell_type": "code",
   "execution_count": 68,
   "id": "227a7332",
   "metadata": {},
   "outputs": [],
   "source": [
    "monthly_group_df = monthly_group_data.toPandas()"
   ]
  },
  {
   "cell_type": "code",
   "execution_count": 71,
   "id": "905f32a0",
   "metadata": {},
   "outputs": [],
   "source": [
    "monthly_group_df.set_index('month', inplace=True)"
   ]
  },
  {
   "cell_type": "code",
   "execution_count": null,
   "metadata": {},
   "outputs": [
    {
     "data": {
      "image/png": "[encoded data removed]",
      "text/plain": [
       "<Figure size 1600x400 with 2 Axes>"
      ]
     },
     "metadata": {},
     "output_type": "display_data"
    }
   ],
   "source": [
    "fig, ax = plt.subplots(1, 2, figsize=(16, 4))\n",
    "\n",
    "monthly_group_df.plot.line(y='total_orders', \n",
    "                           marker='o', \n",
    "                           linestyle='--', \n",
    "                           color='red', \n",
    "                           grid=True, \n",
    "                           legend=False,\n",
    "                           ax = ax[0])\n",
    "ax[0].set_ylabel('Sales')\n",
    "ax[0].set_title('Average Sales per Month')\n",
    "\n",
    "monthly_group_df.plot.line(y='cummulative_orders', \n",
    "                           marker='o', \n",
    "                           linestyle='--', \n",
    "                           color='red', \n",
    "                           grid=True, \n",
    "                           legend=False,\n",
    "                           ax=ax[1])\n",
    "ax[1].set_title('Cummulative Average Sales')\n",
    "plt.show()"
   ]
  },
  {
   "cell_type": "code",
   "execution_count": 102,
   "id": "0c2a6314",
   "metadata": {},
   "outputs": [
    {
     "data": {
      "image/png": "[encoded data removed]",
      "text/plain": [
       "<Figure size 1600x400 with 2 Axes>"
      ]
     },
     "metadata": {},
     "output_type": "display_data"
    }
   ],
   "source": [
    "fig, ax = plt.subplots(1, 2, figsize=(16, 4))\n",
    "\n",
    "monthly_group_df.plot.line(y='total_revenue', \n",
    "                           marker='o', \n",
    "                           linestyle='--', \n",
    "                           color='red', \n",
    "                           grid=True, \n",
    "                           legend=False,\n",
    "                           ax = ax[0])\n",
    "ax[0].set_ylabel('Revenue')\n",
    "ax[0].set_title('Average Revenue per Month')\n",
    "\n",
    "monthly_group_df.plot.line(y='cummulative_revenue', \n",
    "                           marker='o', \n",
    "                           linestyle='--', \n",
    "                           color='red', \n",
    "                           grid=True, \n",
    "                           legend=False,\n",
    "                           ax=ax[1])\n",
    "ax[1].set_title('Cummulative Average Revenue')\n",
    "plt.show()"
   ]
  },
  {
   "cell_type": "markdown",
   "id": "02cecc7c",
   "metadata": {},
   "source": [
    "Customer Retention Analysis "
   ]
  },
  {
   "cell_type": "code",
   "execution_count": 128,
   "id": "bc1b42ce",
   "metadata": {},
   "outputs": [],
   "source": [
    "from pyspark.sql.functions import first, last, date_diff\n",
    "\n",
    "customer_retention = full_orders \\\n",
    "    .orderBy('order_purchase_timestamp') \\\n",
    "    .groupBy(['customer_id', 'order_id']) \\\n",
    "    .agg(\n",
    "        first('order_purchase_timestamp').alias('first_purchase_date'),\n",
    "        last('order_purchase_timestamp').alias('last_purchase_date'),\n",
    "        count('order_id').alias('total_orders'),\n",
    "        round(avg('price')).alias('aov')\n",
    "    )\\\n",
    "    .orderBy('total_orders') \\\n",
    "    .withColumn('days_diff', date_diff('last_purchase_date', 'first_purchase_date'))"
   ]
  },
  {
   "cell_type": "code",
   "execution_count": 129,
   "id": "376a19b7",
   "metadata": {},
   "outputs": [
    {
     "name": "stdout",
     "output_type": "stream",
     "text": [
      "+--------------------+--------------------+-------------------+-------------------+------------+-----+---------+\n",
      "|         customer_id|            order_id|first_purchase_date| last_purchase_date|total_orders|  aov|days_diff|\n",
      "+--------------------+--------------------+-------------------+-------------------+------------+-----+---------+\n",
      "|f6e8c30f4b6a47084...|36f03c686bcee7c59...|2017-04-07 19:33:15|2017-04-07 19:33:15|           1| 89.0|        0|\n",
      "|5fe15bcc0e9ddd5f0...|315b9425e90b7a501...|2017-03-22 11:58:38|2017-03-22 11:58:38|           1| 40.0|        0|\n",
      "|412144cf41fbb4eea...|0e530f6be154c9d7e...|2017-03-15 22:36:29|2017-03-15 22:36:29|           1|819.0|        0|\n",
      "|abc452b5f9790d518...|6b5c69624b2e0a589...|2017-05-13 12:28:32|2017-05-13 12:28:32|           1|100.0|        0|\n",
      "|09934ba1d30ffe403...|250feacc914cfbf84...|2017-03-23 21:15:00|2017-03-23 21:15:00|           1|120.0|        0|\n",
      "|5bef68c4d2d04c09a...|719628a909505f12f...|2016-10-05 14:49:49|2016-10-05 14:49:49|           1| 30.0|        0|\n",
      "|01c45d896d5f6343a...|a3670896f8c6f7039...|2017-05-02 16:56:42|2017-05-02 16:56:42|           1| 60.0|        0|\n",
      "|dd46295089c77ce6e...|71affa9afa826434e...|2017-03-28 17:41:28|2017-03-28 17:41:28|           1|180.0|        0|\n",
      "|148058a31cfe793e8...|f287fe40c60961ff9...|2017-03-16 20:31:49|2017-03-16 20:31:49|           1|175.0|        0|\n",
      "|640e434ec3d0792f3...|2b98d5c9b1969095e...|2017-01-26 15:01:45|2017-01-26 15:01:45|           1|177.0|        0|\n",
      "|f388da80d7f9a2973...|85f8ffb0071e850ec...|2017-03-16 20:04:07|2017-03-16 20:04:07|           1|290.0|        0|\n",
      "|a43420da9f54b35f3...|d6c897633f14d2c71...|2017-03-30 22:15:10|2017-03-30 22:15:10|           1| 43.0|        0|\n",
      "|a3ee40021295b82c1...|33df60e3cdba3ece1...|2017-05-17 12:44:03|2017-05-17 12:44:03|           1|150.0|        0|\n",
      "|4e5fd9f9e9b1d0f13...|37420f333a6877b6e...|2017-02-03 22:32:04|2017-02-03 22:32:04|           1| 20.0|        0|\n",
      "|a54aad5eae4138da9...|7cd12f82d867bf5cd...|2017-03-19 16:16:44|2017-03-19 16:16:44|           1|139.0|        0|\n",
      "|5c6aa01a2dd25458c...|8f815207602f16cdf...|2017-03-31 02:27:06|2017-03-31 02:27:06|           1| 75.0|        0|\n",
      "|9f83cd10077cb0b96...|78b0df67ddee0b340...|2017-03-05 17:16:27|2017-03-05 17:16:27|           1| 21.0|        0|\n",
      "|d2d7f7fc293b9394c...|87bced03e631b9593...|2017-02-07 13:36:45|2017-02-07 13:36:45|           1|119.0|        0|\n",
      "|f5b6eb47984600410...|833fbc971cf15276b...|2017-05-02 10:28:05|2017-05-02 10:28:05|           1|120.0|        0|\n",
      "|86e1617f8872fd465...|2e93a6eb72860427a...|2017-04-01 18:39:34|2017-04-01 18:39:34|           1|108.0|        0|\n",
      "+--------------------+--------------------+-------------------+-------------------+------------+-----+---------+\n",
      "only showing top 20 rows\n",
      "\n"
     ]
    }
   ],
   "source": [
    "customer_retention.show()"
   ]
  },
  {
   "cell_type": "code",
   "execution_count": 132,
   "id": "2234c9e8",
   "metadata": {},
   "outputs": [
    {
     "name": "stdout",
     "output_type": "stream",
     "text": [
      "+-----------+--------+-------------------+------------------+------------+---+---------+\n",
      "|customer_id|order_id|first_purchase_date|last_purchase_date|total_orders|aov|days_diff|\n",
      "+-----------+--------+-------------------+------------------+------------+---+---------+\n",
      "+-----------+--------+-------------------+------------------+------------+---+---------+\n",
      "\n"
     ]
    }
   ],
   "source": [
    "customer_retention.filter(col('days_diff') > 1).show()"
   ]
  },
  {
   "cell_type": "code",
   "execution_count": 118,
   "id": "26bd2b81",
   "metadata": {},
   "outputs": [
    {
     "name": "stdout",
     "output_type": "stream",
     "text": [
      "+--------------------------------+-------------------+-------------------+------------+-----+---------+\n",
      "|customer_id                     |first_purchase_date|last_purchase_date |total_orders|aov  |days_diff|\n",
      "+--------------------------------+-------------------+-------------------+------------+-----+---------+\n",
      "|270c23a11d024a44c896d1894b261a83|2017-08-08 20:26:31|2017-08-08 20:26:31|63          |37.0 |0        |\n",
      "|13aa59158da63ba0e93ec6ac2c07aacb|2017-09-23 14:56:45|2017-09-23 14:56:45|38          |80.0 |0        |\n",
      "|9af2372a1e49340278e7c1ef8d749f34|2017-04-20 12:45:34|2017-04-20 12:45:34|29          |393.0|0        |\n",
      "|92cd3ec6e2d643d4ebd0e3d6238f69e2|2017-06-07 12:05:10|2017-06-07 12:05:10|26          |50.0 |0        |\n",
      "|d22f25a9fadfb1abbc2e29395b1239f4|2018-05-12 12:28:58|2018-05-12 12:28:58|24          |15.0 |0        |\n",
      "|6ee2f17e3b6c33d6a9557f280edd2925|2017-03-09 23:39:26|2017-03-09 23:39:26|24          |190.0|0        |\n",
      "|2ba91e12e5e4c9f56b82b86d9031d329|2017-11-25 13:54:39|2017-11-25 13:54:39|24          |100.0|0        |\n",
      "|63b964e79dee32a3587651701a2b8dbf|2018-02-14 16:34:27|2018-02-14 16:34:27|24          |412.0|0        |\n",
      "|86cc80fef09f7f39df4b0dbce48e81cb|2017-07-07 14:55:43|2017-07-07 14:55:43|24          |121.0|0        |\n",
      "|b246eeed30b362c09d867b9e598bee51|2017-12-08 12:00:04|2017-12-08 12:00:04|22          |29.0 |0        |\n",
      "|be1c4e52bb71e0c54b11a26b8e8d59f2|2017-10-17 13:06:29|2017-10-17 13:06:29|22          |65.0 |0        |\n",
      "|50920f8cd0681fd86ebe93670c8fe52e|2018-01-27 11:28:32|2018-01-27 11:28:32|21          |44.0 |0        |\n",
      "|fc3d1daec319d62d49bfb5e1f83123e9|2017-07-16 18:19:25|2017-07-16 18:19:25|21          |2.0  |0        |\n",
      "|5e0f7317756669ff7b384444dbb81fa3|2018-06-12 00:22:18|2018-06-12 00:22:18|21          |29.0 |0        |\n",
      "|23924b2105c5376cd6204757c8b68752|2017-12-01 18:23:51|2017-12-01 18:23:51|20          |65.0 |0        |\n",
      "|bd5d39761aa56689a265d95d8d32b8be|2017-08-23 09:22:34|2017-08-23 09:22:34|20          |99.0 |0        |\n",
      "|e7d6802668de6e74d0d6c56565bf2a24|2017-10-02 15:49:23|2017-10-02 15:49:23|20          |188.0|0        |\n",
      "|be1b70680b9f9694d8c70f41fa3dc92b|2018-02-22 15:30:41|2018-02-22 15:30:41|20          |100.0|0        |\n",
      "|eed931d3a5222a9a511d18be7fd2a5ba|2017-05-12 16:24:51|2017-05-12 16:24:51|19          |70.0 |0        |\n",
      "|1d4411212e90d6a24fd2d09f74878b48|2018-06-25 22:43:44|2018-06-25 22:43:44|16          |20.0 |0        |\n",
      "+--------------------------------+-------------------+-------------------+------------+-----+---------+\n",
      "only showing top 20 rows\n",
      "\n"
     ]
    }
   ],
   "source": [
    "customer_retention.filter(col('total_orders') > 1).orderBy('total_orders', ascending=False).show(20, truncate=False)"
   ]
  },
  {
   "cell_type": "markdown",
   "id": "466cd337",
   "metadata": {},
   "source": [
    "### Data Enhrichment"
   ]
  },
  {
   "cell_type": "code",
   "execution_count": 152,
   "id": "ececcfd1",
   "metadata": {},
   "outputs": [
    {
     "name": "stdout",
     "output_type": "stream",
     "text": [
      "+--------------------+------------+-----------+-------+\n",
      "|         customer_id|total_orders|total_spent|    AOV|\n",
      "+--------------------+------------+-----------+-------+\n",
      "|1617b1357756262bf...|           8|    13440.0| 1680.0|\n",
      "|9af2372a1e4934027...|          29|    11384.0| 392.55|\n",
      "|de832e8dbb1f588a4...|          15|    10856.0| 723.74|\n",
      "|63b964e79dee32a35...|          24|     9888.0|  412.0|\n",
      "|6f241d5bbb142b6f7...|           7|     9520.0|1360.02|\n",
      "|926b6a6fb8b6081e0...|           2|     7998.0| 3999.0|\n",
      "|f959b7bc834045511...|           6|     7799.0| 1299.9|\n",
      "|eb7a157e8da9c488c...|           2|     7798.0| 3899.0|\n",
      "|ec5b2ba62e5743423...|           4|     7160.0| 1790.0|\n",
      "|3118aefef04e5e97d...|           7|     6909.0|  987.0|\n",
      "|c6e2731c5b391845f...|           1|     6735.0| 6735.0|\n",
      "|f48d464a0baaea338...|           1|     6729.0| 6729.0|\n",
      "|3fd6777bbce08a352...|           1|     6499.0| 6499.0|\n",
      "|46bb3c0b1a65c8399...|           2|     6248.0| 3124.0|\n",
      "|d1ea705f2fdd8f98e...|          14|     6020.0| 429.99|\n",
      "|05455dfa7cd02f13d...|           6|     5935.0|  989.1|\n",
      "|d3e82ccec3cb5f956...|           6|     5814.0|  969.0|\n",
      "|3690e975641f01bd0...|           2|     5298.0| 2649.0|\n",
      "|c47f0ed7fbd21fc9b...|           9|     4932.0| 547.99|\n",
      "|a99b2128d3db96e83...|           8|     4800.0|  600.0|\n",
      "+--------------------+------------+-----------+-------+\n",
      "only showing top 20 rows\n",
      "\n"
     ]
    }
   ],
   "source": [
    "customer_spending.show()"
   ]
  },
  {
   "cell_type": "code",
   "execution_count": 158,
   "id": "192c601e",
   "metadata": {},
   "outputs": [],
   "source": [
    "p25, p75 = np.percentile(customer_spending.select('total_spent').toPandas().values, [30, 90])"
   ]
  },
  {
   "cell_type": "code",
   "execution_count": 168,
   "id": "897ed766",
   "metadata": {},
   "outputs": [],
   "source": [
    "from pyspark.sql.functions import when\n",
    "\n",
    "customer_spending=customer_spending.withColumn('customer_spend_level', \n",
    "                            when(col('total_spent') < 100, 'low')\n",
    "                            .when(col('total_spent') < 1000, 'medium')\n",
    "                            .otherwise('high')\n",
    ")\n"
   ]
  },
  {
   "cell_type": "code",
   "execution_count": 170,
   "id": "55f77cdc",
   "metadata": {},
   "outputs": [
    {
     "name": "stdout",
     "output_type": "stream",
     "text": [
      "+--------------------+--------------------+---------------------+---------------------+--------------------------+--------------+--------------------+------------------------+-------------+-------------------+----------------------------+-----------------------------+-----------------------------+--------------------+-------------+------------------------+------------+--------------------+------------------+------------+-------------+------+---------------------+--------------------------+-----------------+--------------------+-----------------+-------------------+------------------+----------------+----------------+-----------------------+----------------------+--------------------+--------------------+--------------------+------------+--------------------+-------------------+-------------------+--------------------+------------+----------------------+-------------------+--------------------+\n",
      "|         customer_id|       customer_city|customer_geo_lat_mean|customer_geo_mean_lng|customer_geolocation_state|customer_state|  customer_unique_id|customer_zip_code_prefix|freight_value|  order_approved_at|order_delivered_carrier_date|order_delivered_customer_date|order_estimated_delivery_date|            order_id|order_item_id|order_purchase_timestamp|order_status|payment_installments|payment_sequential|payment_type|payment_value| price|product_category_name|product_description_lenght|product_height_cm|          product_id|product_length_cm|product_name_lenght|product_photos_qty|product_weight_g|product_width_cm|review_answer_timestamp|review_comment_message|review_comment_title|review_creation_date|           review_id|review_score|         seller_city|seller_geo_lat_mean|seller_geo_mean_lng|           seller_id|seller_state|seller_zip_code_prefix|shipping_limit_date|customer_spend_level|\n",
      "+--------------------+--------------------+---------------------+---------------------+--------------------------+--------------+--------------------+------------------------+-------------+-------------------+----------------------------+-----------------------------+-----------------------------+--------------------+-------------+------------------------+------------+--------------------+------------------+------------+-------------+------+---------------------+--------------------------+-----------------+--------------------+-----------------+-------------------+------------------+----------------+----------------+-----------------------+----------------------+--------------------+--------------------+--------------------+------------+--------------------+-------------------+-------------------+--------------------+------------+----------------------+-------------------+--------------------+\n",
      "|2de342d6e5905a5a8...|            mesquita|   -22.78170709631037|   -43.42552236371597|                        RJ|            RJ|e8d87ee946600f775...|                   26551|         3.81|2017-07-26 17:50:17|         2017-07-27 19:39:52|          2017-07-31 15:53:33|          2017-08-17 00:00:00|014405982914c2cde...|            1|     2017-07-26 17:38:47|   delivered|                   7|                 1| credit_card|        78.43|  27.9|           perfumaria|                       487|               14|6782d593f63105318...|               16|                 30|                 1|             200|              12|    2017-08-04 19:34:54|                  NULL|                NULL| 2017-08-01 00:00:00|ba5e6d78da2b2c3f5...|         5.0|     taboao da serra| -23.61117566577071| -46.78672761113588|325f3178fb58e2a97...|          SP|                  6790|2017-08-01 17:50:17|                 low|\n",
      "|2de342d6e5905a5a8...|            mesquita|   -22.78170709631037|   -43.42552236371597|                        RJ|            RJ|e8d87ee946600f775...|                   26551|        25.39|2017-07-26 17:50:17|         2017-07-27 19:39:52|          2017-07-31 15:53:33|          2017-08-17 00:00:00|014405982914c2cde...|            2|     2017-07-26 17:38:47|   delivered|                   7|                 1| credit_card|        78.43| 21.33|        esporte_lazer|                      1153|               11|e95ee6822b66ac605...|               17|                 52|                 1|             180|              14|    2017-08-04 19:34:54|                  NULL|                NULL| 2017-08-01 00:00:00|ba5e6d78da2b2c3f5...|         5.0|            sorocaba|-23.497316500688576| -47.50160216407419|a17f621c590ea0fab...|          SP|                 18055|2017-08-01 17:50:17|                 low|\n",
      "|8cf88d7ba142365ef...|        campo grande|   -20.49786194971983|  -54.656116953216205|                        MS|            MS|d29ede26cd3e2817b...|                   79092|         28.5|2018-02-10 13:08:12|         2018-02-14 15:28:51|          2018-02-23 02:03:03|          2018-03-14 00:00:00|019886de8f385a39b...|            1|     2018-02-10 12:52:51|   delivered|                   2|                 1| credit_card|        188.4| 159.9| utilidades_domest...|                      1912|               12|e9a69340883a438c3...|               33|                 60|                 5|            3000|              34|    2018-02-27 15:10:57|  Produto foi entre...|                NULL| 2018-02-24 00:00:00|3a6ebeb7f45583720...|         5.0|         sao ludgero|-28.329381712771756|-49.176644834659655|1b4c3a6f53068f0b6...|          SC|                 88730|2018-02-15 13:08:12|              medium|\n",
      "|71accffbcbdf8e02f...|        santo angelo|   -28.30487550473039|   -54.26489553802902|                        RS|            RS|31c23262d79bc7e80...|                   98801|         15.1|2018-01-18 10:17:29|         2018-01-22 22:37:04|          2018-02-01 21:02:22|          2018-02-20 00:00:00|01a6ad782455876aa...|            1|     2018-01-18 10:07:52|   delivered|                   5|                 1| credit_card|        50.09| 34.99|            telefonia|                       751|                4|036734b5a58d5d4f4...|               17|                 58|                 5|             300|              12|    2018-02-05 09:59:55|                  NULL|                NULL| 2018-02-02 00:00:00|34fdf58aa22a5d9c4...|         3.0|           sao paulo|-23.625475455621878| -46.61200044104113|ea8482cd71df3c196...|          SP|                  4160|2018-01-24 10:17:29|                 low|\n",
      "|d02cc92f5e33eb58d...|ferraz de vasconc...|  -23.548538484563693|  -46.360508990244966|                        SP|            SP|a7b781410bcc8bbf3...|                    8503|        17.77|2017-08-10 10:25:08|         2017-08-11 19:05:53|          2017-08-16 22:34:11|          2017-08-29 00:00:00|01d907b3e209269e1...|            1|     2017-08-09 16:21:06|   delivered|                  10|                 1| credit_card|       169.76|151.99|      cama_mesa_banho|                       184|               25|b1434a8f79cb35285...|               55|                 57|                 1|           13500|              35|    2017-08-20 20:01:58|                  NULL|                NULL| 2017-08-17 00:00:00|d551da337adf573d0...|         5.0|            ibitinga|-21.757320637712766| -48.82974353343713|d1c281d3ae1492323...|          SP|                 14940|2017-08-16 10:25:08|              medium|\n",
      "|8c89a09d8fb33b6e5...|                 poa|  -23.521944210545936|   -46.34087492614052|                        SP|            SP|148a35e3469010c97...|                    8550|        11.73|2017-12-19 10:53:22|         2017-12-20 16:49:18|          2017-12-21 14:22:56|          2018-01-08 00:00:00|028dc52e12ddda803...|            1|     2017-12-19 09:43:54|   delivered|                   1|                 1|  debit_card|        61.72| 49.99|           brinquedos|                      1150|               33|d86a6c48f83b045cb...|               45|                 58|                 2|            3900|              26|    2017-12-23 13:02:52|  Já comprei divers...|                NULL| 2017-12-22 00:00:00|a096e8952867d5803...|         5.0|           sao paulo| -23.62569896288815|  -46.7434681207222|c8b3445d737de6bef...|          SP|                  5734|2017-12-26 10:53:22|                 low|\n",
      "|00f5116a953fdf1b8...|           queimados|  -22.720466020617067|   -43.55679725976078|                        RJ|            RJ|9f268d26a5ab98397...|                   26325|        14.14|2017-09-04 22:43:55|         2017-09-05 20:49:41|          2017-09-13 20:36:57|          2017-09-27 00:00:00|036dd381dfb3ec75e...|            1|     2017-09-04 22:25:24|   delivered|                   3|                 1| credit_card|        69.14|  55.0|   relogios_presentes|                       335|                2|aa8d88eb4b9cb3889...|               16|                 54|                 4|             250|              11|    2017-11-04 11:30:12|                  NULL|                NULL| 2017-09-14 00:00:00|32103f7ad6e08ff69...|         5.0|           sao paulo|-23.652366177840182| -46.75575337195744|6560211a19b47992c...|          SP|                  5849|2017-09-11 22:43:55|                 low|\n",
      "|4024b83c510f00432...|         santo andre|  -23.640143776337073|  -46.516159475210166|                        SP|            SP|60389b9628af3e1ed...|                    9280|         8.88|2018-03-23 18:48:53|         2018-03-26 21:17:58|          2018-03-27 15:04:27|          2018-04-05 00:00:00|03ebfa9712b7dbc70...|            1|     2018-03-23 11:20:04|   delivered|                   1|                 1|      boleto|        55.78|  46.9|      eletroportateis|                        90|               35|aa6746e94490239d3...|               16|                 37|                 1|             500|              25|    2018-03-28 19:31:15|                  NULL|                NULL| 2018-03-28 00:00:00|6453879a422cb8285...|         5.0|           sao paulo|-23.676569848880813|-46.669896904323295|9674754b5a0cb32b6...|          SP|                  4438|2018-03-29 18:48:53|                 low|\n",
      "|0949b5cf9adad08c1...|          sao carlos|  -21.986829403421495|   -47.92561804201329|                        SP|            SP|ab2731479851fc801...|                   13563|        14.73|2018-08-09 17:35:18|         2018-08-13 12:48:00|          2018-08-16 19:45:47|          2018-08-21 00:00:00|0420da8d50a378401...|            1|     2018-08-09 16:42:43|   delivered|                   1|                 1| credit_card|        74.63|  59.9|           brinquedos|                       892|               13|5ca739ddd646d1ba5...|               52|                 49|                 2|            1200|              37|    2018-08-20 01:49:39|  O produto e igual...|               Otimo| 2018-08-17 00:00:00|ae0ded69ab7874b11...|         5.0|               tatui| -23.04955173261455| -47.83762131131263|406822777a0b9eb5c...|          SP|                 18500|2018-08-13 17:35:18|                 low|\n",
      "|296de103322e463a1...|          parnamirim|   -5.883632920510784|   -35.20384948972188|                        RN|            RN|7857dff0702239bcf...|                   59151|        22.67|2017-07-25 11:03:10|         2017-07-31 15:49:35|          2017-08-21 21:10:53|          2017-09-04 00:00:00|05afef1c185862cab...|            1|     2017-07-25 10:47:16|   delivered|                   6|                 1| credit_card|       101.32| 27.99| utilidades_domest...|                       241|               30|ac7e981115ad47f0e...|               30|                 42|                 2|             500|              30|    2017-09-01 19:10:24|                  NULL|                NULL| 2017-08-22 00:00:00|671a65bed4c9881a0...|         4.0|            pedreira|-22.740325486164828| -46.89675369133934|53e4c6e0f4312d4d2...|          SP|                 13920|2017-07-31 11:03:10|                 low|\n",
      "|296de103322e463a1...|          parnamirim|   -5.883632920510784|   -35.20384948972188|                        RN|            RN|7857dff0702239bcf...|                   59151|        22.67|2017-07-25 11:03:10|         2017-07-31 15:49:35|          2017-08-21 21:10:53|          2017-09-04 00:00:00|05afef1c185862cab...|            2|     2017-07-25 10:47:16|   delivered|                   6|                 1| credit_card|       101.32| 27.99| utilidades_domest...|                       241|               30|ac7e981115ad47f0e...|               30|                 42|                 2|             500|              30|    2017-09-01 19:10:24|                  NULL|                NULL| 2017-08-22 00:00:00|671a65bed4c9881a0...|         4.0|            pedreira|-22.740325486164828| -46.89675369133934|53e4c6e0f4312d4d2...|          SP|                 13920|2017-07-31 11:03:10|                 low|\n",
      "|4ff3f3945300d8e04...|            sao luis|   -2.500952454100387|  -44.227083760380246|                        MA|            MA|a63af578b9678bf77...|                   65065|        24.52|2018-06-01 10:52:26|         2018-06-01 13:54:00|          2018-06-26 19:03:40|          2018-07-05 00:00:00|05bef443b85068505...|            1|     2018-05-30 16:33:11|   delivered|                   7|                 1| credit_card|        79.52|  55.0| instrumentos_musi...|                       234|               20|44e086c4a977f37a8...|               20|                 60|                 1|             600|              20|    2018-06-29 22:41:03|                  NULL|                NULL| 2018-06-27 00:00:00|77136b940e2015eb1...|         5.0|sao bernardo do c...| -23.71560389581899| -46.55408471265638|f5a590cf36251cf11...|          SP|                  9720|2018-06-11 10:52:26|                 low|\n",
      "|c5a9ffc867b51a706...|           sao paulo|  -23.592510950643604|   -46.62549344482004|                        SP|            SP|a75583a63d1dc5591...|                    4116|        11.37|2018-08-27 19:35:20|         2018-08-28 19:02:00|          2018-08-29 17:28:25|          2018-09-11 00:00:00|05d46826bd0fb605d...|            1|     2018-08-27 19:21:58|   delivered|                   2|                 1| credit_card|        61.36| 49.99|            alimentos|                       926|               15|e84d1a4a08db13e8d...|               24|                 34|                 2|             700|              24|    2018-08-31 00:46:55|  Chegou super rápi...| Chegou super rapido| 2018-08-30 00:00:00|4ebd94e5936c7f442...|         4.0|           rio claro| -22.39176554058553| -47.54851112572863|7f40d06aa0b5f1aa4...|          SP|                 13506|2018-08-29 19:35:20|                 low|\n",
      "|b6fe463c461a6e4fe...|              maceio|   -9.635531947101395|   -35.73975049585032|                        AL|            AL|ad8dc8878b71d1a54...|                   57055|        57.33|2018-06-14 15:20:49|         2018-06-15 17:25:00|          2018-07-11 00:38:26|          2018-07-19 00:00:00|06fec3f6e9e72edb6...|            1|     2018-06-14 14:55:23|   delivered|                   4|                 1| credit_card|       137.23|  79.9|      cama_mesa_banho|                      1208|                8|8562e2c780a345b60...|               45|                 51|                 1|            1100|              35|    2018-07-12 16:46:43|                  NULL|                NULL| 2018-07-12 00:00:00|4dabd36c045ad78b9...|         2.0|            ibitinga|-21.757320637712766| -48.82974353343713|8160255418d5aaa7d...|          SP|                 14940|2018-06-19 15:20:49|                 low|\n",
      "|aa7885fdaef957a25...|      belo horizonte|  -19.940411132888965|   -44.01845243035027|                        MG|            MG|64c28dc9ff718fe40...|                   30520|        15.15|2017-11-20 12:07:32|         2017-11-22 17:33:05|          2017-11-29 13:51:39|          2017-12-11 00:00:00|077700dcf4e3bb412...|            1|     2017-11-20 11:46:39|   delivered|                   4|                 1| credit_card|       215.05| 199.9|   relogios_presentes|                       436|                7|6cd0d08f09a8b3245...|               16|                 46|                 1|             416|              12|    2017-12-02 22:36:46|                  NULL|                NULL| 2017-11-30 00:00:00|7ca10e3bb1fcea458...|         5.0|              sumare|-22.822136510808793| -47.27033542521254|fa1c13f2614d7b5c4...|          SP|                 13170|2017-11-24 12:07:32|              medium|\n",
      "|0a3459f8f647c5483...|      belo horizonte|   -19.89826888358225|   -43.92056950329572|                        MG|            MG|1f706bf3d8588cd35...|                   31035|        18.69|2018-03-25 11:47:34|         2018-03-26 20:31:39|          2018-03-28 15:48:52|          2018-04-13 00:00:00|078c2d9bb7e5905e8...|            1|     2018-03-25 11:28:16|   delivered|                   1|                 1| credit_card|       135.28|  68.0|      cama_mesa_banho|                      1005|                6|d59349a33fcba1870...|               30|                 50|                 1|             850|              26|    2018-04-02 17:47:34|  Nao recebi a capa...|                NULL| 2018-03-29 00:00:00|0fe1925ee5bc8adcd...|         3.0|     mogi das cruzes| -23.50893894612542| -46.15005921825602|7d456afc660226829...|          SP|                  8820|2018-03-29 11:47:34|                 low|\n",
      "|0a3459f8f647c5483...|      belo horizonte|   -19.89826888358225|   -43.92056950329572|                        MG|            MG|1f706bf3d8588cd35...|                   31035|        18.69|2018-03-25 11:47:34|         2018-03-26 20:31:39|          2018-03-28 15:48:52|          2018-04-13 00:00:00|078c2d9bb7e5905e8...|            2|     2018-03-25 11:28:16|   delivered|                   1|                 1| credit_card|       135.28|  29.9|      cama_mesa_banho|                       115|               12|ce5a5a85a0704113b...|               19|                 30|                 1|             733|              18|    2018-04-02 17:47:34|  Nao recebi a capa...|                NULL| 2018-03-29 00:00:00|0fe1925ee5bc8adcd...|         3.0|          votorantim|  -23.5433196237979| -47.45738003311677|cfb1a033743668a19...|          SP|                 18110|2018-03-29 11:47:34|                 low|\n",
      "|98910418a06188d89...|           ararangua|   -28.94404446884375|   -49.49918340607663|                        SC|            SC|96297b7f2c89525e5...|                   88901|        33.87|2018-04-18 15:45:18|         2018-04-20 00:03:37|          2018-04-25 14:13:54|          2018-05-17 00:00:00|08791ec24b12af5af...|            1|     2018-04-17 08:38:41|   delivered|                   9|                 1| credit_card|       445.87| 412.0| agro_industria_e_...|                       388|               30|11250b0d4b709fee9...|               30|                 28|                 2|            3000|              20|    2018-04-29 01:01:06|  Chegou dentro do ...|                   5| 2018-04-26 00:00:00|63602d1a0f1a329ae...|         5.0|            curitiba|-25.437249840911985| -49.21243592752115|e59aa562b9f8076dd...|          PR|                 82810|2018-04-24 15:31:47|              medium|\n",
      "|48484f48de7aa7c06...|             palhoca|   -27.63653957371275|   -48.65548931824332|                        SC|            SC|25e840a7c51ad06c6...|                   88130|        21.51|2017-11-01 02:06:10|         2017-11-01 19:22:11|          2017-11-07 16:32:13|          2017-11-23 00:00:00|08b450b388221bfe5...|            1|     2017-11-01 01:48:36|   delivered|                   2|                 1| credit_card|       167.41| 145.9|        esporte_lazer|                      3494|               28|9a803c36a15de3fd9...|               29|                 45|                 1|            2693|              26|    2017-12-26 20:11:21|  o produto anuncia...|                NULL| 2017-11-08 00:00:00|bbab8347323754372...|         1.0|            cascavel| -24.94935913379545| -53.44792000110513|df56d7b40d437f884...|          PR|                 85812|2017-11-08 02:06:10|              medium|\n",
      "|0f0603d577f299ca1...|               natal|   -5.866604369212289|    -35.2102728777382|                        RN|            RN|903fccb1294b588a6...|                   59086|         28.0|2017-01-29 22:33:34|         2017-01-30 08:27:47|          2017-02-08 17:14:55|          2017-03-20 00:00:00|0957ed870116e596b...|            1|     2017-01-29 22:14:49|   delivered|                   4|                 1| credit_card|       157.99|129.99|           brinquedos|                      1629|               15|5b8423dc7f23089c9...|               51|                 59|                 3|            5250|              52|    2017-02-10 08:18:57|                  NULL|                NULL| 2017-02-10 00:00:00|25220e954a5481d5b...|         5.0|           joinville| -26.28730662064822|  -48.8518015892504|a3a38f4affed601eb...|          SC|                 89204|2017-02-02 22:14:49|              medium|\n",
      "+--------------------+--------------------+---------------------+---------------------+--------------------------+--------------+--------------------+------------------------+-------------+-------------------+----------------------------+-----------------------------+-----------------------------+--------------------+-------------+------------------------+------------+--------------------+------------------+------------+-------------+------+---------------------+--------------------------+-----------------+--------------------+-----------------+-------------------+------------------+----------------+----------------+-----------------------+----------------------+--------------------+--------------------+--------------------+------------+--------------------+-------------------+-------------------+--------------------+------------+----------------------+-------------------+--------------------+\n",
      "only showing top 20 rows\n",
      "\n"
     ]
    }
   ],
   "source": [
    "# customer segmentation by spending level\n",
    "full_orders = full_orders.join(customer_spending.select('customer_id', 'customer_spend_level'), 'customer_id', 'inner')\n",
    "full_orders.show()"
   ]
  },
  {
   "cell_type": "code",
   "execution_count": 188,
   "id": "fa27e31d",
   "metadata": {},
   "outputs": [
    {
     "data": {
      "image/png": "[encoded data removed]",
      "text/plain": [
       "<Figure size 640x480 with 1 Axes>"
      ]
     },
     "metadata": {},
     "output_type": "display_data"
    }
   ],
   "source": [
    "full_orders.select('customer_spend_level').toPandas().value_counts().plot.bar();"
   ]
  },
  {
   "cell_type": "code",
   "execution_count": 191,
   "id": "4f9e9adb",
   "metadata": {},
   "outputs": [
    {
     "name": "stdout",
     "output_type": "stream",
     "text": [
      "+--------------------+--------------------+---------------------+---------------------+--------------------------+--------------+--------------------+------------------------+-------------+-------------------+----------------------------+-----------------------------+-----------------------------+--------------------+-------------+------------------------+------------+--------------------+------------------+------------+-------------+------+---------------------+--------------------------+-----------------+--------------------+-----------------+-------------------+------------------+----------------+----------------+-----------------------+----------------------+--------------------+--------------------+--------------------+------------+--------------------+-------------------+-------------------+--------------------+------------+----------------------+-------------------+--------------------+-------+\n",
      "|         customer_id|       customer_city|customer_geo_lat_mean|customer_geo_mean_lng|customer_geolocation_state|customer_state|  customer_unique_id|customer_zip_code_prefix|freight_value|  order_approved_at|order_delivered_carrier_date|order_delivered_customer_date|order_estimated_delivery_date|            order_id|order_item_id|order_purchase_timestamp|order_status|payment_installments|payment_sequential|payment_type|payment_value| price|product_category_name|product_description_lenght|product_height_cm|          product_id|product_length_cm|product_name_lenght|product_photos_qty|product_weight_g|product_width_cm|review_answer_timestamp|review_comment_message|review_comment_title|review_creation_date|           review_id|review_score|         seller_city|seller_geo_lat_mean|seller_geo_mean_lng|           seller_id|seller_state|seller_zip_code_prefix|shipping_limit_date|customer_spend_level|weekday|\n",
      "+--------------------+--------------------+---------------------+---------------------+--------------------------+--------------+--------------------+------------------------+-------------+-------------------+----------------------------+-----------------------------+-----------------------------+--------------------+-------------+------------------------+------------+--------------------+------------------+------------+-------------+------+---------------------+--------------------------+-----------------+--------------------+-----------------+-------------------+------------------+----------------+----------------+-----------------------+----------------------+--------------------+--------------------+--------------------+------------+--------------------+-------------------+-------------------+--------------------+------------+----------------------+-------------------+--------------------+-------+\n",
      "|2de342d6e5905a5a8...|            mesquita|   -22.78170709631037|   -43.42552236371597|                        RJ|            RJ|e8d87ee946600f775...|                   26551|         3.81|2017-07-26 17:50:17|         2017-07-27 19:39:52|          2017-07-31 15:53:33|          2017-08-17 00:00:00|014405982914c2cde...|            1|     2017-07-26 17:38:47|   delivered|                   7|                 1| credit_card|        78.43|  27.9|           perfumaria|                       487|               14|6782d593f63105318...|               16|                 30|                 1|             200|              12|    2017-08-04 19:34:54|                  NULL|                NULL| 2017-08-01 00:00:00|ba5e6d78da2b2c3f5...|         5.0|     taboao da serra| -23.61117566577071| -46.78672761113588|325f3178fb58e2a97...|          SP|                  6790|2017-08-01 17:50:17|                 low|weekday|\n",
      "|2de342d6e5905a5a8...|            mesquita|   -22.78170709631037|   -43.42552236371597|                        RJ|            RJ|e8d87ee946600f775...|                   26551|        25.39|2017-07-26 17:50:17|         2017-07-27 19:39:52|          2017-07-31 15:53:33|          2017-08-17 00:00:00|014405982914c2cde...|            2|     2017-07-26 17:38:47|   delivered|                   7|                 1| credit_card|        78.43| 21.33|        esporte_lazer|                      1153|               11|e95ee6822b66ac605...|               17|                 52|                 1|             180|              14|    2017-08-04 19:34:54|                  NULL|                NULL| 2017-08-01 00:00:00|ba5e6d78da2b2c3f5...|         5.0|            sorocaba|-23.497316500688576| -47.50160216407419|a17f621c590ea0fab...|          SP|                 18055|2017-08-01 17:50:17|                 low|weekday|\n",
      "|8cf88d7ba142365ef...|        campo grande|   -20.49786194971983|  -54.656116953216205|                        MS|            MS|d29ede26cd3e2817b...|                   79092|         28.5|2018-02-10 13:08:12|         2018-02-14 15:28:51|          2018-02-23 02:03:03|          2018-03-14 00:00:00|019886de8f385a39b...|            1|     2018-02-10 12:52:51|   delivered|                   2|                 1| credit_card|        188.4| 159.9| utilidades_domest...|                      1912|               12|e9a69340883a438c3...|               33|                 60|                 5|            3000|              34|    2018-02-27 15:10:57|  Produto foi entre...|                NULL| 2018-02-24 00:00:00|3a6ebeb7f45583720...|         5.0|         sao ludgero|-28.329381712771756|-49.176644834659655|1b4c3a6f53068f0b6...|          SC|                 88730|2018-02-15 13:08:12|              medium|weekend|\n",
      "|71accffbcbdf8e02f...|        santo angelo|   -28.30487550473039|   -54.26489553802902|                        RS|            RS|31c23262d79bc7e80...|                   98801|         15.1|2018-01-18 10:17:29|         2018-01-22 22:37:04|          2018-02-01 21:02:22|          2018-02-20 00:00:00|01a6ad782455876aa...|            1|     2018-01-18 10:07:52|   delivered|                   5|                 1| credit_card|        50.09| 34.99|            telefonia|                       751|                4|036734b5a58d5d4f4...|               17|                 58|                 5|             300|              12|    2018-02-05 09:59:55|                  NULL|                NULL| 2018-02-02 00:00:00|34fdf58aa22a5d9c4...|         3.0|           sao paulo|-23.625475455621878| -46.61200044104113|ea8482cd71df3c196...|          SP|                  4160|2018-01-24 10:17:29|                 low|weekday|\n",
      "|d02cc92f5e33eb58d...|ferraz de vasconc...|  -23.548538484563693|  -46.360508990244966|                        SP|            SP|a7b781410bcc8bbf3...|                    8503|        17.77|2017-08-10 10:25:08|         2017-08-11 19:05:53|          2017-08-16 22:34:11|          2017-08-29 00:00:00|01d907b3e209269e1...|            1|     2017-08-09 16:21:06|   delivered|                  10|                 1| credit_card|       169.76|151.99|      cama_mesa_banho|                       184|               25|b1434a8f79cb35285...|               55|                 57|                 1|           13500|              35|    2017-08-20 20:01:58|                  NULL|                NULL| 2017-08-17 00:00:00|d551da337adf573d0...|         5.0|            ibitinga|-21.757320637712766| -48.82974353343713|d1c281d3ae1492323...|          SP|                 14940|2017-08-16 10:25:08|              medium|weekday|\n",
      "|8c89a09d8fb33b6e5...|                 poa|  -23.521944210545936|   -46.34087492614052|                        SP|            SP|148a35e3469010c97...|                    8550|        11.73|2017-12-19 10:53:22|         2017-12-20 16:49:18|          2017-12-21 14:22:56|          2018-01-08 00:00:00|028dc52e12ddda803...|            1|     2017-12-19 09:43:54|   delivered|                   1|                 1|  debit_card|        61.72| 49.99|           brinquedos|                      1150|               33|d86a6c48f83b045cb...|               45|                 58|                 2|            3900|              26|    2017-12-23 13:02:52|  Já comprei divers...|                NULL| 2017-12-22 00:00:00|a096e8952867d5803...|         5.0|           sao paulo| -23.62569896288815|  -46.7434681207222|c8b3445d737de6bef...|          SP|                  5734|2017-12-26 10:53:22|                 low|weekday|\n",
      "|00f5116a953fdf1b8...|           queimados|  -22.720466020617067|   -43.55679725976078|                        RJ|            RJ|9f268d26a5ab98397...|                   26325|        14.14|2017-09-04 22:43:55|         2017-09-05 20:49:41|          2017-09-13 20:36:57|          2017-09-27 00:00:00|036dd381dfb3ec75e...|            1|     2017-09-04 22:25:24|   delivered|                   3|                 1| credit_card|        69.14|  55.0|   relogios_presentes|                       335|                2|aa8d88eb4b9cb3889...|               16|                 54|                 4|             250|              11|    2017-11-04 11:30:12|                  NULL|                NULL| 2017-09-14 00:00:00|32103f7ad6e08ff69...|         5.0|           sao paulo|-23.652366177840182| -46.75575337195744|6560211a19b47992c...|          SP|                  5849|2017-09-11 22:43:55|                 low|weekday|\n",
      "|4024b83c510f00432...|         santo andre|  -23.640143776337073|  -46.516159475210166|                        SP|            SP|60389b9628af3e1ed...|                    9280|         8.88|2018-03-23 18:48:53|         2018-03-26 21:17:58|          2018-03-27 15:04:27|          2018-04-05 00:00:00|03ebfa9712b7dbc70...|            1|     2018-03-23 11:20:04|   delivered|                   1|                 1|      boleto|        55.78|  46.9|      eletroportateis|                        90|               35|aa6746e94490239d3...|               16|                 37|                 1|             500|              25|    2018-03-28 19:31:15|                  NULL|                NULL| 2018-03-28 00:00:00|6453879a422cb8285...|         5.0|           sao paulo|-23.676569848880813|-46.669896904323295|9674754b5a0cb32b6...|          SP|                  4438|2018-03-29 18:48:53|                 low|weekday|\n",
      "|0949b5cf9adad08c1...|          sao carlos|  -21.986829403421495|   -47.92561804201329|                        SP|            SP|ab2731479851fc801...|                   13563|        14.73|2018-08-09 17:35:18|         2018-08-13 12:48:00|          2018-08-16 19:45:47|          2018-08-21 00:00:00|0420da8d50a378401...|            1|     2018-08-09 16:42:43|   delivered|                   1|                 1| credit_card|        74.63|  59.9|           brinquedos|                       892|               13|5ca739ddd646d1ba5...|               52|                 49|                 2|            1200|              37|    2018-08-20 01:49:39|  O produto e igual...|               Otimo| 2018-08-17 00:00:00|ae0ded69ab7874b11...|         5.0|               tatui| -23.04955173261455| -47.83762131131263|406822777a0b9eb5c...|          SP|                 18500|2018-08-13 17:35:18|                 low|weekday|\n",
      "|296de103322e463a1...|          parnamirim|   -5.883632920510784|   -35.20384948972188|                        RN|            RN|7857dff0702239bcf...|                   59151|        22.67|2017-07-25 11:03:10|         2017-07-31 15:49:35|          2017-08-21 21:10:53|          2017-09-04 00:00:00|05afef1c185862cab...|            1|     2017-07-25 10:47:16|   delivered|                   6|                 1| credit_card|       101.32| 27.99| utilidades_domest...|                       241|               30|ac7e981115ad47f0e...|               30|                 42|                 2|             500|              30|    2017-09-01 19:10:24|                  NULL|                NULL| 2017-08-22 00:00:00|671a65bed4c9881a0...|         4.0|            pedreira|-22.740325486164828| -46.89675369133934|53e4c6e0f4312d4d2...|          SP|                 13920|2017-07-31 11:03:10|                 low|weekday|\n",
      "|296de103322e463a1...|          parnamirim|   -5.883632920510784|   -35.20384948972188|                        RN|            RN|7857dff0702239bcf...|                   59151|        22.67|2017-07-25 11:03:10|         2017-07-31 15:49:35|          2017-08-21 21:10:53|          2017-09-04 00:00:00|05afef1c185862cab...|            2|     2017-07-25 10:47:16|   delivered|                   6|                 1| credit_card|       101.32| 27.99| utilidades_domest...|                       241|               30|ac7e981115ad47f0e...|               30|                 42|                 2|             500|              30|    2017-09-01 19:10:24|                  NULL|                NULL| 2017-08-22 00:00:00|671a65bed4c9881a0...|         4.0|            pedreira|-22.740325486164828| -46.89675369133934|53e4c6e0f4312d4d2...|          SP|                 13920|2017-07-31 11:03:10|                 low|weekday|\n",
      "|4ff3f3945300d8e04...|            sao luis|   -2.500952454100387|  -44.227083760380246|                        MA|            MA|a63af578b9678bf77...|                   65065|        24.52|2018-06-01 10:52:26|         2018-06-01 13:54:00|          2018-06-26 19:03:40|          2018-07-05 00:00:00|05bef443b85068505...|            1|     2018-05-30 16:33:11|   delivered|                   7|                 1| credit_card|        79.52|  55.0| instrumentos_musi...|                       234|               20|44e086c4a977f37a8...|               20|                 60|                 1|             600|              20|    2018-06-29 22:41:03|                  NULL|                NULL| 2018-06-27 00:00:00|77136b940e2015eb1...|         5.0|sao bernardo do c...| -23.71560389581899| -46.55408471265638|f5a590cf36251cf11...|          SP|                  9720|2018-06-11 10:52:26|                 low|weekday|\n",
      "|c5a9ffc867b51a706...|           sao paulo|  -23.592510950643604|   -46.62549344482004|                        SP|            SP|a75583a63d1dc5591...|                    4116|        11.37|2018-08-27 19:35:20|         2018-08-28 19:02:00|          2018-08-29 17:28:25|          2018-09-11 00:00:00|05d46826bd0fb605d...|            1|     2018-08-27 19:21:58|   delivered|                   2|                 1| credit_card|        61.36| 49.99|            alimentos|                       926|               15|e84d1a4a08db13e8d...|               24|                 34|                 2|             700|              24|    2018-08-31 00:46:55|  Chegou super rápi...| Chegou super rapido| 2018-08-30 00:00:00|4ebd94e5936c7f442...|         4.0|           rio claro| -22.39176554058553| -47.54851112572863|7f40d06aa0b5f1aa4...|          SP|                 13506|2018-08-29 19:35:20|                 low|weekday|\n",
      "|b6fe463c461a6e4fe...|              maceio|   -9.635531947101395|   -35.73975049585032|                        AL|            AL|ad8dc8878b71d1a54...|                   57055|        57.33|2018-06-14 15:20:49|         2018-06-15 17:25:00|          2018-07-11 00:38:26|          2018-07-19 00:00:00|06fec3f6e9e72edb6...|            1|     2018-06-14 14:55:23|   delivered|                   4|                 1| credit_card|       137.23|  79.9|      cama_mesa_banho|                      1208|                8|8562e2c780a345b60...|               45|                 51|                 1|            1100|              35|    2018-07-12 16:46:43|                  NULL|                NULL| 2018-07-12 00:00:00|4dabd36c045ad78b9...|         2.0|            ibitinga|-21.757320637712766| -48.82974353343713|8160255418d5aaa7d...|          SP|                 14940|2018-06-19 15:20:49|                 low|weekday|\n",
      "|aa7885fdaef957a25...|      belo horizonte|  -19.940411132888965|   -44.01845243035027|                        MG|            MG|64c28dc9ff718fe40...|                   30520|        15.15|2017-11-20 12:07:32|         2017-11-22 17:33:05|          2017-11-29 13:51:39|          2017-12-11 00:00:00|077700dcf4e3bb412...|            1|     2017-11-20 11:46:39|   delivered|                   4|                 1| credit_card|       215.05| 199.9|   relogios_presentes|                       436|                7|6cd0d08f09a8b3245...|               16|                 46|                 1|             416|              12|    2017-12-02 22:36:46|                  NULL|                NULL| 2017-11-30 00:00:00|7ca10e3bb1fcea458...|         5.0|              sumare|-22.822136510808793| -47.27033542521254|fa1c13f2614d7b5c4...|          SP|                 13170|2017-11-24 12:07:32|              medium|weekday|\n",
      "|0a3459f8f647c5483...|      belo horizonte|   -19.89826888358225|   -43.92056950329572|                        MG|            MG|1f706bf3d8588cd35...|                   31035|        18.69|2018-03-25 11:47:34|         2018-03-26 20:31:39|          2018-03-28 15:48:52|          2018-04-13 00:00:00|078c2d9bb7e5905e8...|            1|     2018-03-25 11:28:16|   delivered|                   1|                 1| credit_card|       135.28|  68.0|      cama_mesa_banho|                      1005|                6|d59349a33fcba1870...|               30|                 50|                 1|             850|              26|    2018-04-02 17:47:34|  Nao recebi a capa...|                NULL| 2018-03-29 00:00:00|0fe1925ee5bc8adcd...|         3.0|     mogi das cruzes| -23.50893894612542| -46.15005921825602|7d456afc660226829...|          SP|                  8820|2018-03-29 11:47:34|                 low|weekend|\n",
      "|0a3459f8f647c5483...|      belo horizonte|   -19.89826888358225|   -43.92056950329572|                        MG|            MG|1f706bf3d8588cd35...|                   31035|        18.69|2018-03-25 11:47:34|         2018-03-26 20:31:39|          2018-03-28 15:48:52|          2018-04-13 00:00:00|078c2d9bb7e5905e8...|            2|     2018-03-25 11:28:16|   delivered|                   1|                 1| credit_card|       135.28|  29.9|      cama_mesa_banho|                       115|               12|ce5a5a85a0704113b...|               19|                 30|                 1|             733|              18|    2018-04-02 17:47:34|  Nao recebi a capa...|                NULL| 2018-03-29 00:00:00|0fe1925ee5bc8adcd...|         3.0|          votorantim|  -23.5433196237979| -47.45738003311677|cfb1a033743668a19...|          SP|                 18110|2018-03-29 11:47:34|                 low|weekend|\n",
      "|98910418a06188d89...|           ararangua|   -28.94404446884375|   -49.49918340607663|                        SC|            SC|96297b7f2c89525e5...|                   88901|        33.87|2018-04-18 15:45:18|         2018-04-20 00:03:37|          2018-04-25 14:13:54|          2018-05-17 00:00:00|08791ec24b12af5af...|            1|     2018-04-17 08:38:41|   delivered|                   9|                 1| credit_card|       445.87| 412.0| agro_industria_e_...|                       388|               30|11250b0d4b709fee9...|               30|                 28|                 2|            3000|              20|    2018-04-29 01:01:06|  Chegou dentro do ...|                   5| 2018-04-26 00:00:00|63602d1a0f1a329ae...|         5.0|            curitiba|-25.437249840911985| -49.21243592752115|e59aa562b9f8076dd...|          PR|                 82810|2018-04-24 15:31:47|              medium|weekday|\n",
      "|48484f48de7aa7c06...|             palhoca|   -27.63653957371275|   -48.65548931824332|                        SC|            SC|25e840a7c51ad06c6...|                   88130|        21.51|2017-11-01 02:06:10|         2017-11-01 19:22:11|          2017-11-07 16:32:13|          2017-11-23 00:00:00|08b450b388221bfe5...|            1|     2017-11-01 01:48:36|   delivered|                   2|                 1| credit_card|       167.41| 145.9|        esporte_lazer|                      3494|               28|9a803c36a15de3fd9...|               29|                 45|                 1|            2693|              26|    2017-12-26 20:11:21|  o produto anuncia...|                NULL| 2017-11-08 00:00:00|bbab8347323754372...|         1.0|            cascavel| -24.94935913379545| -53.44792000110513|df56d7b40d437f884...|          PR|                 85812|2017-11-08 02:06:10|              medium|weekday|\n",
      "|0f0603d577f299ca1...|               natal|   -5.866604369212289|    -35.2102728777382|                        RN|            RN|903fccb1294b588a6...|                   59086|         28.0|2017-01-29 22:33:34|         2017-01-30 08:27:47|          2017-02-08 17:14:55|          2017-03-20 00:00:00|0957ed870116e596b...|            1|     2017-01-29 22:14:49|   delivered|                   4|                 1| credit_card|       157.99|129.99|           brinquedos|                      1629|               15|5b8423dc7f23089c9...|               51|                 59|                 3|            5250|              52|    2017-02-10 08:18:57|                  NULL|                NULL| 2017-02-10 00:00:00|25220e954a5481d5b...|         5.0|           joinville| -26.28730662064822|  -48.8518015892504|a3a38f4affed601eb...|          SC|                 89204|2017-02-02 22:14:49|              medium|weekend|\n",
      "+--------------------+--------------------+---------------------+---------------------+--------------------------+--------------+--------------------+------------------------+-------------+-------------------+----------------------------+-----------------------------+-----------------------------+--------------------+-------------+------------------------+------------+--------------------+------------------+------------+-------------+------+---------------------+--------------------------+-----------------+--------------------+-----------------+-------------------+------------------+----------------+----------------+-----------------------+----------------------+--------------------+--------------------+--------------------+------------+--------------------+-------------------+-------------------+--------------------+------------+----------------------+-------------------+--------------------+-------+\n",
      "only showing top 20 rows\n",
      "\n"
     ]
    }
   ],
   "source": [
    "# day of week\n",
    "from pyspark.sql.functions import expr\n",
    "\n",
    "full_orders = full_orders.withColumn('weekday', when(expr(\"dayofweek(order_purchase_timestamp) in (1,7)\"), 'weekend').otherwise('weekday'))\n",
    "full_orders.show()"
   ]
  },
  {
   "cell_type": "code",
   "execution_count": null,
   "metadata": {},
   "outputs": [],
   "source": []
  },
  {
   "cell_type": "code",
   "execution_count": null,
   "id": "2c4e44a6",
   "metadata": {},
   "outputs": [],
   "source": []
  },
  {
   "cell_type": "code",
   "execution_count": null,
   "id": "a90b9432",
   "metadata": {},
   "outputs": [],
   "source": []
  },
  {
   "cell_type": "code",
   "execution_count": null,
   "id": "8c1a53a6",
   "metadata": {},
   "outputs": [],
   "source": []
  },
  {
   "cell_type": "code",
   "execution_count": null,
   "id": "f8ddec9b",
   "metadata": {},
   "outputs": [],
   "source": []
  },
  {
   "cell_type": "code",
   "execution_count": null,
   "id": "79e68fd2",
   "metadata": {},
   "outputs": [],
   "source": []
  },
  {
   "cell_type": "code",
   "execution_count": null,
   "id": "7109d68c",
   "metadata": {},
   "outputs": [],
   "source": []
  },
  {
   "cell_type": "code",
   "execution_count": null,
   "id": "8fe38a44",
   "metadata": {},
   "outputs": [],
   "source": []
  },
  {
   "cell_type": "code",
   "execution_count": null,
   "id": "5c4e1c1f",
   "metadata": {},
   "outputs": [],
   "source": []
  },
  {
   "cell_type": "code",
   "execution_count": null,
   "id": "d956e842",
   "metadata": {},
   "outputs": [],
   "source": []
  },
  {
   "cell_type": "code",
   "execution_count": null,
   "id": "b863b2f1",
   "metadata": {},
   "outputs": [],
   "source": []
  },
  {
   "cell_type": "code",
   "execution_count": null,
   "id": "2653cc57",
   "metadata": {},
   "outputs": [],
   "source": []
  },
  {
   "cell_type": "code",
   "execution_count": null,
   "id": "68bf38b7",
   "metadata": {},
   "outputs": [],
   "source": []
  },
  {
   "cell_type": "code",
   "execution_count": null,
   "id": "87adc99b",
   "metadata": {},
   "outputs": [],
   "source": []
  }
 ],
 "metadata": {
  "kernelspec": {
   "display_name": "venv",
   "language": "python",
   "name": "python3"
  },
  "language_info": {
   "codemirror_mode": {
    "name": "ipython",
    "version": 3
   },
   "file_extension": ".py",
   "mimetype": "text/x-python",
   "name": "python",
   "nbconvert_exporter": "python",
   "pygments_lexer": "ipython3",
   "version": "3.12.11"
  }
 },
 "nbformat": 4,
 "nbformat_minor": 5
}
